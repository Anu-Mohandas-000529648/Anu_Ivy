{
 "cells": [
  {
   "cell_type": "markdown",
   "id": "51cc0ffa-4f25-4800-a50d-29b6df56fcb9",
   "metadata": {},
   "source": [
    "#### importing numpy and pandas"
   ]
  },
  {
   "cell_type": "code",
   "execution_count": 640,
   "id": "7e79f7c3-04c6-4810-a57d-5f803594f5ca",
   "metadata": {},
   "outputs": [],
   "source": [
    "import pandas as pd\n",
    "import numpy as np"
   ]
  },
  {
   "cell_type": "code",
   "execution_count": 641,
   "id": "c73d744d-5693-4399-b89b-82c5986a62f4",
   "metadata": {},
   "outputs": [],
   "source": [
    "df = pd.read_csv(\"combined - Sheet1.csv\")"
   ]
  },
  {
   "cell_type": "code",
   "execution_count": 642,
   "id": "938630b6-2966-43cd-ba86-92cf805cb58a",
   "metadata": {},
   "outputs": [
    {
     "data": {
      "text/html": [
       "<div>\n",
       "<style scoped>\n",
       "    .dataframe tbody tr th:only-of-type {\n",
       "        vertical-align: middle;\n",
       "    }\n",
       "\n",
       "    .dataframe tbody tr th {\n",
       "        vertical-align: top;\n",
       "    }\n",
       "\n",
       "    .dataframe thead th {\n",
       "        text-align: right;\n",
       "    }\n",
       "</style>\n",
       "<table border=\"1\" class=\"dataframe\">\n",
       "  <thead>\n",
       "    <tr style=\"text-align: right;\">\n",
       "      <th></th>\n",
       "      <th>URL</th>\n",
       "      <th>Address</th>\n",
       "      <th>bath rooms</th>\n",
       "      <th>bed rooms</th>\n",
       "      <th>built year</th>\n",
       "      <th>County</th>\n",
       "      <th>garage space</th>\n",
       "      <th>lot size</th>\n",
       "      <th>number of kitchen</th>\n",
       "      <th>Price</th>\n",
       "      <th>price per squar feet</th>\n",
       "      <th>property type</th>\n",
       "      <th>squarefeet</th>\n",
       "      <th>State</th>\n",
       "    </tr>\n",
       "  </thead>\n",
       "  <tbody>\n",
       "    <tr>\n",
       "      <th>0</th>\n",
       "      <td>https://www.zillow.com/homedetails/234-Heise-C...</td>\n",
       "      <td>234 Heise CRESCENT, Saskatoon, SK S7M 4Y8</td>\n",
       "      <td>3</td>\n",
       "      <td>3</td>\n",
       "      <td>Built in 1979</td>\n",
       "      <td>Division No. 11</td>\n",
       "      <td>Garage spaces: 1</td>\n",
       "      <td>5,741 sqft lot</td>\n",
       "      <td>Description: Number of Kitchens: 1</td>\n",
       "      <td>C$309,000</td>\n",
       "      <td>C$240/sqft</td>\n",
       "      <td>Single Family Residence</td>\n",
       "      <td>1,290</td>\n",
       "      <td>Saskatchewan</td>\n",
       "    </tr>\n",
       "    <tr>\n",
       "      <th>1</th>\n",
       "      <td>https://www.zillow.com/homedetails/326-Ottawa-...</td>\n",
       "      <td>326 Ottawa AVENUE N, Saskatoon, SK S7L 3P1</td>\n",
       "      <td>2</td>\n",
       "      <td>4</td>\n",
       "      <td>Built in 1960</td>\n",
       "      <td>Division No. 11</td>\n",
       "      <td>Garage spaces: 2</td>\n",
       "      <td>6,616 sqft lot</td>\n",
       "      <td>Description: Number of Kitchens: 1</td>\n",
       "      <td>C$319,900</td>\n",
       "      <td>C$338/sqft</td>\n",
       "      <td>Single Family Residence</td>\n",
       "      <td>947</td>\n",
       "      <td>Saskatchewan</td>\n",
       "    </tr>\n",
       "    <tr>\n",
       "      <th>2</th>\n",
       "      <td>https://www.zillow.com/homedetails/1019-Lansdo...</td>\n",
       "      <td>1019 Lansdowne AVENUE, Saskatoon, SK S7H 2C2</td>\n",
       "      <td>2</td>\n",
       "      <td>4</td>\n",
       "      <td>Built in 1946</td>\n",
       "      <td>Division No. 11</td>\n",
       "      <td>Has uncovered spaces: Yes</td>\n",
       "      <td>4,199 sqft lot</td>\n",
       "      <td>Description: Number of Kitchens: 2</td>\n",
       "      <td>C$450,000</td>\n",
       "      <td>C$551/sqft</td>\n",
       "      <td>Single Family Residence</td>\n",
       "      <td>816</td>\n",
       "      <td>Saskatchewan</td>\n",
       "    </tr>\n",
       "    <tr>\n",
       "      <th>3</th>\n",
       "      <td>https://www.zillow.com/homedetails/107-Brookda...</td>\n",
       "      <td>107 Brookdale CRESCENT, Saskatoon, SK S7V 1K5</td>\n",
       "      <td>3</td>\n",
       "      <td>3</td>\n",
       "      <td>Built in 2006</td>\n",
       "      <td>Division No. 11</td>\n",
       "      <td>Attached garage spaces: 2</td>\n",
       "      <td>6,128 sqft lot</td>\n",
       "      <td>Description: Number of Kitchens: 1</td>\n",
       "      <td>C$569,000</td>\n",
       "      <td>C$317/sqft</td>\n",
       "      <td>Retail</td>\n",
       "      <td>1,795</td>\n",
       "      <td>Saskatchewan</td>\n",
       "    </tr>\n",
       "    <tr>\n",
       "      <th>4</th>\n",
       "      <td>https://www.zillow.com/homedetails/1208-6th-Av...</td>\n",
       "      <td>1208 6th AVENUE N, Saskatoon, SK S7K 2T5</td>\n",
       "      <td>4</td>\n",
       "      <td>4</td>\n",
       "      <td>Built in 2006</td>\n",
       "      <td>Division No. 11</td>\n",
       "      <td>Garage spaces: 2</td>\n",
       "      <td>3,245 sqft lot</td>\n",
       "      <td>Description: Number of Kitchens: 1</td>\n",
       "      <td>C$465,000</td>\n",
       "      <td>C$344/sqft</td>\n",
       "      <td>Retail</td>\n",
       "      <td>1,350</td>\n",
       "      <td>Saskatchewan</td>\n",
       "    </tr>\n",
       "  </tbody>\n",
       "</table>\n",
       "</div>"
      ],
      "text/plain": [
       "                                                 URL  \\\n",
       "0  https://www.zillow.com/homedetails/234-Heise-C...   \n",
       "1  https://www.zillow.com/homedetails/326-Ottawa-...   \n",
       "2  https://www.zillow.com/homedetails/1019-Lansdo...   \n",
       "3  https://www.zillow.com/homedetails/107-Brookda...   \n",
       "4  https://www.zillow.com/homedetails/1208-6th-Av...   \n",
       "\n",
       "                                         Address bath rooms bed rooms  \\\n",
       "0      234 Heise CRESCENT, Saskatoon, SK S7M 4Y8          3         3   \n",
       "1     326 Ottawa AVENUE N, Saskatoon, SK S7L 3P1          2         4   \n",
       "2   1019 Lansdowne AVENUE, Saskatoon, SK S7H 2C2          2         4   \n",
       "3  107 Brookdale CRESCENT, Saskatoon, SK S7V 1K5          3         3   \n",
       "4       1208 6th AVENUE N, Saskatoon, SK S7K 2T5          4         4   \n",
       "\n",
       "      built year           County               garage space        lot size  \\\n",
       "0  Built in 1979  Division No. 11           Garage spaces: 1  5,741 sqft lot   \n",
       "1  Built in 1960  Division No. 11           Garage spaces: 2  6,616 sqft lot   \n",
       "2  Built in 1946  Division No. 11  Has uncovered spaces: Yes  4,199 sqft lot   \n",
       "3  Built in 2006  Division No. 11  Attached garage spaces: 2  6,128 sqft lot   \n",
       "4  Built in 2006  Division No. 11           Garage spaces: 2  3,245 sqft lot   \n",
       "\n",
       "                    number of kitchen      Price price per squar feet  \\\n",
       "0  Description: Number of Kitchens: 1  C$309,000           C$240/sqft   \n",
       "1  Description: Number of Kitchens: 1  C$319,900           C$338/sqft   \n",
       "2  Description: Number of Kitchens: 2  C$450,000           C$551/sqft   \n",
       "3  Description: Number of Kitchens: 1  C$569,000           C$317/sqft   \n",
       "4  Description: Number of Kitchens: 1  C$465,000           C$344/sqft   \n",
       "\n",
       "             property type squarefeet         State  \n",
       "0  Single Family Residence      1,290  Saskatchewan  \n",
       "1  Single Family Residence        947  Saskatchewan  \n",
       "2  Single Family Residence        816  Saskatchewan  \n",
       "3                   Retail      1,795  Saskatchewan  \n",
       "4                   Retail      1,350  Saskatchewan  "
      ]
     },
     "execution_count": 642,
     "metadata": {},
     "output_type": "execute_result"
    }
   ],
   "source": [
    "df.head()"
   ]
  },
  {
   "cell_type": "markdown",
   "id": "973caada-1241-455e-8b34-d1bd07dfe764",
   "metadata": {},
   "source": [
    "##### cheching size"
   ]
  },
  {
   "cell_type": "code",
   "execution_count": 643,
   "id": "d30c519e-4ecd-4802-9a3f-e2d3ab7f6069",
   "metadata": {},
   "outputs": [],
   "source": [
    "df_length = len(df)"
   ]
  },
  {
   "cell_type": "code",
   "execution_count": 644,
   "id": "4bd03971-47e8-46e5-aebd-0b95d7da87f4",
   "metadata": {},
   "outputs": [
    {
     "name": "stdout",
     "output_type": "stream",
     "text": [
      "1571\n"
     ]
    }
   ],
   "source": [
    "print(df_length)"
   ]
  },
  {
   "cell_type": "markdown",
   "id": "53886e01-f786-4265-b3b3-56ced2918f9a",
   "metadata": {},
   "source": [
    "#### checking shape"
   ]
  },
  {
   "cell_type": "code",
   "execution_count": 645,
   "id": "218199a5-73b6-4e56-80d7-c0ad3510c91d",
   "metadata": {},
   "outputs": [
    {
     "data": {
      "text/plain": [
       "(1571, 14)"
      ]
     },
     "execution_count": 645,
     "metadata": {},
     "output_type": "execute_result"
    }
   ],
   "source": [
    "df.shape"
   ]
  },
  {
   "cell_type": "code",
   "execution_count": 646,
   "id": "a514a851-541a-4d64-96df-6e382bfb8871",
   "metadata": {
    "scrolled": true
   },
   "outputs": [
    {
     "data": {
      "text/html": [
       "<div>\n",
       "<style scoped>\n",
       "    .dataframe tbody tr th:only-of-type {\n",
       "        vertical-align: middle;\n",
       "    }\n",
       "\n",
       "    .dataframe tbody tr th {\n",
       "        vertical-align: top;\n",
       "    }\n",
       "\n",
       "    .dataframe thead th {\n",
       "        text-align: right;\n",
       "    }\n",
       "</style>\n",
       "<table border=\"1\" class=\"dataframe\">\n",
       "  <thead>\n",
       "    <tr style=\"text-align: right;\">\n",
       "      <th></th>\n",
       "      <th>URL</th>\n",
       "      <th>Address</th>\n",
       "      <th>bath rooms</th>\n",
       "      <th>bed rooms</th>\n",
       "      <th>built year</th>\n",
       "      <th>County</th>\n",
       "      <th>garage space</th>\n",
       "      <th>lot size</th>\n",
       "      <th>number of kitchen</th>\n",
       "      <th>Price</th>\n",
       "      <th>price per squar feet</th>\n",
       "      <th>property type</th>\n",
       "      <th>squarefeet</th>\n",
       "      <th>State</th>\n",
       "    </tr>\n",
       "  </thead>\n",
       "  <tbody>\n",
       "    <tr>\n",
       "      <th>count</th>\n",
       "      <td>1571</td>\n",
       "      <td>1571</td>\n",
       "      <td>1571</td>\n",
       "      <td>1571</td>\n",
       "      <td>1571</td>\n",
       "      <td>1571</td>\n",
       "      <td>1403</td>\n",
       "      <td>1571</td>\n",
       "      <td>1516</td>\n",
       "      <td>1571</td>\n",
       "      <td>1571</td>\n",
       "      <td>1571</td>\n",
       "      <td>1571</td>\n",
       "      <td>1571</td>\n",
       "    </tr>\n",
       "    <tr>\n",
       "      <th>unique</th>\n",
       "      <td>1463</td>\n",
       "      <td>1463</td>\n",
       "      <td>8</td>\n",
       "      <td>12</td>\n",
       "      <td>116</td>\n",
       "      <td>2</td>\n",
       "      <td>40</td>\n",
       "      <td>535</td>\n",
       "      <td>17</td>\n",
       "      <td>588</td>\n",
       "      <td>435</td>\n",
       "      <td>10</td>\n",
       "      <td>893</td>\n",
       "      <td>1</td>\n",
       "    </tr>\n",
       "    <tr>\n",
       "      <th>top</th>\n",
       "      <td>https://www.zillow.com/homedetails/874-N-Seymo...</td>\n",
       "      <td>874 Seymour CRESCENT N, Regina, SK S4X 2G4</td>\n",
       "      <td>2</td>\n",
       "      <td>3</td>\n",
       "      <td>Built in 2024</td>\n",
       "      <td>Division No. 6</td>\n",
       "      <td>Attached garage spaces: 2</td>\n",
       "      <td>-- sqft lot</td>\n",
       "      <td>Description: Number of Kitchens: 1</td>\n",
       "      <td>C$329,900</td>\n",
       "      <td>C$--/sqft</td>\n",
       "      <td>Single Family Residence</td>\n",
       "      <td>--</td>\n",
       "      <td>Saskatchewan</td>\n",
       "    </tr>\n",
       "    <tr>\n",
       "      <th>freq</th>\n",
       "      <td>4</td>\n",
       "      <td>4</td>\n",
       "      <td>523</td>\n",
       "      <td>456</td>\n",
       "      <td>86</td>\n",
       "      <td>831</td>\n",
       "      <td>319</td>\n",
       "      <td>610</td>\n",
       "      <td>1272</td>\n",
       "      <td>28</td>\n",
       "      <td>75</td>\n",
       "      <td>629</td>\n",
       "      <td>14</td>\n",
       "      <td>1571</td>\n",
       "    </tr>\n",
       "  </tbody>\n",
       "</table>\n",
       "</div>"
      ],
      "text/plain": [
       "                                                      URL  \\\n",
       "count                                                1571   \n",
       "unique                                               1463   \n",
       "top     https://www.zillow.com/homedetails/874-N-Seymo...   \n",
       "freq                                                    4   \n",
       "\n",
       "                                           Address bath rooms bed rooms  \\\n",
       "count                                         1571       1571      1571   \n",
       "unique                                        1463          8        12   \n",
       "top     874 Seymour CRESCENT N, Regina, SK S4X 2G4          2         3   \n",
       "freq                                             4        523       456   \n",
       "\n",
       "           built year          County               garage space     lot size  \\\n",
       "count            1571            1571                       1403         1571   \n",
       "unique            116               2                         40          535   \n",
       "top     Built in 2024  Division No. 6  Attached garage spaces: 2  -- sqft lot   \n",
       "freq               86             831                        319          610   \n",
       "\n",
       "                         number of kitchen      Price price per squar feet  \\\n",
       "count                                 1516       1571                 1571   \n",
       "unique                                  17        588                  435   \n",
       "top     Description: Number of Kitchens: 1  C$329,900            C$--/sqft   \n",
       "freq                                  1272         28                   75   \n",
       "\n",
       "                  property type squarefeet         State  \n",
       "count                      1571       1571          1571  \n",
       "unique                       10        893             1  \n",
       "top     Single Family Residence         --  Saskatchewan  \n",
       "freq                        629         14          1571  "
      ]
     },
     "execution_count": 646,
     "metadata": {},
     "output_type": "execute_result"
    }
   ],
   "source": [
    "df.describe()"
   ]
  },
  {
   "cell_type": "markdown",
   "id": "1ce5e258-efe0-4d6c-9b79-aaac3dd71956",
   "metadata": {},
   "source": [
    "#### droping url and country columns as they dont need"
   ]
  },
  {
   "cell_type": "code",
   "execution_count": 647,
   "id": "331d0597-13cf-4c5a-8550-fdb01e19ebb9",
   "metadata": {},
   "outputs": [],
   "source": [
    "df = df.drop(columns=[\"URL\", \"County\"])"
   ]
  },
  {
   "cell_type": "code",
   "execution_count": 648,
   "id": "0456c10e-c64e-448d-8f6b-c75bc81ba407",
   "metadata": {
    "scrolled": true
   },
   "outputs": [
    {
     "data": {
      "text/html": [
       "<div>\n",
       "<style scoped>\n",
       "    .dataframe tbody tr th:only-of-type {\n",
       "        vertical-align: middle;\n",
       "    }\n",
       "\n",
       "    .dataframe tbody tr th {\n",
       "        vertical-align: top;\n",
       "    }\n",
       "\n",
       "    .dataframe thead th {\n",
       "        text-align: right;\n",
       "    }\n",
       "</style>\n",
       "<table border=\"1\" class=\"dataframe\">\n",
       "  <thead>\n",
       "    <tr style=\"text-align: right;\">\n",
       "      <th></th>\n",
       "      <th>Address</th>\n",
       "      <th>bath rooms</th>\n",
       "      <th>bed rooms</th>\n",
       "      <th>built year</th>\n",
       "      <th>garage space</th>\n",
       "      <th>lot size</th>\n",
       "      <th>number of kitchen</th>\n",
       "      <th>Price</th>\n",
       "      <th>price per squar feet</th>\n",
       "      <th>property type</th>\n",
       "      <th>squarefeet</th>\n",
       "      <th>State</th>\n",
       "    </tr>\n",
       "  </thead>\n",
       "  <tbody>\n",
       "    <tr>\n",
       "      <th>0</th>\n",
       "      <td>234 Heise CRESCENT, Saskatoon, SK S7M 4Y8</td>\n",
       "      <td>3</td>\n",
       "      <td>3</td>\n",
       "      <td>Built in 1979</td>\n",
       "      <td>Garage spaces: 1</td>\n",
       "      <td>5,741 sqft lot</td>\n",
       "      <td>Description: Number of Kitchens: 1</td>\n",
       "      <td>C$309,000</td>\n",
       "      <td>C$240/sqft</td>\n",
       "      <td>Single Family Residence</td>\n",
       "      <td>1,290</td>\n",
       "      <td>Saskatchewan</td>\n",
       "    </tr>\n",
       "    <tr>\n",
       "      <th>1</th>\n",
       "      <td>326 Ottawa AVENUE N, Saskatoon, SK S7L 3P1</td>\n",
       "      <td>2</td>\n",
       "      <td>4</td>\n",
       "      <td>Built in 1960</td>\n",
       "      <td>Garage spaces: 2</td>\n",
       "      <td>6,616 sqft lot</td>\n",
       "      <td>Description: Number of Kitchens: 1</td>\n",
       "      <td>C$319,900</td>\n",
       "      <td>C$338/sqft</td>\n",
       "      <td>Single Family Residence</td>\n",
       "      <td>947</td>\n",
       "      <td>Saskatchewan</td>\n",
       "    </tr>\n",
       "    <tr>\n",
       "      <th>2</th>\n",
       "      <td>1019 Lansdowne AVENUE, Saskatoon, SK S7H 2C2</td>\n",
       "      <td>2</td>\n",
       "      <td>4</td>\n",
       "      <td>Built in 1946</td>\n",
       "      <td>Has uncovered spaces: Yes</td>\n",
       "      <td>4,199 sqft lot</td>\n",
       "      <td>Description: Number of Kitchens: 2</td>\n",
       "      <td>C$450,000</td>\n",
       "      <td>C$551/sqft</td>\n",
       "      <td>Single Family Residence</td>\n",
       "      <td>816</td>\n",
       "      <td>Saskatchewan</td>\n",
       "    </tr>\n",
       "    <tr>\n",
       "      <th>3</th>\n",
       "      <td>107 Brookdale CRESCENT, Saskatoon, SK S7V 1K5</td>\n",
       "      <td>3</td>\n",
       "      <td>3</td>\n",
       "      <td>Built in 2006</td>\n",
       "      <td>Attached garage spaces: 2</td>\n",
       "      <td>6,128 sqft lot</td>\n",
       "      <td>Description: Number of Kitchens: 1</td>\n",
       "      <td>C$569,000</td>\n",
       "      <td>C$317/sqft</td>\n",
       "      <td>Retail</td>\n",
       "      <td>1,795</td>\n",
       "      <td>Saskatchewan</td>\n",
       "    </tr>\n",
       "    <tr>\n",
       "      <th>4</th>\n",
       "      <td>1208 6th AVENUE N, Saskatoon, SK S7K 2T5</td>\n",
       "      <td>4</td>\n",
       "      <td>4</td>\n",
       "      <td>Built in 2006</td>\n",
       "      <td>Garage spaces: 2</td>\n",
       "      <td>3,245 sqft lot</td>\n",
       "      <td>Description: Number of Kitchens: 1</td>\n",
       "      <td>C$465,000</td>\n",
       "      <td>C$344/sqft</td>\n",
       "      <td>Retail</td>\n",
       "      <td>1,350</td>\n",
       "      <td>Saskatchewan</td>\n",
       "    </tr>\n",
       "  </tbody>\n",
       "</table>\n",
       "</div>"
      ],
      "text/plain": [
       "                                         Address bath rooms bed rooms  \\\n",
       "0      234 Heise CRESCENT, Saskatoon, SK S7M 4Y8          3         3   \n",
       "1     326 Ottawa AVENUE N, Saskatoon, SK S7L 3P1          2         4   \n",
       "2   1019 Lansdowne AVENUE, Saskatoon, SK S7H 2C2          2         4   \n",
       "3  107 Brookdale CRESCENT, Saskatoon, SK S7V 1K5          3         3   \n",
       "4       1208 6th AVENUE N, Saskatoon, SK S7K 2T5          4         4   \n",
       "\n",
       "      built year               garage space        lot size  \\\n",
       "0  Built in 1979           Garage spaces: 1  5,741 sqft lot   \n",
       "1  Built in 1960           Garage spaces: 2  6,616 sqft lot   \n",
       "2  Built in 1946  Has uncovered spaces: Yes  4,199 sqft lot   \n",
       "3  Built in 2006  Attached garage spaces: 2  6,128 sqft lot   \n",
       "4  Built in 2006           Garage spaces: 2  3,245 sqft lot   \n",
       "\n",
       "                    number of kitchen      Price price per squar feet  \\\n",
       "0  Description: Number of Kitchens: 1  C$309,000           C$240/sqft   \n",
       "1  Description: Number of Kitchens: 1  C$319,900           C$338/sqft   \n",
       "2  Description: Number of Kitchens: 2  C$450,000           C$551/sqft   \n",
       "3  Description: Number of Kitchens: 1  C$569,000           C$317/sqft   \n",
       "4  Description: Number of Kitchens: 1  C$465,000           C$344/sqft   \n",
       "\n",
       "             property type squarefeet         State  \n",
       "0  Single Family Residence      1,290  Saskatchewan  \n",
       "1  Single Family Residence        947  Saskatchewan  \n",
       "2  Single Family Residence        816  Saskatchewan  \n",
       "3                   Retail      1,795  Saskatchewan  \n",
       "4                   Retail      1,350  Saskatchewan  "
      ]
     },
     "execution_count": 648,
     "metadata": {},
     "output_type": "execute_result"
    }
   ],
   "source": [
    "df.head()"
   ]
  },
  {
   "cell_type": "markdown",
   "id": "58bf9f37-c3f7-4e52-a7a2-c10745dfc146",
   "metadata": {},
   "source": [
    "## cleaning price column"
   ]
  },
  {
   "cell_type": "code",
   "execution_count": 649,
   "id": "9ab4ecd0-be1d-4f54-aa0f-3b7c7dad07ae",
   "metadata": {},
   "outputs": [
    {
     "data": {
      "text/plain": [
       "(1571, 12)"
      ]
     },
     "execution_count": 649,
     "metadata": {},
     "output_type": "execute_result"
    }
   ],
   "source": [
    "df.shape"
   ]
  },
  {
   "cell_type": "code",
   "execution_count": 650,
   "id": "dddf0a35-98f2-4328-beae-317db3c0675e",
   "metadata": {},
   "outputs": [
    {
     "name": "stdout",
     "output_type": "stream",
     "text": [
      "object\n"
     ]
    }
   ],
   "source": [
    "print(df['Price'].dtype)\n"
   ]
  },
  {
   "cell_type": "markdown",
   "id": "1bc7fa05-bc51-4366-a802-aca95c14b5a4",
   "metadata": {},
   "source": [
    "#### Remove commas and the currency symbol, and convert the 'Price' column to a float data type"
   ]
  },
  {
   "cell_type": "code",
   "execution_count": 651,
   "id": "ab8a7c21-99a9-4f99-b57e-3ab056e0b9aa",
   "metadata": {},
   "outputs": [],
   "source": [
    "df['Price'] = df['Price'].str.replace('C$', '').str.replace(',', '').astype(float)"
   ]
  },
  {
   "cell_type": "code",
   "execution_count": 652,
   "id": "54d43ad1-175a-4ce0-9396-b22f69453fe3",
   "metadata": {},
   "outputs": [
    {
     "name": "stdout",
     "output_type": "stream",
     "text": [
      "float64\n"
     ]
    }
   ],
   "source": [
    "print(df['Price'].dtype)"
   ]
  },
  {
   "cell_type": "code",
   "execution_count": 653,
   "id": "936616ca-683b-4ec1-8f8c-03649cda6f1f",
   "metadata": {},
   "outputs": [],
   "source": [
    "# Calculate the first quartile (Q1) and the third quartile (Q3)\n",
    "# Q1 = df['Price'].quantile(0.25)\n",
    "# Q3 = df['Price'].quantile(0.75)\n",
    "\n",
    "# # Calculate the IQR\n",
    "# IQR = Q3 - Q1\n",
    "\n",
    "# # Define the lower and upper bounds for outliers\n",
    "# lower_bound = Q1 - 1.5 * IQR\n",
    "# upper_bound = Q3 + 1.5 * IQR\n",
    "\n",
    "# # Identify outliers\n",
    "# outliers = df[(df['Price'] < lower_bound) | (df['Price'] > upper_bound)]\n",
    "\n",
    "# # Print the outliers\n",
    "# print(outliers)"
   ]
  },
  {
   "cell_type": "code",
   "execution_count": 654,
   "id": "3733eeb5-c391-4b41-8121-23a54622ed67",
   "metadata": {
    "scrolled": true
   },
   "outputs": [
    {
     "data": {
      "text/html": [
       "<div>\n",
       "<style scoped>\n",
       "    .dataframe tbody tr th:only-of-type {\n",
       "        vertical-align: middle;\n",
       "    }\n",
       "\n",
       "    .dataframe tbody tr th {\n",
       "        vertical-align: top;\n",
       "    }\n",
       "\n",
       "    .dataframe thead th {\n",
       "        text-align: right;\n",
       "    }\n",
       "</style>\n",
       "<table border=\"1\" class=\"dataframe\">\n",
       "  <thead>\n",
       "    <tr style=\"text-align: right;\">\n",
       "      <th></th>\n",
       "      <th>Address</th>\n",
       "      <th>bath rooms</th>\n",
       "      <th>bed rooms</th>\n",
       "      <th>built year</th>\n",
       "      <th>garage space</th>\n",
       "      <th>lot size</th>\n",
       "      <th>number of kitchen</th>\n",
       "      <th>Price</th>\n",
       "      <th>price per squar feet</th>\n",
       "      <th>property type</th>\n",
       "      <th>squarefeet</th>\n",
       "      <th>State</th>\n",
       "    </tr>\n",
       "  </thead>\n",
       "  <tbody>\n",
       "    <tr>\n",
       "      <th>0</th>\n",
       "      <td>234 Heise CRESCENT, Saskatoon, SK S7M 4Y8</td>\n",
       "      <td>3</td>\n",
       "      <td>3</td>\n",
       "      <td>Built in 1979</td>\n",
       "      <td>Garage spaces: 1</td>\n",
       "      <td>5,741 sqft lot</td>\n",
       "      <td>Description: Number of Kitchens: 1</td>\n",
       "      <td>309000.0</td>\n",
       "      <td>C$240/sqft</td>\n",
       "      <td>Single Family Residence</td>\n",
       "      <td>1,290</td>\n",
       "      <td>Saskatchewan</td>\n",
       "    </tr>\n",
       "    <tr>\n",
       "      <th>1</th>\n",
       "      <td>326 Ottawa AVENUE N, Saskatoon, SK S7L 3P1</td>\n",
       "      <td>2</td>\n",
       "      <td>4</td>\n",
       "      <td>Built in 1960</td>\n",
       "      <td>Garage spaces: 2</td>\n",
       "      <td>6,616 sqft lot</td>\n",
       "      <td>Description: Number of Kitchens: 1</td>\n",
       "      <td>319900.0</td>\n",
       "      <td>C$338/sqft</td>\n",
       "      <td>Single Family Residence</td>\n",
       "      <td>947</td>\n",
       "      <td>Saskatchewan</td>\n",
       "    </tr>\n",
       "    <tr>\n",
       "      <th>2</th>\n",
       "      <td>1019 Lansdowne AVENUE, Saskatoon, SK S7H 2C2</td>\n",
       "      <td>2</td>\n",
       "      <td>4</td>\n",
       "      <td>Built in 1946</td>\n",
       "      <td>Has uncovered spaces: Yes</td>\n",
       "      <td>4,199 sqft lot</td>\n",
       "      <td>Description: Number of Kitchens: 2</td>\n",
       "      <td>450000.0</td>\n",
       "      <td>C$551/sqft</td>\n",
       "      <td>Single Family Residence</td>\n",
       "      <td>816</td>\n",
       "      <td>Saskatchewan</td>\n",
       "    </tr>\n",
       "    <tr>\n",
       "      <th>3</th>\n",
       "      <td>107 Brookdale CRESCENT, Saskatoon, SK S7V 1K5</td>\n",
       "      <td>3</td>\n",
       "      <td>3</td>\n",
       "      <td>Built in 2006</td>\n",
       "      <td>Attached garage spaces: 2</td>\n",
       "      <td>6,128 sqft lot</td>\n",
       "      <td>Description: Number of Kitchens: 1</td>\n",
       "      <td>569000.0</td>\n",
       "      <td>C$317/sqft</td>\n",
       "      <td>Retail</td>\n",
       "      <td>1,795</td>\n",
       "      <td>Saskatchewan</td>\n",
       "    </tr>\n",
       "    <tr>\n",
       "      <th>4</th>\n",
       "      <td>1208 6th AVENUE N, Saskatoon, SK S7K 2T5</td>\n",
       "      <td>4</td>\n",
       "      <td>4</td>\n",
       "      <td>Built in 2006</td>\n",
       "      <td>Garage spaces: 2</td>\n",
       "      <td>3,245 sqft lot</td>\n",
       "      <td>Description: Number of Kitchens: 1</td>\n",
       "      <td>465000.0</td>\n",
       "      <td>C$344/sqft</td>\n",
       "      <td>Retail</td>\n",
       "      <td>1,350</td>\n",
       "      <td>Saskatchewan</td>\n",
       "    </tr>\n",
       "  </tbody>\n",
       "</table>\n",
       "</div>"
      ],
      "text/plain": [
       "                                         Address bath rooms bed rooms  \\\n",
       "0      234 Heise CRESCENT, Saskatoon, SK S7M 4Y8          3         3   \n",
       "1     326 Ottawa AVENUE N, Saskatoon, SK S7L 3P1          2         4   \n",
       "2   1019 Lansdowne AVENUE, Saskatoon, SK S7H 2C2          2         4   \n",
       "3  107 Brookdale CRESCENT, Saskatoon, SK S7V 1K5          3         3   \n",
       "4       1208 6th AVENUE N, Saskatoon, SK S7K 2T5          4         4   \n",
       "\n",
       "      built year               garage space        lot size  \\\n",
       "0  Built in 1979           Garage spaces: 1  5,741 sqft lot   \n",
       "1  Built in 1960           Garage spaces: 2  6,616 sqft lot   \n",
       "2  Built in 1946  Has uncovered spaces: Yes  4,199 sqft lot   \n",
       "3  Built in 2006  Attached garage spaces: 2  6,128 sqft lot   \n",
       "4  Built in 2006           Garage spaces: 2  3,245 sqft lot   \n",
       "\n",
       "                    number of kitchen     Price price per squar feet  \\\n",
       "0  Description: Number of Kitchens: 1  309000.0           C$240/sqft   \n",
       "1  Description: Number of Kitchens: 1  319900.0           C$338/sqft   \n",
       "2  Description: Number of Kitchens: 2  450000.0           C$551/sqft   \n",
       "3  Description: Number of Kitchens: 1  569000.0           C$317/sqft   \n",
       "4  Description: Number of Kitchens: 1  465000.0           C$344/sqft   \n",
       "\n",
       "             property type squarefeet         State  \n",
       "0  Single Family Residence      1,290  Saskatchewan  \n",
       "1  Single Family Residence        947  Saskatchewan  \n",
       "2  Single Family Residence        816  Saskatchewan  \n",
       "3                   Retail      1,795  Saskatchewan  \n",
       "4                   Retail      1,350  Saskatchewan  "
      ]
     },
     "execution_count": 654,
     "metadata": {},
     "output_type": "execute_result"
    }
   ],
   "source": [
    "df.head()"
   ]
  },
  {
   "cell_type": "code",
   "execution_count": 655,
   "id": "a24f67c9-ff53-4315-a6ba-b53db23243d0",
   "metadata": {},
   "outputs": [
    {
     "data": {
      "text/plain": [
       "41"
      ]
     },
     "execution_count": 655,
     "metadata": {},
     "output_type": "execute_result"
    }
   ],
   "source": [
    "len(df['garage space'].unique())"
   ]
  },
  {
   "cell_type": "code",
   "execution_count": 656,
   "id": "2047c127-17d5-4b4e-a6dd-97d4fcca9bb1",
   "metadata": {},
   "outputs": [
    {
     "data": {
      "text/html": [
       "<div>\n",
       "<style scoped>\n",
       "    .dataframe tbody tr th:only-of-type {\n",
       "        vertical-align: middle;\n",
       "    }\n",
       "\n",
       "    .dataframe tbody tr th {\n",
       "        vertical-align: top;\n",
       "    }\n",
       "\n",
       "    .dataframe thead th {\n",
       "        text-align: right;\n",
       "    }\n",
       "</style>\n",
       "<table border=\"1\" class=\"dataframe\">\n",
       "  <thead>\n",
       "    <tr style=\"text-align: right;\">\n",
       "      <th></th>\n",
       "      <th>Address</th>\n",
       "      <th>bath rooms</th>\n",
       "      <th>bed rooms</th>\n",
       "      <th>built year</th>\n",
       "      <th>garage space</th>\n",
       "      <th>lot size</th>\n",
       "      <th>number of kitchen</th>\n",
       "      <th>Price</th>\n",
       "      <th>price per squar feet</th>\n",
       "      <th>property type</th>\n",
       "      <th>squarefeet</th>\n",
       "      <th>State</th>\n",
       "    </tr>\n",
       "  </thead>\n",
       "  <tbody>\n",
       "    <tr>\n",
       "      <th>0</th>\n",
       "      <td>234 Heise CRESCENT, Saskatoon, SK S7M 4Y8</td>\n",
       "      <td>3</td>\n",
       "      <td>3</td>\n",
       "      <td>Built in 1979</td>\n",
       "      <td>Garage spaces: 1</td>\n",
       "      <td>5,741 sqft lot</td>\n",
       "      <td>Description: Number of Kitchens: 1</td>\n",
       "      <td>309000.0</td>\n",
       "      <td>C$240/sqft</td>\n",
       "      <td>Single Family Residence</td>\n",
       "      <td>1,290</td>\n",
       "      <td>Saskatchewan</td>\n",
       "    </tr>\n",
       "    <tr>\n",
       "      <th>1</th>\n",
       "      <td>326 Ottawa AVENUE N, Saskatoon, SK S7L 3P1</td>\n",
       "      <td>2</td>\n",
       "      <td>4</td>\n",
       "      <td>Built in 1960</td>\n",
       "      <td>Garage spaces: 2</td>\n",
       "      <td>6,616 sqft lot</td>\n",
       "      <td>Description: Number of Kitchens: 1</td>\n",
       "      <td>319900.0</td>\n",
       "      <td>C$338/sqft</td>\n",
       "      <td>Single Family Residence</td>\n",
       "      <td>947</td>\n",
       "      <td>Saskatchewan</td>\n",
       "    </tr>\n",
       "    <tr>\n",
       "      <th>2</th>\n",
       "      <td>1019 Lansdowne AVENUE, Saskatoon, SK S7H 2C2</td>\n",
       "      <td>2</td>\n",
       "      <td>4</td>\n",
       "      <td>Built in 1946</td>\n",
       "      <td>Has uncovered spaces: Yes</td>\n",
       "      <td>4,199 sqft lot</td>\n",
       "      <td>Description: Number of Kitchens: 2</td>\n",
       "      <td>450000.0</td>\n",
       "      <td>C$551/sqft</td>\n",
       "      <td>Single Family Residence</td>\n",
       "      <td>816</td>\n",
       "      <td>Saskatchewan</td>\n",
       "    </tr>\n",
       "    <tr>\n",
       "      <th>3</th>\n",
       "      <td>107 Brookdale CRESCENT, Saskatoon, SK S7V 1K5</td>\n",
       "      <td>3</td>\n",
       "      <td>3</td>\n",
       "      <td>Built in 2006</td>\n",
       "      <td>Attached garage spaces: 2</td>\n",
       "      <td>6,128 sqft lot</td>\n",
       "      <td>Description: Number of Kitchens: 1</td>\n",
       "      <td>569000.0</td>\n",
       "      <td>C$317/sqft</td>\n",
       "      <td>Retail</td>\n",
       "      <td>1,795</td>\n",
       "      <td>Saskatchewan</td>\n",
       "    </tr>\n",
       "    <tr>\n",
       "      <th>4</th>\n",
       "      <td>1208 6th AVENUE N, Saskatoon, SK S7K 2T5</td>\n",
       "      <td>4</td>\n",
       "      <td>4</td>\n",
       "      <td>Built in 2006</td>\n",
       "      <td>Garage spaces: 2</td>\n",
       "      <td>3,245 sqft lot</td>\n",
       "      <td>Description: Number of Kitchens: 1</td>\n",
       "      <td>465000.0</td>\n",
       "      <td>C$344/sqft</td>\n",
       "      <td>Retail</td>\n",
       "      <td>1,350</td>\n",
       "      <td>Saskatchewan</td>\n",
       "    </tr>\n",
       "  </tbody>\n",
       "</table>\n",
       "</div>"
      ],
      "text/plain": [
       "                                         Address bath rooms bed rooms  \\\n",
       "0      234 Heise CRESCENT, Saskatoon, SK S7M 4Y8          3         3   \n",
       "1     326 Ottawa AVENUE N, Saskatoon, SK S7L 3P1          2         4   \n",
       "2   1019 Lansdowne AVENUE, Saskatoon, SK S7H 2C2          2         4   \n",
       "3  107 Brookdale CRESCENT, Saskatoon, SK S7V 1K5          3         3   \n",
       "4       1208 6th AVENUE N, Saskatoon, SK S7K 2T5          4         4   \n",
       "\n",
       "      built year               garage space        lot size  \\\n",
       "0  Built in 1979           Garage spaces: 1  5,741 sqft lot   \n",
       "1  Built in 1960           Garage spaces: 2  6,616 sqft lot   \n",
       "2  Built in 1946  Has uncovered spaces: Yes  4,199 sqft lot   \n",
       "3  Built in 2006  Attached garage spaces: 2  6,128 sqft lot   \n",
       "4  Built in 2006           Garage spaces: 2  3,245 sqft lot   \n",
       "\n",
       "                    number of kitchen     Price price per squar feet  \\\n",
       "0  Description: Number of Kitchens: 1  309000.0           C$240/sqft   \n",
       "1  Description: Number of Kitchens: 1  319900.0           C$338/sqft   \n",
       "2  Description: Number of Kitchens: 2  450000.0           C$551/sqft   \n",
       "3  Description: Number of Kitchens: 1  569000.0           C$317/sqft   \n",
       "4  Description: Number of Kitchens: 1  465000.0           C$344/sqft   \n",
       "\n",
       "             property type squarefeet         State  \n",
       "0  Single Family Residence      1,290  Saskatchewan  \n",
       "1  Single Family Residence        947  Saskatchewan  \n",
       "2  Single Family Residence        816  Saskatchewan  \n",
       "3                   Retail      1,795  Saskatchewan  \n",
       "4                   Retail      1,350  Saskatchewan  "
      ]
     },
     "execution_count": 656,
     "metadata": {},
     "output_type": "execute_result"
    }
   ],
   "source": [
    "df.head()"
   ]
  },
  {
   "cell_type": "code",
   "execution_count": 657,
   "id": "b56c8eaf-a9b2-4d1c-8e59-96340d1cc72d",
   "metadata": {},
   "outputs": [],
   "source": [
    "# 1. Square Feet Formatting\n",
    "# Remove commas and convert to numeric, forcing errors to NaN\n",
    "df['squarefeet'] = pd.to_numeric(df['squarefeet'].str.replace(',', ''), errors='coerce')\n"
   ]
  },
  {
   "cell_type": "code",
   "execution_count": 658,
   "id": "60511be3-d1f0-4b64-96fa-b18e0e7a7ee0",
   "metadata": {},
   "outputs": [
    {
     "data": {
      "text/html": [
       "<div>\n",
       "<style scoped>\n",
       "    .dataframe tbody tr th:only-of-type {\n",
       "        vertical-align: middle;\n",
       "    }\n",
       "\n",
       "    .dataframe tbody tr th {\n",
       "        vertical-align: top;\n",
       "    }\n",
       "\n",
       "    .dataframe thead th {\n",
       "        text-align: right;\n",
       "    }\n",
       "</style>\n",
       "<table border=\"1\" class=\"dataframe\">\n",
       "  <thead>\n",
       "    <tr style=\"text-align: right;\">\n",
       "      <th></th>\n",
       "      <th>Address</th>\n",
       "      <th>bath rooms</th>\n",
       "      <th>bed rooms</th>\n",
       "      <th>built year</th>\n",
       "      <th>garage space</th>\n",
       "      <th>lot size</th>\n",
       "      <th>number of kitchen</th>\n",
       "      <th>Price</th>\n",
       "      <th>price per squar feet</th>\n",
       "      <th>property type</th>\n",
       "      <th>squarefeet</th>\n",
       "      <th>State</th>\n",
       "    </tr>\n",
       "  </thead>\n",
       "  <tbody>\n",
       "    <tr>\n",
       "      <th>0</th>\n",
       "      <td>234 Heise CRESCENT, Saskatoon, SK S7M 4Y8</td>\n",
       "      <td>3</td>\n",
       "      <td>3</td>\n",
       "      <td>Built in 1979</td>\n",
       "      <td>Garage spaces: 1</td>\n",
       "      <td>5,741 sqft lot</td>\n",
       "      <td>Description: Number of Kitchens: 1</td>\n",
       "      <td>309000.0</td>\n",
       "      <td>C$240/sqft</td>\n",
       "      <td>Single Family Residence</td>\n",
       "      <td>1290.0</td>\n",
       "      <td>Saskatchewan</td>\n",
       "    </tr>\n",
       "    <tr>\n",
       "      <th>1</th>\n",
       "      <td>326 Ottawa AVENUE N, Saskatoon, SK S7L 3P1</td>\n",
       "      <td>2</td>\n",
       "      <td>4</td>\n",
       "      <td>Built in 1960</td>\n",
       "      <td>Garage spaces: 2</td>\n",
       "      <td>6,616 sqft lot</td>\n",
       "      <td>Description: Number of Kitchens: 1</td>\n",
       "      <td>319900.0</td>\n",
       "      <td>C$338/sqft</td>\n",
       "      <td>Single Family Residence</td>\n",
       "      <td>947.0</td>\n",
       "      <td>Saskatchewan</td>\n",
       "    </tr>\n",
       "    <tr>\n",
       "      <th>2</th>\n",
       "      <td>1019 Lansdowne AVENUE, Saskatoon, SK S7H 2C2</td>\n",
       "      <td>2</td>\n",
       "      <td>4</td>\n",
       "      <td>Built in 1946</td>\n",
       "      <td>Has uncovered spaces: Yes</td>\n",
       "      <td>4,199 sqft lot</td>\n",
       "      <td>Description: Number of Kitchens: 2</td>\n",
       "      <td>450000.0</td>\n",
       "      <td>C$551/sqft</td>\n",
       "      <td>Single Family Residence</td>\n",
       "      <td>816.0</td>\n",
       "      <td>Saskatchewan</td>\n",
       "    </tr>\n",
       "    <tr>\n",
       "      <th>3</th>\n",
       "      <td>107 Brookdale CRESCENT, Saskatoon, SK S7V 1K5</td>\n",
       "      <td>3</td>\n",
       "      <td>3</td>\n",
       "      <td>Built in 2006</td>\n",
       "      <td>Attached garage spaces: 2</td>\n",
       "      <td>6,128 sqft lot</td>\n",
       "      <td>Description: Number of Kitchens: 1</td>\n",
       "      <td>569000.0</td>\n",
       "      <td>C$317/sqft</td>\n",
       "      <td>Retail</td>\n",
       "      <td>1795.0</td>\n",
       "      <td>Saskatchewan</td>\n",
       "    </tr>\n",
       "    <tr>\n",
       "      <th>4</th>\n",
       "      <td>1208 6th AVENUE N, Saskatoon, SK S7K 2T5</td>\n",
       "      <td>4</td>\n",
       "      <td>4</td>\n",
       "      <td>Built in 2006</td>\n",
       "      <td>Garage spaces: 2</td>\n",
       "      <td>3,245 sqft lot</td>\n",
       "      <td>Description: Number of Kitchens: 1</td>\n",
       "      <td>465000.0</td>\n",
       "      <td>C$344/sqft</td>\n",
       "      <td>Retail</td>\n",
       "      <td>1350.0</td>\n",
       "      <td>Saskatchewan</td>\n",
       "    </tr>\n",
       "  </tbody>\n",
       "</table>\n",
       "</div>"
      ],
      "text/plain": [
       "                                         Address bath rooms bed rooms  \\\n",
       "0      234 Heise CRESCENT, Saskatoon, SK S7M 4Y8          3         3   \n",
       "1     326 Ottawa AVENUE N, Saskatoon, SK S7L 3P1          2         4   \n",
       "2   1019 Lansdowne AVENUE, Saskatoon, SK S7H 2C2          2         4   \n",
       "3  107 Brookdale CRESCENT, Saskatoon, SK S7V 1K5          3         3   \n",
       "4       1208 6th AVENUE N, Saskatoon, SK S7K 2T5          4         4   \n",
       "\n",
       "      built year               garage space        lot size  \\\n",
       "0  Built in 1979           Garage spaces: 1  5,741 sqft lot   \n",
       "1  Built in 1960           Garage spaces: 2  6,616 sqft lot   \n",
       "2  Built in 1946  Has uncovered spaces: Yes  4,199 sqft lot   \n",
       "3  Built in 2006  Attached garage spaces: 2  6,128 sqft lot   \n",
       "4  Built in 2006           Garage spaces: 2  3,245 sqft lot   \n",
       "\n",
       "                    number of kitchen     Price price per squar feet  \\\n",
       "0  Description: Number of Kitchens: 1  309000.0           C$240/sqft   \n",
       "1  Description: Number of Kitchens: 1  319900.0           C$338/sqft   \n",
       "2  Description: Number of Kitchens: 2  450000.0           C$551/sqft   \n",
       "3  Description: Number of Kitchens: 1  569000.0           C$317/sqft   \n",
       "4  Description: Number of Kitchens: 1  465000.0           C$344/sqft   \n",
       "\n",
       "             property type  squarefeet         State  \n",
       "0  Single Family Residence      1290.0  Saskatchewan  \n",
       "1  Single Family Residence       947.0  Saskatchewan  \n",
       "2  Single Family Residence       816.0  Saskatchewan  \n",
       "3                   Retail      1795.0  Saskatchewan  \n",
       "4                   Retail      1350.0  Saskatchewan  "
      ]
     },
     "execution_count": 658,
     "metadata": {},
     "output_type": "execute_result"
    }
   ],
   "source": [
    "df.head()"
   ]
  },
  {
   "cell_type": "code",
   "execution_count": 659,
   "id": "e20a45f3-9d30-4adf-8dcd-168614593012",
   "metadata": {},
   "outputs": [
    {
     "data": {
      "text/plain": [
       "array(['Single Family Residence', 'Retail', 'Condominium', 'Duplex',\n",
       "       'Townhouse', 'Manufactured Home', 'Warehouse', 'Unimproved Land',\n",
       "       'Multi Family', 'Quadruplex'], dtype=object)"
      ]
     },
     "execution_count": 659,
     "metadata": {},
     "output_type": "execute_result"
    }
   ],
   "source": [
    "df['property type'].unique()"
   ]
  },
  {
   "cell_type": "markdown",
   "id": "7892b499-f3f7-4d82-b0e7-0cec12522687",
   "metadata": {},
   "source": [
    "### renaming column name for readability"
   ]
  },
  {
   "cell_type": "code",
   "execution_count": 660,
   "id": "1159a623-6ee4-444a-9281-031c365221ae",
   "metadata": {},
   "outputs": [],
   "source": [
    "df = df.rename(columns={\n",
    "    \"bath rooms\": \"Bathrooms\",\n",
    "    \"bed rooms\": \"Bedrooms\",\n",
    "    \"built year\": \"Built Year\",\n",
    "    \"garage space\": \"Garage Space\",\n",
    "    \"lot size\": \"Lot Size (sqft)\",\n",
    "    \"number of kitchen\": \"Kitchens\",\n",
    "    \"price per squar feet\": \"Price per Sqft\",\n",
    "    \"property type\": \"Property Type\",\n",
    "    \"squarefeet\": \"Square Feet\"\n",
    "})"
   ]
  },
  {
   "cell_type": "code",
   "execution_count": 661,
   "id": "f57f8ecc-f7ba-43e1-ae8b-a807cedecdac",
   "metadata": {},
   "outputs": [
    {
     "data": {
      "text/html": [
       "<div>\n",
       "<style scoped>\n",
       "    .dataframe tbody tr th:only-of-type {\n",
       "        vertical-align: middle;\n",
       "    }\n",
       "\n",
       "    .dataframe tbody tr th {\n",
       "        vertical-align: top;\n",
       "    }\n",
       "\n",
       "    .dataframe thead th {\n",
       "        text-align: right;\n",
       "    }\n",
       "</style>\n",
       "<table border=\"1\" class=\"dataframe\">\n",
       "  <thead>\n",
       "    <tr style=\"text-align: right;\">\n",
       "      <th></th>\n",
       "      <th>Address</th>\n",
       "      <th>Bathrooms</th>\n",
       "      <th>Bedrooms</th>\n",
       "      <th>Built Year</th>\n",
       "      <th>Garage Space</th>\n",
       "      <th>Lot Size (sqft)</th>\n",
       "      <th>Kitchens</th>\n",
       "      <th>Price</th>\n",
       "      <th>Price per Sqft</th>\n",
       "      <th>Property Type</th>\n",
       "      <th>Square Feet</th>\n",
       "      <th>State</th>\n",
       "    </tr>\n",
       "  </thead>\n",
       "  <tbody>\n",
       "    <tr>\n",
       "      <th>0</th>\n",
       "      <td>234 Heise CRESCENT, Saskatoon, SK S7M 4Y8</td>\n",
       "      <td>3</td>\n",
       "      <td>3</td>\n",
       "      <td>Built in 1979</td>\n",
       "      <td>Garage spaces: 1</td>\n",
       "      <td>5,741 sqft lot</td>\n",
       "      <td>Description: Number of Kitchens: 1</td>\n",
       "      <td>309000.0</td>\n",
       "      <td>C$240/sqft</td>\n",
       "      <td>Single Family Residence</td>\n",
       "      <td>1290.0</td>\n",
       "      <td>Saskatchewan</td>\n",
       "    </tr>\n",
       "    <tr>\n",
       "      <th>1</th>\n",
       "      <td>326 Ottawa AVENUE N, Saskatoon, SK S7L 3P1</td>\n",
       "      <td>2</td>\n",
       "      <td>4</td>\n",
       "      <td>Built in 1960</td>\n",
       "      <td>Garage spaces: 2</td>\n",
       "      <td>6,616 sqft lot</td>\n",
       "      <td>Description: Number of Kitchens: 1</td>\n",
       "      <td>319900.0</td>\n",
       "      <td>C$338/sqft</td>\n",
       "      <td>Single Family Residence</td>\n",
       "      <td>947.0</td>\n",
       "      <td>Saskatchewan</td>\n",
       "    </tr>\n",
       "    <tr>\n",
       "      <th>2</th>\n",
       "      <td>1019 Lansdowne AVENUE, Saskatoon, SK S7H 2C2</td>\n",
       "      <td>2</td>\n",
       "      <td>4</td>\n",
       "      <td>Built in 1946</td>\n",
       "      <td>Has uncovered spaces: Yes</td>\n",
       "      <td>4,199 sqft lot</td>\n",
       "      <td>Description: Number of Kitchens: 2</td>\n",
       "      <td>450000.0</td>\n",
       "      <td>C$551/sqft</td>\n",
       "      <td>Single Family Residence</td>\n",
       "      <td>816.0</td>\n",
       "      <td>Saskatchewan</td>\n",
       "    </tr>\n",
       "    <tr>\n",
       "      <th>3</th>\n",
       "      <td>107 Brookdale CRESCENT, Saskatoon, SK S7V 1K5</td>\n",
       "      <td>3</td>\n",
       "      <td>3</td>\n",
       "      <td>Built in 2006</td>\n",
       "      <td>Attached garage spaces: 2</td>\n",
       "      <td>6,128 sqft lot</td>\n",
       "      <td>Description: Number of Kitchens: 1</td>\n",
       "      <td>569000.0</td>\n",
       "      <td>C$317/sqft</td>\n",
       "      <td>Retail</td>\n",
       "      <td>1795.0</td>\n",
       "      <td>Saskatchewan</td>\n",
       "    </tr>\n",
       "    <tr>\n",
       "      <th>4</th>\n",
       "      <td>1208 6th AVENUE N, Saskatoon, SK S7K 2T5</td>\n",
       "      <td>4</td>\n",
       "      <td>4</td>\n",
       "      <td>Built in 2006</td>\n",
       "      <td>Garage spaces: 2</td>\n",
       "      <td>3,245 sqft lot</td>\n",
       "      <td>Description: Number of Kitchens: 1</td>\n",
       "      <td>465000.0</td>\n",
       "      <td>C$344/sqft</td>\n",
       "      <td>Retail</td>\n",
       "      <td>1350.0</td>\n",
       "      <td>Saskatchewan</td>\n",
       "    </tr>\n",
       "  </tbody>\n",
       "</table>\n",
       "</div>"
      ],
      "text/plain": [
       "                                         Address Bathrooms Bedrooms  \\\n",
       "0      234 Heise CRESCENT, Saskatoon, SK S7M 4Y8         3        3   \n",
       "1     326 Ottawa AVENUE N, Saskatoon, SK S7L 3P1         2        4   \n",
       "2   1019 Lansdowne AVENUE, Saskatoon, SK S7H 2C2         2        4   \n",
       "3  107 Brookdale CRESCENT, Saskatoon, SK S7V 1K5         3        3   \n",
       "4       1208 6th AVENUE N, Saskatoon, SK S7K 2T5         4        4   \n",
       "\n",
       "      Built Year               Garage Space Lot Size (sqft)  \\\n",
       "0  Built in 1979           Garage spaces: 1  5,741 sqft lot   \n",
       "1  Built in 1960           Garage spaces: 2  6,616 sqft lot   \n",
       "2  Built in 1946  Has uncovered spaces: Yes  4,199 sqft lot   \n",
       "3  Built in 2006  Attached garage spaces: 2  6,128 sqft lot   \n",
       "4  Built in 2006           Garage spaces: 2  3,245 sqft lot   \n",
       "\n",
       "                             Kitchens     Price Price per Sqft  \\\n",
       "0  Description: Number of Kitchens: 1  309000.0     C$240/sqft   \n",
       "1  Description: Number of Kitchens: 1  319900.0     C$338/sqft   \n",
       "2  Description: Number of Kitchens: 2  450000.0     C$551/sqft   \n",
       "3  Description: Number of Kitchens: 1  569000.0     C$317/sqft   \n",
       "4  Description: Number of Kitchens: 1  465000.0     C$344/sqft   \n",
       "\n",
       "             Property Type  Square Feet         State  \n",
       "0  Single Family Residence       1290.0  Saskatchewan  \n",
       "1  Single Family Residence        947.0  Saskatchewan  \n",
       "2  Single Family Residence        816.0  Saskatchewan  \n",
       "3                   Retail       1795.0  Saskatchewan  \n",
       "4                   Retail       1350.0  Saskatchewan  "
      ]
     },
     "execution_count": 661,
     "metadata": {},
     "output_type": "execute_result"
    }
   ],
   "source": [
    "df.head()"
   ]
  },
  {
   "cell_type": "code",
   "execution_count": 662,
   "id": "f31e6456-d0de-474a-99f5-f9d664693c51",
   "metadata": {},
   "outputs": [],
   "source": [
    "#df[\"Built Year\"] = df[\"Built Year\"].str.extract(r'(\\d{4})').astype(int)"
   ]
  },
  {
   "cell_type": "markdown",
   "id": "db5d5db6-64f1-4211-9e39-5190da0bdf0c",
   "metadata": {},
   "source": [
    "### checking types of columns"
   ]
  },
  {
   "cell_type": "code",
   "execution_count": 663,
   "id": "b8ec8369-6e4c-4c2d-be80-c467ef5e9a40",
   "metadata": {},
   "outputs": [
    {
     "name": "stdout",
     "output_type": "stream",
     "text": [
      "Categorical variables: 10\n",
      "Integer variables: 0\n",
      "Float variables: 2\n"
     ]
    }
   ],
   "source": [
    "obj = (df.dtypes == 'object')\n",
    "object_cols = list(obj[obj].index)\n",
    "print(\"Categorical variables:\",len(object_cols))\n",
    "\n",
    "int_ = (df.dtypes == 'int')\n",
    "num_cols = list(int_[int_].index)\n",
    "print(\"Integer variables:\",len(num_cols))\n",
    "\n",
    "fl = (df.dtypes == 'float')\n",
    "fl_cols = list(fl[fl].index)\n",
    "print(\"Float variables:\",len(fl_cols))"
   ]
  },
  {
   "cell_type": "code",
   "execution_count": 664,
   "id": "0b68590c-b320-47dd-be46-4abce97fea7a",
   "metadata": {},
   "outputs": [
    {
     "data": {
      "text/plain": [
       "array(['C$240/sqft', 'C$338/sqft', 'C$551/sqft', 'C$317/sqft',\n",
       "       'C$344/sqft', 'C$372/sqft', 'C$351/sqft', 'C$270/sqft',\n",
       "       'C$300/sqft', 'C$273/sqft', 'C$313/sqft', 'C$255/sqft',\n",
       "       'C$266/sqft', 'C$188/sqft', 'C$312/sqft', 'C$174/sqft',\n",
       "       'C$327/sqft', 'C$320/sqft', 'C$314/sqft', 'C$246/sqft',\n",
       "       'C$424/sqft', 'C$488/sqft', 'C$288/sqft', 'C$380/sqft',\n",
       "       'C$214/sqft', 'C$763/sqft', 'C$512/sqft', 'C$212/sqft',\n",
       "       'C$287/sqft', 'C$328/sqft', 'C$294/sqft', 'C$318/sqft',\n",
       "       'C$382/sqft', 'C$437/sqft', 'C$241/sqft', 'C$452/sqft',\n",
       "       'C$200/sqft', 'C$272/sqft', 'C$349/sqft', 'C$324/sqft',\n",
       "       'C$335/sqft', 'C$418/sqft', 'C$207/sqft', 'C$319/sqft',\n",
       "       'C$537/sqft', 'C$332/sqft', 'C$370/sqft', 'C$420/sqft',\n",
       "       'C$252/sqft', 'C$398/sqft', 'C$249/sqft', 'C$542/sqft',\n",
       "       'C$384/sqft', 'C$225/sqft', 'C$342/sqft', 'C$196/sqft',\n",
       "       'C$438/sqft', 'C$764/sqft', 'C$409/sqft', 'C$394/sqft',\n",
       "       'C$383/sqft', 'C$161/sqft', 'C$358/sqft', 'C$329/sqft',\n",
       "       'C$308/sqft', 'C$307/sqft', 'C$396/sqft', 'C$359/sqft',\n",
       "       'C$627/sqft', 'C$345/sqft', 'C$346/sqft', 'C$193/sqft',\n",
       "       'C$470/sqft', 'C$257/sqft', 'C$203/sqft', 'C$390/sqft',\n",
       "       'C$283/sqft', 'C$386/sqft', 'C$381/sqft', 'C$385/sqft',\n",
       "       'C$128/sqft', 'C$405/sqft', 'C$91/sqft', 'C$421/sqft',\n",
       "       'C$285/sqft', 'C$732/sqft', 'C$516/sqft', 'C$337/sqft',\n",
       "       'C$423/sqft', 'C$50/sqft', 'C$306/sqft', 'C$323/sqft',\n",
       "       'C$415/sqft', 'C$395/sqft', 'C$491/sqft', 'C$198/sqft',\n",
       "       'C$353/sqft', 'C$321/sqft', 'C$295/sqft', 'C$373/sqft',\n",
       "       'C$430/sqft', 'C$242/sqft', 'C$333/sqft', 'C$215/sqft',\n",
       "       'C$35/sqft', 'C$388/sqft', 'C$297/sqft', 'C$378/sqft',\n",
       "       'C$391/sqft', 'C$336/sqft', 'C$187/sqft', 'C$250/sqft',\n",
       "       'C$254/sqft', 'C$311/sqft', 'C$256/sqft', 'C$231/sqft',\n",
       "       'C$400/sqft', 'C$362/sqft', 'C$330/sqft', 'C$243/sqft',\n",
       "       'C$248/sqft', 'C$361/sqft', 'C$479/sqft', 'C$671/sqft',\n",
       "       'C$376/sqft', 'C$310/sqft', 'C$48/sqft', 'C$572/sqft',\n",
       "       'C$237/sqft', 'C$439/sqft', 'C$95/sqft', 'C$253/sqft',\n",
       "       'C$355/sqft', 'C$354/sqft', 'C$247/sqft', 'C$450/sqft',\n",
       "       'C$220/sqft', 'C$341/sqft', 'C$173/sqft', 'C$233/sqft',\n",
       "       'C$259/sqft', 'C$156/sqft', 'C$504/sqft', 'C$204/sqft',\n",
       "       'C$280/sqft', 'C$471/sqft', 'C$315/sqft', 'C$429/sqft',\n",
       "       'C$397/sqft', 'C$436/sqft', 'C$655/sqft', 'C$369/sqft',\n",
       "       'C$264/sqft', 'C$180/sqft', 'C$661/sqft', 'C$728/sqft',\n",
       "       'C$293/sqft', 'C$920/sqft', 'C$464/sqft', 'C$377/sqft',\n",
       "       'C$348/sqft', 'C$302/sqft', 'C$263/sqft', 'C$367/sqft',\n",
       "       'C$325/sqft', 'C$387/sqft', 'C$153/sqft', 'C$269/sqft',\n",
       "       'C$239/sqft', 'C$316/sqft', 'C$427/sqft', 'C$366/sqft',\n",
       "       'C$408/sqft', 'C$296/sqft', 'C$298/sqft', 'C$453/sqft',\n",
       "       'C$528/sqft', 'C$432/sqft', 'C$357/sqft', 'C$227/sqft',\n",
       "       'C$268/sqft', 'C$404/sqft', 'C$208/sqft', 'C$216/sqft',\n",
       "       'C$458/sqft', 'C$267/sqft', 'C$339/sqft', 'C$474/sqft',\n",
       "       'C$625/sqft', 'C$735/sqft', 'C$138/sqft', 'C$621/sqft',\n",
       "       'C$500/sqft', 'C$403/sqft', 'C$205/sqft', 'C$228/sqft',\n",
       "       'C$478/sqft', 'C$518/sqft', 'C$352/sqft', 'C$175/sqft',\n",
       "       'C$517/sqft', 'C$191/sqft', 'C$262/sqft', 'C$309/sqft',\n",
       "       'C$238/sqft', 'C$644/sqft', 'C$244/sqft', 'C$226/sqft',\n",
       "       'C$417/sqft', 'C$281/sqft', 'C$197/sqft', 'C$160/sqft',\n",
       "       'C$195/sqft', 'C$331/sqft', 'C$347/sqft', 'C$364/sqft',\n",
       "       'C$412/sqft', 'C$828/sqft', 'C$463/sqft', 'C$374/sqft',\n",
       "       'C$440/sqft', 'C$334/sqft', 'C$279/sqft', 'C$443/sqft',\n",
       "       'C$299/sqft', 'C$392/sqft', 'C$611/sqft', 'C$519/sqft',\n",
       "       'C$87/sqft', 'C$170/sqft', 'C$260/sqft', 'C$414/sqft',\n",
       "       'C$277/sqft', 'C$303/sqft', 'C$371/sqft', 'C$343/sqft',\n",
       "       'C$157/sqft', 'C$564/sqft', 'C$485/sqft', 'C$223/sqft',\n",
       "       'C$407/sqft', 'C$235/sqft', 'C$482/sqft', 'C$282/sqft',\n",
       "       'C$190/sqft', 'C$416/sqft', 'C$457/sqft', 'C$--/sqft',\n",
       "       'C$456/sqft', 'C$514/sqft', 'C$497/sqft', 'C$326/sqft',\n",
       "       'C$411/sqft', 'C$704/sqft', 'C$146/sqft', 'C$224/sqft',\n",
       "       'C$487/sqft', 'C$184/sqft', 'C$201/sqft', 'C$219/sqft',\n",
       "       'C$251/sqft', 'C$410/sqft', 'C$178/sqft', 'C$169/sqft',\n",
       "       'C$756/sqft', 'C$434/sqft', 'C$461/sqft', 'C$289/sqft',\n",
       "       'C$413/sqft', 'C$401/sqft', 'C$284/sqft', 'C$565/sqft',\n",
       "       'C$657/sqft', 'C$363/sqft', 'C$218/sqft', 'C$213/sqft',\n",
       "       'C$292/sqft', 'C$177/sqft', 'C$276/sqft', 'C$559/sqft',\n",
       "       'C$322/sqft', 'C$406/sqft', 'C$509/sqft', 'C$222/sqft',\n",
       "       'C$125/sqft', 'C$165/sqft', 'C$141/sqft', 'C$304/sqft',\n",
       "       'C$489/sqft', 'C$115/sqft', 'C$368/sqft', 'C$236/sqft',\n",
       "       'C$444/sqft', 'C$360/sqft', 'C$468/sqft', 'C$147/sqft',\n",
       "       'C$232/sqft', 'C$350/sqft', 'C$722/sqft', 'C$258/sqft',\n",
       "       'C$492/sqft', 'C$124/sqft', 'C$529/sqft', 'C$275/sqft',\n",
       "       'C$515/sqft', 'C$168/sqft', 'C$210/sqft', 'C$662/sqft',\n",
       "       'C$150/sqft', 'C$229/sqft', 'C$365/sqft', 'C$677/sqft',\n",
       "       'C$441/sqft', 'C$582/sqft', 'C$510/sqft', 'C$194/sqft',\n",
       "       'C$136/sqft', 'C$476/sqft', 'C$451/sqft', 'C$340/sqft',\n",
       "       'C$118/sqft', 'C$547/sqft', 'C$375/sqft', 'C$433/sqft',\n",
       "       'C$393/sqft', 'C$154/sqft', 'C$143/sqft', 'C$613/sqft',\n",
       "       'C$144/sqft', 'C$442/sqft', 'C$206/sqft', 'C$199/sqft',\n",
       "       'C$694/sqft', 'C$546/sqft', 'C$176/sqft', 'C$291/sqft',\n",
       "       'C$265/sqft', 'C$301/sqft', 'C$586/sqft', 'C$179/sqft',\n",
       "       'C$245/sqft', 'C$202/sqft', 'C$185/sqft', 'C$278/sqft',\n",
       "       'C$148/sqft', 'C$667/sqft', 'C$274/sqft', 'C$234/sqft',\n",
       "       'C$145/sqft', 'C$189/sqft', 'C$422/sqft', 'C$399/sqft',\n",
       "       'C$57/sqft', 'C$290/sqft', 'C$97/sqft', 'C$155/sqft', 'C$108/sqft',\n",
       "       'C$88/sqft', 'C$162/sqft', 'C$286/sqft', 'C$575/sqft',\n",
       "       'C$117/sqft', 'C$261/sqft', 'C$305/sqft', 'C$498/sqft',\n",
       "       'C$103/sqft', 'C$121/sqft', 'C$539/sqft', 'C$221/sqft',\n",
       "       'C$495/sqft', 'C$469/sqft', 'C$127/sqft', 'C$475/sqft',\n",
       "       'C$172/sqft', 'C$402/sqft', 'C$356/sqft', 'C$37/sqft',\n",
       "       'C$448/sqft', 'C$209/sqft', 'C$2,637/sqft', 'C$389/sqft',\n",
       "       'C$511/sqft', 'C$181/sqft', 'C$166/sqft', 'C$186/sqft',\n",
       "       'C$104/sqft', 'C$503/sqft', 'C$530/sqft', 'C$106/sqft',\n",
       "       'C$599/sqft', 'C$109/sqft', 'C$696/sqft', 'C$211/sqft',\n",
       "       'C$110/sqft', 'C$217/sqft', 'C$447/sqft', 'C$130/sqft',\n",
       "       'C$164/sqft', 'C$152/sqft', 'C$192/sqft', 'C$460/sqft',\n",
       "       'C$86/sqft', 'C$120/sqft', 'C$83/sqft', 'C$142/sqft', 'C$619/sqft',\n",
       "       'C$521/sqft', 'C$46/sqft', 'C$527/sqft', 'C$140/sqft',\n",
       "       'C$167/sqft', 'C$116/sqft', 'C$151/sqft', 'C$271/sqft',\n",
       "       'C$467/sqft', 'C$501/sqft', 'C$102/sqft', 'C$114/sqft',\n",
       "       'C$533/sqft', 'C$101/sqft', 'C$99/sqft', 'C$67/sqft', 'C$98/sqft',\n",
       "       'C$135/sqft', 'C$230/sqft', 'C$158/sqft', 'C$126/sqft',\n",
       "       'C$133/sqft', 'C$182/sqft', 'C$105/sqft', 'C$134/sqft',\n",
       "       'C$171/sqft', 'C$119/sqft', 'C$96/sqft', 'C$94/sqft'], dtype=object)"
      ]
     },
     "execution_count": 664,
     "metadata": {},
     "output_type": "execute_result"
    }
   ],
   "source": [
    "df['Price per Sqft'].unique()"
   ]
  },
  {
   "cell_type": "code",
   "execution_count": 665,
   "id": "9f4e146b-68a8-4d5c-bd5e-116ddf943a49",
   "metadata": {},
   "outputs": [
    {
     "data": {
      "text/html": [
       "<div>\n",
       "<style scoped>\n",
       "    .dataframe tbody tr th:only-of-type {\n",
       "        vertical-align: middle;\n",
       "    }\n",
       "\n",
       "    .dataframe tbody tr th {\n",
       "        vertical-align: top;\n",
       "    }\n",
       "\n",
       "    .dataframe thead th {\n",
       "        text-align: right;\n",
       "    }\n",
       "</style>\n",
       "<table border=\"1\" class=\"dataframe\">\n",
       "  <thead>\n",
       "    <tr style=\"text-align: right;\">\n",
       "      <th></th>\n",
       "      <th>Address</th>\n",
       "      <th>Bathrooms</th>\n",
       "      <th>Bedrooms</th>\n",
       "      <th>Built Year</th>\n",
       "      <th>Garage Space</th>\n",
       "      <th>Lot Size (sqft)</th>\n",
       "      <th>Kitchens</th>\n",
       "      <th>Price</th>\n",
       "      <th>Price per Sqft</th>\n",
       "      <th>Property Type</th>\n",
       "      <th>Square Feet</th>\n",
       "      <th>State</th>\n",
       "    </tr>\n",
       "  </thead>\n",
       "  <tbody>\n",
       "    <tr>\n",
       "      <th>0</th>\n",
       "      <td>234 Heise CRESCENT, Saskatoon, SK S7M 4Y8</td>\n",
       "      <td>3</td>\n",
       "      <td>3</td>\n",
       "      <td>Built in 1979</td>\n",
       "      <td>Garage spaces: 1</td>\n",
       "      <td>5,741 sqft lot</td>\n",
       "      <td>Description: Number of Kitchens: 1</td>\n",
       "      <td>309000.0</td>\n",
       "      <td>C$240/sqft</td>\n",
       "      <td>Single Family Residence</td>\n",
       "      <td>1290.0</td>\n",
       "      <td>Saskatchewan</td>\n",
       "    </tr>\n",
       "    <tr>\n",
       "      <th>1</th>\n",
       "      <td>326 Ottawa AVENUE N, Saskatoon, SK S7L 3P1</td>\n",
       "      <td>2</td>\n",
       "      <td>4</td>\n",
       "      <td>Built in 1960</td>\n",
       "      <td>Garage spaces: 2</td>\n",
       "      <td>6,616 sqft lot</td>\n",
       "      <td>Description: Number of Kitchens: 1</td>\n",
       "      <td>319900.0</td>\n",
       "      <td>C$338/sqft</td>\n",
       "      <td>Single Family Residence</td>\n",
       "      <td>947.0</td>\n",
       "      <td>Saskatchewan</td>\n",
       "    </tr>\n",
       "    <tr>\n",
       "      <th>2</th>\n",
       "      <td>1019 Lansdowne AVENUE, Saskatoon, SK S7H 2C2</td>\n",
       "      <td>2</td>\n",
       "      <td>4</td>\n",
       "      <td>Built in 1946</td>\n",
       "      <td>Has uncovered spaces: Yes</td>\n",
       "      <td>4,199 sqft lot</td>\n",
       "      <td>Description: Number of Kitchens: 2</td>\n",
       "      <td>450000.0</td>\n",
       "      <td>C$551/sqft</td>\n",
       "      <td>Single Family Residence</td>\n",
       "      <td>816.0</td>\n",
       "      <td>Saskatchewan</td>\n",
       "    </tr>\n",
       "    <tr>\n",
       "      <th>3</th>\n",
       "      <td>107 Brookdale CRESCENT, Saskatoon, SK S7V 1K5</td>\n",
       "      <td>3</td>\n",
       "      <td>3</td>\n",
       "      <td>Built in 2006</td>\n",
       "      <td>Attached garage spaces: 2</td>\n",
       "      <td>6,128 sqft lot</td>\n",
       "      <td>Description: Number of Kitchens: 1</td>\n",
       "      <td>569000.0</td>\n",
       "      <td>C$317/sqft</td>\n",
       "      <td>Retail</td>\n",
       "      <td>1795.0</td>\n",
       "      <td>Saskatchewan</td>\n",
       "    </tr>\n",
       "    <tr>\n",
       "      <th>4</th>\n",
       "      <td>1208 6th AVENUE N, Saskatoon, SK S7K 2T5</td>\n",
       "      <td>4</td>\n",
       "      <td>4</td>\n",
       "      <td>Built in 2006</td>\n",
       "      <td>Garage spaces: 2</td>\n",
       "      <td>3,245 sqft lot</td>\n",
       "      <td>Description: Number of Kitchens: 1</td>\n",
       "      <td>465000.0</td>\n",
       "      <td>C$344/sqft</td>\n",
       "      <td>Retail</td>\n",
       "      <td>1350.0</td>\n",
       "      <td>Saskatchewan</td>\n",
       "    </tr>\n",
       "  </tbody>\n",
       "</table>\n",
       "</div>"
      ],
      "text/plain": [
       "                                         Address Bathrooms Bedrooms  \\\n",
       "0      234 Heise CRESCENT, Saskatoon, SK S7M 4Y8         3        3   \n",
       "1     326 Ottawa AVENUE N, Saskatoon, SK S7L 3P1         2        4   \n",
       "2   1019 Lansdowne AVENUE, Saskatoon, SK S7H 2C2         2        4   \n",
       "3  107 Brookdale CRESCENT, Saskatoon, SK S7V 1K5         3        3   \n",
       "4       1208 6th AVENUE N, Saskatoon, SK S7K 2T5         4        4   \n",
       "\n",
       "      Built Year               Garage Space Lot Size (sqft)  \\\n",
       "0  Built in 1979           Garage spaces: 1  5,741 sqft lot   \n",
       "1  Built in 1960           Garage spaces: 2  6,616 sqft lot   \n",
       "2  Built in 1946  Has uncovered spaces: Yes  4,199 sqft lot   \n",
       "3  Built in 2006  Attached garage spaces: 2  6,128 sqft lot   \n",
       "4  Built in 2006           Garage spaces: 2  3,245 sqft lot   \n",
       "\n",
       "                             Kitchens     Price Price per Sqft  \\\n",
       "0  Description: Number of Kitchens: 1  309000.0     C$240/sqft   \n",
       "1  Description: Number of Kitchens: 1  319900.0     C$338/sqft   \n",
       "2  Description: Number of Kitchens: 2  450000.0     C$551/sqft   \n",
       "3  Description: Number of Kitchens: 1  569000.0     C$317/sqft   \n",
       "4  Description: Number of Kitchens: 1  465000.0     C$344/sqft   \n",
       "\n",
       "             Property Type  Square Feet         State  \n",
       "0  Single Family Residence       1290.0  Saskatchewan  \n",
       "1  Single Family Residence        947.0  Saskatchewan  \n",
       "2  Single Family Residence        816.0  Saskatchewan  \n",
       "3                   Retail       1795.0  Saskatchewan  \n",
       "4                   Retail       1350.0  Saskatchewan  "
      ]
     },
     "execution_count": 665,
     "metadata": {},
     "output_type": "execute_result"
    }
   ],
   "source": [
    "df.head()"
   ]
  },
  {
   "cell_type": "code",
   "execution_count": 666,
   "id": "0965e7e6-0aaa-44ce-85c8-6a98c6a0684d",
   "metadata": {},
   "outputs": [
    {
     "name": "stdout",
     "output_type": "stream",
     "text": [
      "<class 'pandas.core.frame.DataFrame'>\n",
      "RangeIndex: 1571 entries, 0 to 1570\n",
      "Data columns (total 12 columns):\n",
      " #   Column           Non-Null Count  Dtype  \n",
      "---  ------           --------------  -----  \n",
      " 0   Address          1571 non-null   object \n",
      " 1   Bathrooms        1571 non-null   object \n",
      " 2   Bedrooms         1571 non-null   object \n",
      " 3   Built Year       1571 non-null   object \n",
      " 4   Garage Space     1403 non-null   object \n",
      " 5   Lot Size (sqft)  1571 non-null   object \n",
      " 6   Kitchens         1516 non-null   object \n",
      " 7   Price            1571 non-null   float64\n",
      " 8   Price per Sqft   1571 non-null   object \n",
      " 9   Property Type    1571 non-null   object \n",
      " 10  Square Feet      1557 non-null   float64\n",
      " 11  State            1571 non-null   object \n",
      "dtypes: float64(2), object(10)\n",
      "memory usage: 147.4+ KB\n"
     ]
    }
   ],
   "source": [
    "df.info()"
   ]
  },
  {
   "cell_type": "code",
   "execution_count": 667,
   "id": "ec12a670-3bd2-46ea-a055-61cc462be351",
   "metadata": {},
   "outputs": [],
   "source": [
    "df.replace(\"\", np.nan, inplace=True)"
   ]
  },
  {
   "cell_type": "code",
   "execution_count": 668,
   "id": "02263d0a-1184-4a33-a7e8-80a5c463ed74",
   "metadata": {},
   "outputs": [
    {
     "name": "stdout",
     "output_type": "stream",
     "text": [
      "Address\n",
      "874 Seymour CRESCENT N, Regina, SK S4X 2G4                4\n",
      "UNIT 211-2311 Windsor Park ROAD, Regina, SK S4V 1S2       4\n",
      "714 Callander CRESCENT N, Regina, SK S4X 2B4              4\n",
      "2100 Courtney STREET, Regina, SK X0X 0X0                  4\n",
      "5116 Buckingham DRIVE E, Regina, SK S4V 3W2               3\n",
      "                                                         ..\n",
      "UNIT 303-1005 9th STREET E, Saskatoon, SK S7H 0N3         1\n",
      "923 Brookhurst LANE, Saskatoon, SK S7V 1G6                1\n",
      "UNIT 903-902 Spadina CRESCENT E, Saskatoon, SK S7K 0G8    1\n",
      "UNIT 75-651 Dubois CRESCENT, Saskatoon, SK S7V 0R3        1\n",
      "2023 Ottawa STREET, Regina, SK S4P 1P9                    1\n",
      "Name: count, Length: 1463, dtype: int64\n",
      "********************\n",
      "Bathrooms\n",
      "2     523\n",
      "3     376\n",
      "1     336\n",
      "4     227\n",
      "--     75\n",
      "5      26\n",
      "0       4\n",
      "6       4\n",
      "Name: count, dtype: int64\n",
      "********************\n",
      "Bedrooms\n",
      "3     456\n",
      "4     359\n",
      "2     327\n",
      "5     193\n",
      "1      93\n",
      "--     75\n",
      "6      46\n",
      "7      11\n",
      "8       5\n",
      "0       4\n",
      "10      1\n",
      "15      1\n",
      "Name: count, dtype: int64\n",
      "********************\n",
      "Built Year\n",
      "Built in 2024    86\n",
      "Built in ----    63\n",
      "Built in 2013    62\n",
      "Built in 2014    45\n",
      "Built in 2012    42\n",
      "                 ..\n",
      "Built in 1932     1\n",
      "Built in 1906     1\n",
      "Built in 1940     1\n",
      "Built in 1907     1\n",
      "Built in 1919     1\n",
      "Name: count, Length: 116, dtype: int64\n",
      "********************\n",
      "Garage Space\n",
      "Attached garage spaces: 2                              319\n",
      "Garage spaces: 2                                       227\n",
      "Has uncovered spaces: Yes                              199\n",
      "Garage spaces: 1                                       163\n",
      "Attached garage spaces: 1                               86\n",
      "Covered spaces: 1                                       76\n",
      "Uncovered spaces: 1                                     75\n",
      "0                                                       48\n",
      "Attached garage spaces: 3                               47\n",
      "Details: Exclusive Use Parking                          36\n",
      "Has garage: Yes                                         30\n",
      "Uncovered spaces: 2                                     21\n",
      "Garage spaces: 3                                         9\n",
      "Covered spaces: 2                                        9\n",
      "1                                                        9\n",
      "Attached garage spaces: 4                                8\n",
      "Has carport: Yes                                         6\n",
      "Frontage length: 25.00                                   4\n",
      "Features: Rectangular Lot                                3\n",
      "Uncovered spaces: 8                                      2\n",
      "Uncovered spaces: 6                                      2\n",
      "Patio & porch: Deck                                      2\n",
      "Fencing: Partial                                         2\n",
      "Garage spaces: 4                                         2\n",
      "Attached garage spaces: 6                                2\n",
      "Frontage length: 35.00                                   2\n",
      "Frontage length: 40.00                                   1\n",
      "Features: Corner Lot, Rectangular Lot, Trees/Shrubs      1\n",
      "Covered spaces: 5                                        1\n",
      "Attached garage spaces: 5                                1\n",
      "Attached garage spaces: 9                                1\n",
      "Fencing: Fenced                                          1\n",
      "Exterior features: Lawn Back                             1\n",
      "Frontage length: 50.00                                   1\n",
      "Uncovered spaces: 20                                     1\n",
      "Garage spaces: 6                                         1\n",
      "Patio & porch: Deck, Patio                               1\n",
      "Uncovered spaces: 3                                      1\n",
      "Details: Parking Size: 24.0x22.0                         1\n",
      "Attached garage spaces: 8                                1\n",
      "Name: count, dtype: int64\n",
      "********************\n",
      "Lot Size (sqft)\n",
      "-- sqft lot       610\n",
      "3,123 sqft lot     65\n",
      "3,118 sqft lot     34\n",
      "3,127 sqft lot     22\n",
      "6,250 sqft lot     13\n",
      "                 ... \n",
      "2,081 sqft lot      1\n",
      "9,064 sqft lot      1\n",
      "8,145 sqft lot      1\n",
      "3,480 sqft lot      1\n",
      "5,601 sqft lot      1\n",
      "Name: count, Length: 535, dtype: int64\n",
      "********************\n",
      "Kitchens\n",
      "Description: Number of Kitchens: 1                                   1272\n",
      "Description: Number of Kitchens: 2                                    188\n",
      "Description: Number of Kitchens: 3                                     18\n",
      "Description: Number of Kitchens: 4                                      8\n",
      "View virtual tour                                                       5\n",
      "Included: Refrigerator, Stove, Washer, Dryer                            5\n",
      "Forced Air, Natural Gas, Furnace Owned                                  4\n",
      "Included: Refrigerator, Stove                                           4\n",
      "Air Conditioning                                                        3\n",
      "Has Heating (Unspecified Type)                                          2\n",
      "Description: Number of Kitchens: 5                                      1\n",
      "Other, Furnace Owned                                                    1\n",
      "Natural Gas                                                             1\n",
      "Description: Number of Kitchens: 6                                      1\n",
      "Included: Refrigerator, Stove, Washer, Dryer, Dishwasher Built In       1\n",
      "Natural Gas, Furnace Owned                                              1\n",
      "Included: Other                                                         1\n",
      "Name: count, dtype: int64\n",
      "********************\n",
      "Price\n",
      "329900.0     28\n",
      "349900.0     21\n",
      "499900.0     20\n",
      "399900.0     20\n",
      "379900.0     18\n",
      "             ..\n",
      "709900.0      1\n",
      "1299000.0     1\n",
      "277900.0      1\n",
      "234000.0      1\n",
      "969900.0      1\n",
      "Name: count, Length: 588, dtype: int64\n",
      "********************\n",
      "Price per Sqft\n",
      "C$--/sqft     75\n",
      "C$323/sqft    16\n",
      "C$299/sqft    13\n",
      "C$283/sqft    13\n",
      "C$317/sqft    13\n",
      "              ..\n",
      "C$694/sqft     1\n",
      "C$546/sqft     1\n",
      "C$920/sqft     1\n",
      "C$728/sqft     1\n",
      "C$828/sqft     1\n",
      "Name: count, Length: 435, dtype: int64\n",
      "********************\n",
      "Property Type\n",
      "Single Family Residence    629\n",
      "Retail                     532\n",
      "Condominium                214\n",
      "Townhouse                   94\n",
      "Unimproved Land             61\n",
      "Manufactured Home           13\n",
      "Warehouse                   12\n",
      "Duplex                      11\n",
      "Multi Family                 4\n",
      "Quadruplex                   1\n",
      "Name: count, dtype: int64\n",
      "********************\n",
      "Square Feet\n",
      "1040.0    14\n",
      "960.0     13\n",
      "1008.0    12\n",
      "1020.0    12\n",
      "1120.0    11\n",
      "          ..\n",
      "989.0      1\n",
      "1541.0     1\n",
      "1651.0     1\n",
      "1184.0     1\n",
      "862.0      1\n",
      "Name: count, Length: 892, dtype: int64\n",
      "********************\n",
      "State\n",
      "Saskatchewan    1571\n",
      "Name: count, dtype: int64\n",
      "********************\n"
     ]
    }
   ],
   "source": [
    "for column in df.columns:\n",
    "    print(df[column].value_counts())\n",
    "    print(\"*\"*20)"
   ]
  },
  {
   "cell_type": "code",
   "execution_count": 669,
   "id": "f0d7795f-8f2b-4f7b-a526-9f7c788d0fa7",
   "metadata": {},
   "outputs": [],
   "source": [
    "df['Built Year'] = df['Built Year'].replace('Built in ----', np.nan)\n"
   ]
  },
  {
   "cell_type": "code",
   "execution_count": 670,
   "id": "fde0d7b0-b011-42a2-919f-1877c52e76d0",
   "metadata": {},
   "outputs": [
    {
     "name": "stdout",
     "output_type": "stream",
     "text": [
      "Built Year\n",
      "Built in 2024    86\n",
      "Built in 2013    62\n",
      "Built in 2014    45\n",
      "Built in 2012    42\n",
      "Built in 2015    36\n",
      "                 ..\n",
      "Built in 1917     1\n",
      "Built in 1989     1\n",
      "Built in 1932     1\n",
      "Built in 1997     1\n",
      "Built in 1919     1\n",
      "Name: count, Length: 115, dtype: int64\n"
     ]
    }
   ],
   "source": [
    "print(df['Built Year'].value_counts())"
   ]
  },
  {
   "cell_type": "code",
   "execution_count": 671,
   "id": "5db20999-9514-4256-93fa-6618f2348f8d",
   "metadata": {},
   "outputs": [
    {
     "name": "stdout",
     "output_type": "stream",
     "text": [
      "63\n"
     ]
    }
   ],
   "source": [
    "print(df['Built Year'].isnull().sum())"
   ]
  },
  {
   "cell_type": "code",
   "execution_count": 672,
   "id": "4b0b01e2-8651-4225-8998-37bb084963ab",
   "metadata": {},
   "outputs": [
    {
     "name": "stdout",
     "output_type": "stream",
     "text": [
      "                                           Address Bathrooms Bedrooms  \\\n",
      "430         1222 B AVENUE N, Saskatoon, SK S7L 1X3         2        4   \n",
      "436   1630 Wiggins AVENUE S, Saskatoon, SK S7H 2J9        --       --   \n",
      "690       5 Connaught PLACE, Saskatoon, SK S7L 1C7        --       --   \n",
      "713       222 24th STREET W, Saskatoon, SK S7L 0B5        --       --   \n",
      "714      1401 Cairns AVENUE, Saskatoon, SK S7H 2H3        --       --   \n",
      "...                                            ...       ...      ...   \n",
      "1507      1335 Robinson STREET, Regina, SK S4T 2N5        --       --   \n",
      "1508        1202 Garnet STREET, Regina, SK S4T 2Z4        --       --   \n",
      "1509       1324 Empress STREET, Regina, SK S4T 5E5        --       --   \n",
      "1510          6501 28th AVENUE, Regina, SK S4W 0L3        --       --   \n",
      "1560       2322 ST JOHN STREET, Regina, SK S4P 0W5        --       --   \n",
      "\n",
      "     Built Year                                       Garage Space  \\\n",
      "430         NaN                          Has uncovered spaces: Yes   \n",
      "436         NaN                                                  0   \n",
      "690         NaN                             Frontage length: 40.00   \n",
      "713         NaN                                                NaN   \n",
      "714         NaN                                                NaN   \n",
      "...         ...                                                ...   \n",
      "1507        NaN                                                NaN   \n",
      "1508        NaN  Features: Corner Lot, Rectangular Lot, Trees/S...   \n",
      "1509        NaN                          Features: Rectangular Lot   \n",
      "1510        NaN                                                NaN   \n",
      "1560        NaN                                                NaN   \n",
      "\n",
      "     Lot Size (sqft)                            Kitchens     Price  \\\n",
      "430   6,198 sqft lot  Description: Number of Kitchens: 1  299000.0   \n",
      "436   4,369 sqft lot  Description: Number of Kitchens: 1  284900.0   \n",
      "690   3,737 sqft lot                                 NaN   39900.0   \n",
      "713   2,491 sqft lot                                 NaN   65000.0   \n",
      "714   3,123 sqft lot                                 NaN  209900.0   \n",
      "...              ...                                 ...       ...   \n",
      "1507  6,250 sqft lot                                 NaN   36500.0   \n",
      "1508  6,250 sqft lot                                 NaN   49900.0   \n",
      "1509  3,114 sqft lot                                 NaN   62500.0   \n",
      "1510  1.43 Acres lot                                 NaN  430000.0   \n",
      "1560  6,250 sqft lot                                 NaN  225900.0   \n",
      "\n",
      "     Price per Sqft    Property Type  Square Feet         State  \n",
      "430      C$187/sqft           Retail       1600.0  Saskatchewan  \n",
      "436       C$--/sqft  Unimproved Land       4369.0  Saskatchewan  \n",
      "690       C$--/sqft  Unimproved Land       3737.0  Saskatchewan  \n",
      "713       C$--/sqft  Unimproved Land       2492.0  Saskatchewan  \n",
      "714       C$--/sqft  Unimproved Land       3123.0  Saskatchewan  \n",
      "...             ...              ...          ...           ...  \n",
      "1507      C$--/sqft  Unimproved Land       6251.0  Saskatchewan  \n",
      "1508      C$--/sqft  Unimproved Land       6251.0  Saskatchewan  \n",
      "1509      C$--/sqft  Unimproved Land       3115.0  Saskatchewan  \n",
      "1510      C$--/sqft  Unimproved Land          1.0  Saskatchewan  \n",
      "1560      C$--/sqft  Unimproved Land       6251.0  Saskatchewan  \n",
      "\n",
      "[63 rows x 12 columns]\n"
     ]
    }
   ],
   "source": [
    "print(df[df['Built Year'].isnull()])"
   ]
  },
  {
   "cell_type": "code",
   "execution_count": 673,
   "id": "8e69d208-a12b-46d0-a7e7-44afa18728a9",
   "metadata": {},
   "outputs": [],
   "source": [
    "# Remove the \"Built in\" prefix from the values in the \"Built Year\" column\n",
    "df['Built Year'] = df['Built Year'].str.replace('Built in ', '')"
   ]
  },
  {
   "cell_type": "code",
   "execution_count": 674,
   "id": "8d001d74-bc9a-439e-9d3c-ec1cd0472cc5",
   "metadata": {},
   "outputs": [
    {
     "data": {
      "text/html": [
       "<div>\n",
       "<style scoped>\n",
       "    .dataframe tbody tr th:only-of-type {\n",
       "        vertical-align: middle;\n",
       "    }\n",
       "\n",
       "    .dataframe tbody tr th {\n",
       "        vertical-align: top;\n",
       "    }\n",
       "\n",
       "    .dataframe thead th {\n",
       "        text-align: right;\n",
       "    }\n",
       "</style>\n",
       "<table border=\"1\" class=\"dataframe\">\n",
       "  <thead>\n",
       "    <tr style=\"text-align: right;\">\n",
       "      <th></th>\n",
       "      <th>Address</th>\n",
       "      <th>Bathrooms</th>\n",
       "      <th>Bedrooms</th>\n",
       "      <th>Built Year</th>\n",
       "      <th>Garage Space</th>\n",
       "      <th>Lot Size (sqft)</th>\n",
       "      <th>Kitchens</th>\n",
       "      <th>Price</th>\n",
       "      <th>Price per Sqft</th>\n",
       "      <th>Property Type</th>\n",
       "      <th>Square Feet</th>\n",
       "      <th>State</th>\n",
       "    </tr>\n",
       "  </thead>\n",
       "  <tbody>\n",
       "    <tr>\n",
       "      <th>0</th>\n",
       "      <td>234 Heise CRESCENT, Saskatoon, SK S7M 4Y8</td>\n",
       "      <td>3</td>\n",
       "      <td>3</td>\n",
       "      <td>1979</td>\n",
       "      <td>Garage spaces: 1</td>\n",
       "      <td>5,741 sqft lot</td>\n",
       "      <td>Description: Number of Kitchens: 1</td>\n",
       "      <td>309000.0</td>\n",
       "      <td>C$240/sqft</td>\n",
       "      <td>Single Family Residence</td>\n",
       "      <td>1290.0</td>\n",
       "      <td>Saskatchewan</td>\n",
       "    </tr>\n",
       "    <tr>\n",
       "      <th>1</th>\n",
       "      <td>326 Ottawa AVENUE N, Saskatoon, SK S7L 3P1</td>\n",
       "      <td>2</td>\n",
       "      <td>4</td>\n",
       "      <td>1960</td>\n",
       "      <td>Garage spaces: 2</td>\n",
       "      <td>6,616 sqft lot</td>\n",
       "      <td>Description: Number of Kitchens: 1</td>\n",
       "      <td>319900.0</td>\n",
       "      <td>C$338/sqft</td>\n",
       "      <td>Single Family Residence</td>\n",
       "      <td>947.0</td>\n",
       "      <td>Saskatchewan</td>\n",
       "    </tr>\n",
       "    <tr>\n",
       "      <th>2</th>\n",
       "      <td>1019 Lansdowne AVENUE, Saskatoon, SK S7H 2C2</td>\n",
       "      <td>2</td>\n",
       "      <td>4</td>\n",
       "      <td>1946</td>\n",
       "      <td>Has uncovered spaces: Yes</td>\n",
       "      <td>4,199 sqft lot</td>\n",
       "      <td>Description: Number of Kitchens: 2</td>\n",
       "      <td>450000.0</td>\n",
       "      <td>C$551/sqft</td>\n",
       "      <td>Single Family Residence</td>\n",
       "      <td>816.0</td>\n",
       "      <td>Saskatchewan</td>\n",
       "    </tr>\n",
       "    <tr>\n",
       "      <th>3</th>\n",
       "      <td>107 Brookdale CRESCENT, Saskatoon, SK S7V 1K5</td>\n",
       "      <td>3</td>\n",
       "      <td>3</td>\n",
       "      <td>2006</td>\n",
       "      <td>Attached garage spaces: 2</td>\n",
       "      <td>6,128 sqft lot</td>\n",
       "      <td>Description: Number of Kitchens: 1</td>\n",
       "      <td>569000.0</td>\n",
       "      <td>C$317/sqft</td>\n",
       "      <td>Retail</td>\n",
       "      <td>1795.0</td>\n",
       "      <td>Saskatchewan</td>\n",
       "    </tr>\n",
       "    <tr>\n",
       "      <th>4</th>\n",
       "      <td>1208 6th AVENUE N, Saskatoon, SK S7K 2T5</td>\n",
       "      <td>4</td>\n",
       "      <td>4</td>\n",
       "      <td>2006</td>\n",
       "      <td>Garage spaces: 2</td>\n",
       "      <td>3,245 sqft lot</td>\n",
       "      <td>Description: Number of Kitchens: 1</td>\n",
       "      <td>465000.0</td>\n",
       "      <td>C$344/sqft</td>\n",
       "      <td>Retail</td>\n",
       "      <td>1350.0</td>\n",
       "      <td>Saskatchewan</td>\n",
       "    </tr>\n",
       "  </tbody>\n",
       "</table>\n",
       "</div>"
      ],
      "text/plain": [
       "                                         Address Bathrooms Bedrooms  \\\n",
       "0      234 Heise CRESCENT, Saskatoon, SK S7M 4Y8         3        3   \n",
       "1     326 Ottawa AVENUE N, Saskatoon, SK S7L 3P1         2        4   \n",
       "2   1019 Lansdowne AVENUE, Saskatoon, SK S7H 2C2         2        4   \n",
       "3  107 Brookdale CRESCENT, Saskatoon, SK S7V 1K5         3        3   \n",
       "4       1208 6th AVENUE N, Saskatoon, SK S7K 2T5         4        4   \n",
       "\n",
       "  Built Year               Garage Space Lot Size (sqft)  \\\n",
       "0       1979           Garage spaces: 1  5,741 sqft lot   \n",
       "1       1960           Garage spaces: 2  6,616 sqft lot   \n",
       "2       1946  Has uncovered spaces: Yes  4,199 sqft lot   \n",
       "3       2006  Attached garage spaces: 2  6,128 sqft lot   \n",
       "4       2006           Garage spaces: 2  3,245 sqft lot   \n",
       "\n",
       "                             Kitchens     Price Price per Sqft  \\\n",
       "0  Description: Number of Kitchens: 1  309000.0     C$240/sqft   \n",
       "1  Description: Number of Kitchens: 1  319900.0     C$338/sqft   \n",
       "2  Description: Number of Kitchens: 2  450000.0     C$551/sqft   \n",
       "3  Description: Number of Kitchens: 1  569000.0     C$317/sqft   \n",
       "4  Description: Number of Kitchens: 1  465000.0     C$344/sqft   \n",
       "\n",
       "             Property Type  Square Feet         State  \n",
       "0  Single Family Residence       1290.0  Saskatchewan  \n",
       "1  Single Family Residence        947.0  Saskatchewan  \n",
       "2  Single Family Residence        816.0  Saskatchewan  \n",
       "3                   Retail       1795.0  Saskatchewan  \n",
       "4                   Retail       1350.0  Saskatchewan  "
      ]
     },
     "execution_count": 674,
     "metadata": {},
     "output_type": "execute_result"
    }
   ],
   "source": [
    "df.head()"
   ]
  },
  {
   "cell_type": "code",
   "execution_count": 675,
   "id": "e941f053-4cc8-4b9d-8115-2803769cfb48",
   "metadata": {},
   "outputs": [],
   "source": [
    "import re\n",
    "\n",
    "# Extract numeric values from the \"Garage Space\" column\n",
    "df['Garage Space'] = df['Garage Space'].apply(lambda x: re.search(r'\\d+', x).group() if pd.notnull(x) and re.search(r'\\d+', x) else x)\n",
    "\n"
   ]
  },
  {
   "cell_type": "code",
   "execution_count": 676,
   "id": "1f9dbadf-e3de-4a42-b606-f45f06413852",
   "metadata": {},
   "outputs": [
    {
     "data": {
      "text/html": [
       "<div>\n",
       "<style scoped>\n",
       "    .dataframe tbody tr th:only-of-type {\n",
       "        vertical-align: middle;\n",
       "    }\n",
       "\n",
       "    .dataframe tbody tr th {\n",
       "        vertical-align: top;\n",
       "    }\n",
       "\n",
       "    .dataframe thead th {\n",
       "        text-align: right;\n",
       "    }\n",
       "</style>\n",
       "<table border=\"1\" class=\"dataframe\">\n",
       "  <thead>\n",
       "    <tr style=\"text-align: right;\">\n",
       "      <th></th>\n",
       "      <th>Address</th>\n",
       "      <th>Bathrooms</th>\n",
       "      <th>Bedrooms</th>\n",
       "      <th>Built Year</th>\n",
       "      <th>Garage Space</th>\n",
       "      <th>Lot Size (sqft)</th>\n",
       "      <th>Kitchens</th>\n",
       "      <th>Price</th>\n",
       "      <th>Price per Sqft</th>\n",
       "      <th>Property Type</th>\n",
       "      <th>Square Feet</th>\n",
       "      <th>State</th>\n",
       "    </tr>\n",
       "  </thead>\n",
       "  <tbody>\n",
       "    <tr>\n",
       "      <th>0</th>\n",
       "      <td>234 Heise CRESCENT, Saskatoon, SK S7M 4Y8</td>\n",
       "      <td>3</td>\n",
       "      <td>3</td>\n",
       "      <td>1979</td>\n",
       "      <td>1</td>\n",
       "      <td>5,741 sqft lot</td>\n",
       "      <td>Description: Number of Kitchens: 1</td>\n",
       "      <td>309000.0</td>\n",
       "      <td>C$240/sqft</td>\n",
       "      <td>Single Family Residence</td>\n",
       "      <td>1290.0</td>\n",
       "      <td>Saskatchewan</td>\n",
       "    </tr>\n",
       "    <tr>\n",
       "      <th>1</th>\n",
       "      <td>326 Ottawa AVENUE N, Saskatoon, SK S7L 3P1</td>\n",
       "      <td>2</td>\n",
       "      <td>4</td>\n",
       "      <td>1960</td>\n",
       "      <td>2</td>\n",
       "      <td>6,616 sqft lot</td>\n",
       "      <td>Description: Number of Kitchens: 1</td>\n",
       "      <td>319900.0</td>\n",
       "      <td>C$338/sqft</td>\n",
       "      <td>Single Family Residence</td>\n",
       "      <td>947.0</td>\n",
       "      <td>Saskatchewan</td>\n",
       "    </tr>\n",
       "    <tr>\n",
       "      <th>2</th>\n",
       "      <td>1019 Lansdowne AVENUE, Saskatoon, SK S7H 2C2</td>\n",
       "      <td>2</td>\n",
       "      <td>4</td>\n",
       "      <td>1946</td>\n",
       "      <td>Has uncovered spaces: Yes</td>\n",
       "      <td>4,199 sqft lot</td>\n",
       "      <td>Description: Number of Kitchens: 2</td>\n",
       "      <td>450000.0</td>\n",
       "      <td>C$551/sqft</td>\n",
       "      <td>Single Family Residence</td>\n",
       "      <td>816.0</td>\n",
       "      <td>Saskatchewan</td>\n",
       "    </tr>\n",
       "    <tr>\n",
       "      <th>3</th>\n",
       "      <td>107 Brookdale CRESCENT, Saskatoon, SK S7V 1K5</td>\n",
       "      <td>3</td>\n",
       "      <td>3</td>\n",
       "      <td>2006</td>\n",
       "      <td>2</td>\n",
       "      <td>6,128 sqft lot</td>\n",
       "      <td>Description: Number of Kitchens: 1</td>\n",
       "      <td>569000.0</td>\n",
       "      <td>C$317/sqft</td>\n",
       "      <td>Retail</td>\n",
       "      <td>1795.0</td>\n",
       "      <td>Saskatchewan</td>\n",
       "    </tr>\n",
       "    <tr>\n",
       "      <th>4</th>\n",
       "      <td>1208 6th AVENUE N, Saskatoon, SK S7K 2T5</td>\n",
       "      <td>4</td>\n",
       "      <td>4</td>\n",
       "      <td>2006</td>\n",
       "      <td>2</td>\n",
       "      <td>3,245 sqft lot</td>\n",
       "      <td>Description: Number of Kitchens: 1</td>\n",
       "      <td>465000.0</td>\n",
       "      <td>C$344/sqft</td>\n",
       "      <td>Retail</td>\n",
       "      <td>1350.0</td>\n",
       "      <td>Saskatchewan</td>\n",
       "    </tr>\n",
       "  </tbody>\n",
       "</table>\n",
       "</div>"
      ],
      "text/plain": [
       "                                         Address Bathrooms Bedrooms  \\\n",
       "0      234 Heise CRESCENT, Saskatoon, SK S7M 4Y8         3        3   \n",
       "1     326 Ottawa AVENUE N, Saskatoon, SK S7L 3P1         2        4   \n",
       "2   1019 Lansdowne AVENUE, Saskatoon, SK S7H 2C2         2        4   \n",
       "3  107 Brookdale CRESCENT, Saskatoon, SK S7V 1K5         3        3   \n",
       "4       1208 6th AVENUE N, Saskatoon, SK S7K 2T5         4        4   \n",
       "\n",
       "  Built Year               Garage Space Lot Size (sqft)  \\\n",
       "0       1979                          1  5,741 sqft lot   \n",
       "1       1960                          2  6,616 sqft lot   \n",
       "2       1946  Has uncovered spaces: Yes  4,199 sqft lot   \n",
       "3       2006                          2  6,128 sqft lot   \n",
       "4       2006                          2  3,245 sqft lot   \n",
       "\n",
       "                             Kitchens     Price Price per Sqft  \\\n",
       "0  Description: Number of Kitchens: 1  309000.0     C$240/sqft   \n",
       "1  Description: Number of Kitchens: 1  319900.0     C$338/sqft   \n",
       "2  Description: Number of Kitchens: 2  450000.0     C$551/sqft   \n",
       "3  Description: Number of Kitchens: 1  569000.0     C$317/sqft   \n",
       "4  Description: Number of Kitchens: 1  465000.0     C$344/sqft   \n",
       "\n",
       "             Property Type  Square Feet         State  \n",
       "0  Single Family Residence       1290.0  Saskatchewan  \n",
       "1  Single Family Residence        947.0  Saskatchewan  \n",
       "2  Single Family Residence        816.0  Saskatchewan  \n",
       "3                   Retail       1795.0  Saskatchewan  \n",
       "4                   Retail       1350.0  Saskatchewan  "
      ]
     },
     "execution_count": 676,
     "metadata": {},
     "output_type": "execute_result"
    }
   ],
   "source": [
    "df.head()"
   ]
  },
  {
   "cell_type": "code",
   "execution_count": 677,
   "id": "3f7a9560-df2d-40a9-9c17-08a85c90b71b",
   "metadata": {},
   "outputs": [],
   "source": [
    "df.to_csv(\"garage_edited.csv\",index = False)"
   ]
  },
  {
   "cell_type": "code",
   "execution_count": 678,
   "id": "26d0274d-5b86-42d1-b5ad-bf755b0aacb3",
   "metadata": {},
   "outputs": [],
   "source": [
    "# Print the rows that contain the value \"25.00\" in the \"Garage Space\" column\n",
    "\n"
   ]
  },
  {
   "cell_type": "code",
   "execution_count": 679,
   "id": "3b7d8e68-7c57-461a-b96b-504be4bda4dd",
   "metadata": {},
   "outputs": [],
   "source": [
    "import re\n",
    "\n",
    "# Define a function to extract the numeric value from a string\n",
    "def extract_numeric_value(s):\n",
    "    if isinstance(s, str):\n",
    "        match = re.search(r'\\d+(\\.\\d+)?', s)\n",
    "        if match:\n",
    "            return float(match.group())\n",
    "        else:\n",
    "            return 1\n",
    "    else:\n",
    "        return s\n",
    "\n",
    "# Extract numeric values from the \"Garage Space\" column\n",
    "df['Garage Space'] = df['Garage Space'].apply(extract_numeric_value)\n"
   ]
  },
  {
   "cell_type": "code",
   "execution_count": 680,
   "id": "ced31ea3-c45a-489f-8858-e31ae1e41d34",
   "metadata": {},
   "outputs": [
    {
     "name": "stdout",
     "output_type": "stream",
     "text": [
      "0       1.0\n",
      "1       2.0\n",
      "2       1.0\n",
      "3       2.0\n",
      "4       2.0\n",
      "       ... \n",
      "1566    1.0\n",
      "1567    1.0\n",
      "1568    1.0\n",
      "1569    2.0\n",
      "1570    6.0\n",
      "Name: Garage Space, Length: 1571, dtype: float64\n"
     ]
    }
   ],
   "source": [
    "print(df['Garage Space'])\n"
   ]
  },
  {
   "cell_type": "code",
   "execution_count": 681,
   "id": "6e7a5e69-4b59-42f3-8803-0f8b9ccb3d2a",
   "metadata": {},
   "outputs": [
    {
     "data": {
      "text/plain": [
       "Garage Space\n",
       "1.0     691\n",
       "2.0     576\n",
       "3.0      57\n",
       "0.0      48\n",
       "4.0      10\n",
       "6.0       5\n",
       "25.0      4\n",
       "8.0       3\n",
       "35.0      2\n",
       "5.0       2\n",
       "24.0      1\n",
       "20.0      1\n",
       "50.0      1\n",
       "40.0      1\n",
       "9.0       1\n",
       "Name: count, dtype: int64"
      ]
     },
     "execution_count": 681,
     "metadata": {},
     "output_type": "execute_result"
    }
   ],
   "source": [
    "df['Garage Space'].value_counts()"
   ]
  },
  {
   "cell_type": "code",
   "execution_count": 682,
   "id": "b266f4d2-ba77-4d64-91d2-4379868c9858",
   "metadata": {},
   "outputs": [],
   "source": [
    "!pip install seaborn"
   ]
  },
  {
   "cell_type": "code",
   "execution_count": 683,
   "id": "5295f766-f213-4617-af38-ace0a5db8550",
   "metadata": {},
   "outputs": [],
   "source": [
    "# import seaborn as sns\n",
    "# import matplotlib.pyplot as plt\n",
    "\n",
    "# # Create a boxplot of the \"Garage Space\" column\n",
    "# sns.boxplot(x=df['Garage Space'])\n",
    "\n",
    "# # Show the plot\n",
    "# plt.show()\n"
   ]
  },
  {
   "cell_type": "markdown",
   "id": "c551bfa9-62d3-499d-a48b-9e36c3c72005",
   "metadata": {},
   "source": [
    "### visualise outliers in garage spaces"
   ]
  },
  {
   "cell_type": "code",
   "execution_count": 684,
   "id": "53f13426-7341-4c70-b81e-d2757833685a",
   "metadata": {},
   "outputs": [
    {
     "data": {
      "image/png": "[encoded data removed]",
      "text/plain": [
       "<Figure size 640x480 with 1 Axes>"
      ]
     },
     "metadata": {},
     "output_type": "display_data"
    }
   ],
   "source": [
    "import seaborn as sns\n",
    "import matplotlib.pyplot as plt\n",
    "\n",
    "# Create a scatterplot of \"Garage Space\" against \"Price\"\n",
    "sns.scatterplot(x=df['Garage Space'], y=df['Price'])\n",
    "\n",
    "# Show the plot\n",
    "plt.show()\n"
   ]
  },
  {
   "cell_type": "code",
   "execution_count": 685,
   "id": "78bdd46d-69be-499d-9971-cfd2a36e608a",
   "metadata": {},
   "outputs": [],
   "source": [
    "# # Calculate the z-score of the \"Garage Space\" column\n",
    "# z_scores = (df['Garage Space'] - df['Garage Space'].mean()) / df['Garage Space'].std()\n",
    "\n",
    "# # Convert outliers to standardized values\n",
    "# df['Garage Space'] = df['Garage Space'].where(abs(z_scores) < 3, df['Garage Space'].mean())\n"
   ]
  },
  {
   "cell_type": "code",
   "execution_count": 686,
   "id": "158a134d-98c6-4d2f-9fb6-2b80aa791d70",
   "metadata": {},
   "outputs": [
    {
     "data": {
      "text/plain": [
       "Garage Space\n",
       "1.0     691\n",
       "2.0     576\n",
       "3.0      57\n",
       "0.0      48\n",
       "4.0      10\n",
       "6.0       5\n",
       "25.0      4\n",
       "8.0       3\n",
       "35.0      2\n",
       "5.0       2\n",
       "24.0      1\n",
       "20.0      1\n",
       "50.0      1\n",
       "40.0      1\n",
       "9.0       1\n",
       "Name: count, dtype: int64"
      ]
     },
     "execution_count": 686,
     "metadata": {},
     "output_type": "execute_result"
    }
   ],
   "source": [
    "df[\"Garage Space\"].value_counts()"
   ]
  },
  {
   "cell_type": "code",
   "execution_count": 687,
   "id": "fd617860-1213-4873-8cd0-da3edbbaea51",
   "metadata": {},
   "outputs": [],
   "source": [
    "# sns.scatterplot(x=df['Garage Space'], y=df['Price'])\n",
    "\n",
    "# # Show the plot\n",
    "# plt.show()\n"
   ]
  },
  {
   "cell_type": "code",
   "execution_count": 688,
   "id": "82c5537b-f367-4938-9657-f781e17c3250",
   "metadata": {},
   "outputs": [],
   "source": [
    "# # Calculate the IQR of the \"Garage Space\" column\n",
    "# Q1 = df['Garage Space'].quantile(0.25)\n",
    "# Q3 = df['Garage Space'].quantile(0.75)\n",
    "# IQR = Q3 - Q1\n",
    "\n",
    "# # Remove outliers\n",
    "# df = df[(df['Garage Space'] >= Q1 - 1.5 * IQR) & (df['Garage Space'] <= Q3 + 1.5 * IQR)]\n"
   ]
  },
  {
   "cell_type": "code",
   "execution_count": null,
   "id": "2f181a54-63a3-4ce3-aa1d-16d023230d61",
   "metadata": {},
   "outputs": [],
   "source": []
  },
  {
   "cell_type": "code",
   "execution_count": 689,
   "id": "91b914f7-d78b-42b3-b8c8-d3e3e933e3a2",
   "metadata": {},
   "outputs": [],
   "source": [
    "# Replace values in 'Garage Space' column\n",
    "df['Garage Space'] = df['Garage Space'].apply(lambda x: 3 if x in [5, 6] else (2 if x > 6 else x))\n",
    "\n"
   ]
  },
  {
   "cell_type": "code",
   "execution_count": 690,
   "id": "3e6984d4-8ea9-42e1-9a7d-d71967df8129",
   "metadata": {},
   "outputs": [
    {
     "data": {
      "text/plain": [
       "Garage Space\n",
       "1.0    691\n",
       "2.0    590\n",
       "3.0     64\n",
       "0.0     48\n",
       "4.0     10\n",
       "Name: count, dtype: int64"
      ]
     },
     "execution_count": 690,
     "metadata": {},
     "output_type": "execute_result"
    }
   ],
   "source": [
    "df[\"Garage Space\"].value_counts()"
   ]
  },
  {
   "cell_type": "code",
   "execution_count": 691,
   "id": "68ad7e22-22c0-4b27-9475-e2717ed24ff4",
   "metadata": {},
   "outputs": [
    {
     "name": "stdout",
     "output_type": "stream",
     "text": [
      "Empty DataFrame\n",
      "Columns: [Address, Bathrooms, Bedrooms, Built Year, Garage Space, Lot Size (sqft), Kitchens, Price, Price per Sqft, Property Type, Square Feet, State]\n",
      "Index: []\n"
     ]
    }
   ],
   "source": [
    "# Check if any rows contain the value 1.732716 in the \"Garage Space\" column\n",
    "print(df[df['Garage Space'].isin([1.732716])])\n"
   ]
  },
  {
   "cell_type": "code",
   "execution_count": 692,
   "id": "37b4bb31-6a82-4b77-aad7-7f8720648531",
   "metadata": {},
   "outputs": [],
   "source": [
    "# %history\n"
   ]
  },
  {
   "cell_type": "markdown",
   "id": "3eb51c04-8257-4bc3-af03-b1b1e30efc21",
   "metadata": {},
   "source": [
    "#### cleaned outlier in garage spaces"
   ]
  },
  {
   "cell_type": "code",
   "execution_count": 693,
   "id": "202d0b2c-d695-4548-8b6b-9ee27926251d",
   "metadata": {},
   "outputs": [
    {
     "data": {
      "image/png": "[encoded data removed]",
      "text/plain": [
       "<Figure size 640x480 with 1 Axes>"
      ]
     },
     "metadata": {},
     "output_type": "display_data"
    }
   ],
   "source": [
    "sns.scatterplot(x=df['Garage Space'], y=df['Price'])\n",
    "# Show the plot\n",
    "plt.show()"
   ]
  },
  {
   "cell_type": "code",
   "execution_count": 694,
   "id": "b76dda5d-0f91-4eb4-881c-99da21d739d5",
   "metadata": {},
   "outputs": [
    {
     "name": "stdout",
     "output_type": "stream",
     "text": [
      "63\n"
     ]
    }
   ],
   "source": [
    "# Check if there are any empty or missing values in the \"Built Year\" column\n",
    "print(df['Built Year'].apply(lambda x: x == '' or pd.isnull(x)).sum())\n",
    "\n"
   ]
  },
  {
   "cell_type": "code",
   "execution_count": 695,
   "id": "f74f3276-649d-466f-89d4-bdb1931a6974",
   "metadata": {},
   "outputs": [
    {
     "name": "stdout",
     "output_type": "stream",
     "text": [
      "                                           Address Bathrooms Bedrooms  \\\n",
      "430         1222 B AVENUE N, Saskatoon, SK S7L 1X3         2        4   \n",
      "436   1630 Wiggins AVENUE S, Saskatoon, SK S7H 2J9        --       --   \n",
      "690       5 Connaught PLACE, Saskatoon, SK S7L 1C7        --       --   \n",
      "713       222 24th STREET W, Saskatoon, SK S7L 0B5        --       --   \n",
      "714      1401 Cairns AVENUE, Saskatoon, SK S7H 2H3        --       --   \n",
      "...                                            ...       ...      ...   \n",
      "1507      1335 Robinson STREET, Regina, SK S4T 2N5        --       --   \n",
      "1508        1202 Garnet STREET, Regina, SK S4T 2Z4        --       --   \n",
      "1509       1324 Empress STREET, Regina, SK S4T 5E5        --       --   \n",
      "1510          6501 28th AVENUE, Regina, SK S4W 0L3        --       --   \n",
      "1560       2322 ST JOHN STREET, Regina, SK S4P 0W5        --       --   \n",
      "\n",
      "     Built Year  Garage Space Lot Size (sqft)  \\\n",
      "430         NaN           1.0  6,198 sqft lot   \n",
      "436         NaN           0.0  4,369 sqft lot   \n",
      "690         NaN           2.0  3,737 sqft lot   \n",
      "713         NaN           NaN  2,491 sqft lot   \n",
      "714         NaN           NaN  3,123 sqft lot   \n",
      "...         ...           ...             ...   \n",
      "1507        NaN           NaN  6,250 sqft lot   \n",
      "1508        NaN           1.0  6,250 sqft lot   \n",
      "1509        NaN           1.0  3,114 sqft lot   \n",
      "1510        NaN           NaN  1.43 Acres lot   \n",
      "1560        NaN           NaN  6,250 sqft lot   \n",
      "\n",
      "                                Kitchens     Price Price per Sqft  \\\n",
      "430   Description: Number of Kitchens: 1  299000.0     C$187/sqft   \n",
      "436   Description: Number of Kitchens: 1  284900.0      C$--/sqft   \n",
      "690                                  NaN   39900.0      C$--/sqft   \n",
      "713                                  NaN   65000.0      C$--/sqft   \n",
      "714                                  NaN  209900.0      C$--/sqft   \n",
      "...                                  ...       ...            ...   \n",
      "1507                                 NaN   36500.0      C$--/sqft   \n",
      "1508                                 NaN   49900.0      C$--/sqft   \n",
      "1509                                 NaN   62500.0      C$--/sqft   \n",
      "1510                                 NaN  430000.0      C$--/sqft   \n",
      "1560                                 NaN  225900.0      C$--/sqft   \n",
      "\n",
      "        Property Type  Square Feet         State  \n",
      "430            Retail       1600.0  Saskatchewan  \n",
      "436   Unimproved Land       4369.0  Saskatchewan  \n",
      "690   Unimproved Land       3737.0  Saskatchewan  \n",
      "713   Unimproved Land       2492.0  Saskatchewan  \n",
      "714   Unimproved Land       3123.0  Saskatchewan  \n",
      "...               ...          ...           ...  \n",
      "1507  Unimproved Land       6251.0  Saskatchewan  \n",
      "1508  Unimproved Land       6251.0  Saskatchewan  \n",
      "1509  Unimproved Land       3115.0  Saskatchewan  \n",
      "1510  Unimproved Land          1.0  Saskatchewan  \n",
      "1560  Unimproved Land       6251.0  Saskatchewan  \n",
      "\n",
      "[63 rows x 12 columns]\n"
     ]
    }
   ],
   "source": [
    "# Get the rows that contain empty or missing values in the \"Built Year\" column\n",
    "missing_values = df[df['Built Year'].apply(lambda x: x == '' or pd.isnull(x))]\n",
    "\n",
    "# Print the rows that contain empty or missing values in the \"Built Year\" column\n",
    "print(missing_values)\n"
   ]
  },
  {
   "cell_type": "code",
   "execution_count": 696,
   "id": "9953815d-ccf7-42d0-9ea6-a61cbad500cc",
   "metadata": {},
   "outputs": [
    {
     "name": "stdout",
     "output_type": "stream",
     "text": [
      "Built Year\n",
      "2024    86\n",
      "NaN     63\n",
      "2013    62\n",
      "2014    45\n",
      "2012    42\n",
      "        ..\n",
      "1932     1\n",
      "1906     1\n",
      "1940     1\n",
      "1907     1\n",
      "1919     1\n",
      "Name: count, Length: 116, dtype: int64\n"
     ]
    }
   ],
   "source": [
    "print(df[\"Built Year\"].value_counts(dropna=False)) # Get the full value count of the \"Built Year\" column\n",
    "\n"
   ]
  },
  {
   "cell_type": "markdown",
   "id": "cea9d709-6d8a-4ad7-adea-bd59ca721e7d",
   "metadata": {},
   "source": [
    "#### checking columns and raws with maximum number of null values"
   ]
  },
  {
   "cell_type": "code",
   "execution_count": 697,
   "id": "4c013073-a017-45da-aeea-c0fb184ce3b1",
   "metadata": {},
   "outputs": [
    {
     "name": "stdout",
     "output_type": "stream",
     "text": [
      "Column with the most null values: Garage Space (168 null values)\n",
      "Row with the most null values: 713 (3 null values)\n"
     ]
    }
   ],
   "source": [
    "# Create a boolean mask of the DataFrame that indicates which values are null\n",
    "null_mask = df.isnull()\n",
    "\n",
    "# Count the number of null values in each column\n",
    "column_null_counts = null_mask.sum()\n",
    "\n",
    "# Count the number of null values in each row\n",
    "row_null_counts = null_mask.sum(axis=1)\n",
    "\n",
    "# Get the column with the most null values\n",
    "max_column_null_count = column_null_counts.max()\n",
    "max_column = column_null_counts[column_null_counts == max_column_null_count].index[0]\n",
    "\n",
    "# Get the row with the most null values\n",
    "max_row_null_count = row_null_counts.max()\n",
    "max_row = row_null_counts[row_null_counts == max_row_null_count].index[0]\n",
    "\n",
    "# Print the column and row with the most null values\n",
    "print(f\"Column with the most null values: {max_column} ({max_column_null_count} null values)\")\n",
    "print(f\"Row with the most null values: {max_row} ({max_row_null_count} null values)\")\n"
   ]
  },
  {
   "cell_type": "code",
   "execution_count": 698,
   "id": "c487d6cf-a461-44eb-be78-7a3866fdec43",
   "metadata": {},
   "outputs": [],
   "source": [
    "# Fill null values in the \"Garage Space\" column with the value 2\n",
    "df['Garage Space'] = df['Garage Space'].fillna(2)\n"
   ]
  },
  {
   "cell_type": "code",
   "execution_count": 699,
   "id": "d4d5802b-61bd-40a9-b15e-93404ac1a746",
   "metadata": {},
   "outputs": [
    {
     "data": {
      "text/plain": [
       "1571"
      ]
     },
     "execution_count": 699,
     "metadata": {},
     "output_type": "execute_result"
    }
   ],
   "source": [
    "\n",
    "df['Garage Space'].count()"
   ]
  },
  {
   "cell_type": "markdown",
   "id": "2a30945c-6165-4f45-856a-e59b89b2c71f",
   "metadata": {},
   "source": [
    "#### checking total values in garage space without empty or null values"
   ]
  },
  {
   "cell_type": "code",
   "execution_count": 700,
   "id": "4ff4c445-b758-485e-ae50-5d414070dc8f",
   "metadata": {},
   "outputs": [
    {
     "name": "stdout",
     "output_type": "stream",
     "text": [
      "Total number of non-null and non-empty values in the Garage Space column: 1571\n"
     ]
    }
   ],
   "source": [
    "# Get the total number of non-null and non-empty values in the \"Garage Space\" column\n",
    "total_values = df['Garage Space'].dropna().replace('', np.nan).dropna().count()\n",
    "\n",
    "# Print the total number of non-null and non-empty values in the \"Garage Space\" column\n",
    "print(f\"Total number of non-null and non-empty values in the Garage Space column: {total_values}\")\n"
   ]
  },
  {
   "cell_type": "code",
   "execution_count": 701,
   "id": "0a850677-0c73-4d98-9f85-fe17cf944f58",
   "metadata": {},
   "outputs": [
    {
     "data": {
      "text/html": [
       "<div>\n",
       "<style scoped>\n",
       "    .dataframe tbody tr th:only-of-type {\n",
       "        vertical-align: middle;\n",
       "    }\n",
       "\n",
       "    .dataframe tbody tr th {\n",
       "        vertical-align: top;\n",
       "    }\n",
       "\n",
       "    .dataframe thead th {\n",
       "        text-align: right;\n",
       "    }\n",
       "</style>\n",
       "<table border=\"1\" class=\"dataframe\">\n",
       "  <thead>\n",
       "    <tr style=\"text-align: right;\">\n",
       "      <th></th>\n",
       "      <th>Address</th>\n",
       "      <th>Bathrooms</th>\n",
       "      <th>Bedrooms</th>\n",
       "      <th>Built Year</th>\n",
       "      <th>Garage Space</th>\n",
       "      <th>Lot Size (sqft)</th>\n",
       "      <th>Kitchens</th>\n",
       "      <th>Price</th>\n",
       "      <th>Price per Sqft</th>\n",
       "      <th>Property Type</th>\n",
       "      <th>Square Feet</th>\n",
       "      <th>State</th>\n",
       "    </tr>\n",
       "  </thead>\n",
       "  <tbody>\n",
       "    <tr>\n",
       "      <th>0</th>\n",
       "      <td>234 Heise CRESCENT, Saskatoon, SK S7M 4Y8</td>\n",
       "      <td>3</td>\n",
       "      <td>3</td>\n",
       "      <td>1979</td>\n",
       "      <td>1.0</td>\n",
       "      <td>5,741 sqft lot</td>\n",
       "      <td>Description: Number of Kitchens: 1</td>\n",
       "      <td>309000.0</td>\n",
       "      <td>C$240/sqft</td>\n",
       "      <td>Single Family Residence</td>\n",
       "      <td>1290.0</td>\n",
       "      <td>Saskatchewan</td>\n",
       "    </tr>\n",
       "    <tr>\n",
       "      <th>1</th>\n",
       "      <td>326 Ottawa AVENUE N, Saskatoon, SK S7L 3P1</td>\n",
       "      <td>2</td>\n",
       "      <td>4</td>\n",
       "      <td>1960</td>\n",
       "      <td>2.0</td>\n",
       "      <td>6,616 sqft lot</td>\n",
       "      <td>Description: Number of Kitchens: 1</td>\n",
       "      <td>319900.0</td>\n",
       "      <td>C$338/sqft</td>\n",
       "      <td>Single Family Residence</td>\n",
       "      <td>947.0</td>\n",
       "      <td>Saskatchewan</td>\n",
       "    </tr>\n",
       "    <tr>\n",
       "      <th>2</th>\n",
       "      <td>1019 Lansdowne AVENUE, Saskatoon, SK S7H 2C2</td>\n",
       "      <td>2</td>\n",
       "      <td>4</td>\n",
       "      <td>1946</td>\n",
       "      <td>1.0</td>\n",
       "      <td>4,199 sqft lot</td>\n",
       "      <td>Description: Number of Kitchens: 2</td>\n",
       "      <td>450000.0</td>\n",
       "      <td>C$551/sqft</td>\n",
       "      <td>Single Family Residence</td>\n",
       "      <td>816.0</td>\n",
       "      <td>Saskatchewan</td>\n",
       "    </tr>\n",
       "    <tr>\n",
       "      <th>3</th>\n",
       "      <td>107 Brookdale CRESCENT, Saskatoon, SK S7V 1K5</td>\n",
       "      <td>3</td>\n",
       "      <td>3</td>\n",
       "      <td>2006</td>\n",
       "      <td>2.0</td>\n",
       "      <td>6,128 sqft lot</td>\n",
       "      <td>Description: Number of Kitchens: 1</td>\n",
       "      <td>569000.0</td>\n",
       "      <td>C$317/sqft</td>\n",
       "      <td>Retail</td>\n",
       "      <td>1795.0</td>\n",
       "      <td>Saskatchewan</td>\n",
       "    </tr>\n",
       "    <tr>\n",
       "      <th>4</th>\n",
       "      <td>1208 6th AVENUE N, Saskatoon, SK S7K 2T5</td>\n",
       "      <td>4</td>\n",
       "      <td>4</td>\n",
       "      <td>2006</td>\n",
       "      <td>2.0</td>\n",
       "      <td>3,245 sqft lot</td>\n",
       "      <td>Description: Number of Kitchens: 1</td>\n",
       "      <td>465000.0</td>\n",
       "      <td>C$344/sqft</td>\n",
       "      <td>Retail</td>\n",
       "      <td>1350.0</td>\n",
       "      <td>Saskatchewan</td>\n",
       "    </tr>\n",
       "  </tbody>\n",
       "</table>\n",
       "</div>"
      ],
      "text/plain": [
       "                                         Address Bathrooms Bedrooms  \\\n",
       "0      234 Heise CRESCENT, Saskatoon, SK S7M 4Y8         3        3   \n",
       "1     326 Ottawa AVENUE N, Saskatoon, SK S7L 3P1         2        4   \n",
       "2   1019 Lansdowne AVENUE, Saskatoon, SK S7H 2C2         2        4   \n",
       "3  107 Brookdale CRESCENT, Saskatoon, SK S7V 1K5         3        3   \n",
       "4       1208 6th AVENUE N, Saskatoon, SK S7K 2T5         4        4   \n",
       "\n",
       "  Built Year  Garage Space Lot Size (sqft)  \\\n",
       "0       1979           1.0  5,741 sqft lot   \n",
       "1       1960           2.0  6,616 sqft lot   \n",
       "2       1946           1.0  4,199 sqft lot   \n",
       "3       2006           2.0  6,128 sqft lot   \n",
       "4       2006           2.0  3,245 sqft lot   \n",
       "\n",
       "                             Kitchens     Price Price per Sqft  \\\n",
       "0  Description: Number of Kitchens: 1  309000.0     C$240/sqft   \n",
       "1  Description: Number of Kitchens: 1  319900.0     C$338/sqft   \n",
       "2  Description: Number of Kitchens: 2  450000.0     C$551/sqft   \n",
       "3  Description: Number of Kitchens: 1  569000.0     C$317/sqft   \n",
       "4  Description: Number of Kitchens: 1  465000.0     C$344/sqft   \n",
       "\n",
       "             Property Type  Square Feet         State  \n",
       "0  Single Family Residence       1290.0  Saskatchewan  \n",
       "1  Single Family Residence        947.0  Saskatchewan  \n",
       "2  Single Family Residence        816.0  Saskatchewan  \n",
       "3                   Retail       1795.0  Saskatchewan  \n",
       "4                   Retail       1350.0  Saskatchewan  "
      ]
     },
     "execution_count": 701,
     "metadata": {},
     "output_type": "execute_result"
    }
   ],
   "source": [
    "df.head()"
   ]
  },
  {
   "cell_type": "markdown",
   "id": "e8506c37-118f-4139-a0e1-326e8683b636",
   "metadata": {},
   "source": [
    "#### cleaning lot size (sqft)"
   ]
  },
  {
   "cell_type": "code",
   "execution_count": 702,
   "id": "401d7286-708b-440c-a996-9fdfecfa3937",
   "metadata": {},
   "outputs": [
    {
     "data": {
      "text/plain": [
       "Lot Size (sqft)\n",
       "-- sqft lot       610\n",
       "3,123 sqft lot     65\n",
       "3,118 sqft lot     34\n",
       "3,127 sqft lot     22\n",
       "6,250 sqft lot     13\n",
       "                 ... \n",
       "2,081 sqft lot      1\n",
       "9,064 sqft lot      1\n",
       "8,145 sqft lot      1\n",
       "3,480 sqft lot      1\n",
       "5,601 sqft lot      1\n",
       "Name: count, Length: 535, dtype: int64"
      ]
     },
     "execution_count": 702,
     "metadata": {},
     "output_type": "execute_result"
    }
   ],
   "source": [
    "df[\"Lot Size (sqft)\"].value_counts()\n"
   ]
  },
  {
   "cell_type": "code",
   "execution_count": 703,
   "id": "bc733d8d-31c5-4ac7-bf99-ea7ff8b30658",
   "metadata": {},
   "outputs": [],
   "source": [
    "# Remove the \"sqft lot\" text and commas from the \"Lot Size (sqft)\" column\n",
    "df[\"Lot Size (sqft)\"] = df[\"Lot Size (sqft)\"].str.replace(\" sqft lot\", \"\").str.replace(\",\", \"\")\n"
   ]
  },
  {
   "cell_type": "code",
   "execution_count": 704,
   "id": "ab1258fc-db92-4260-b86e-c38b6775b121",
   "metadata": {},
   "outputs": [
    {
     "data": {
      "text/plain": [
       "Lot Size (sqft)\n",
       "--      610\n",
       "3123     65\n",
       "3118     34\n",
       "3127     22\n",
       "6250     13\n",
       "       ... \n",
       "2081      1\n",
       "9064      1\n",
       "8145      1\n",
       "3480      1\n",
       "5601      1\n",
       "Name: count, Length: 535, dtype: int64"
      ]
     },
     "execution_count": 704,
     "metadata": {},
     "output_type": "execute_result"
    }
   ],
   "source": [
    "df[\"Lot Size (sqft)\"].value_counts()"
   ]
  },
  {
   "cell_type": "code",
   "execution_count": 705,
   "id": "bf72dc32-1f76-4833-89c5-ec37ea1d04c7",
   "metadata": {},
   "outputs": [
    {
     "name": "stdout",
     "output_type": "stream",
     "text": [
      "                                                Address Bathrooms Bedrooms  \\\n",
      "102          1226 Beechmont VIEW, Saskatoon, SK S7V 1E2         4        3   \n",
      "192           138 Highbury PLACE, Saskatoon, SK S7H 4X7         4        4   \n",
      "266              43 Jordan PLACE, Saskatoon, SK S7L 4J2         3        4   \n",
      "267         870 University DRIVE, Saskatoon, SK S7N 0J7         4        5   \n",
      "312             415 Braeside BAY, Saskatoon, SK S7V 1A3         3        4   \n",
      "354         1530 Pohorecky COURT, Saskatoon, SK S7S 1N1         4        5   \n",
      "420    UNIT 226-1220 Pringle WAY, Saskatoon, SK S7T 0X5         3        3   \n",
      "422         621 Brookhurst COURT, Saskatoon, SK S7V 1E5         4        5   \n",
      "435             3445 Caen STREET, Saskatoon, SK S7M 3P5         4        4   \n",
      "467           3341 Dieppe STREET, Saskatoon, SK S7M 3S6         4        5   \n",
      "482      2126 Ste Cecilia AVENUE, Saskatoon, SK S7M 0P2         2        6   \n",
      "630               116 U AVENUE N, Saskatoon, SK S7L 3C3         1        1   \n",
      "693   UNIT 4-720 Brighton BOULEVARD, Saskatoon, SK S...         2        1   \n",
      "700   UNIT 6-720 Brighton BOULEVARD, Saskatoon, SK S...         2        1   \n",
      "769             5 Capitol PLACE, White City, SK S4L 0C7         5        6   \n",
      "833                 1622 BENSON BAY, Regina, SK S4V 1S7         4        6   \n",
      "852              3478 ALBERT STREET, Regina, SK S4S 3P2         5        4   \n",
      "878           3 Hummingbird BAY, White City, SK S4L 1A9         3        3   \n",
      "894             2079 Francis STREET, Regina, SK S4N 2P2         2        4   \n",
      "896               2924 3RD AVENUE N, Regina, SK S4R 0W5         2        3   \n",
      "901             2520 College AVENUE, Regina, SK S4P 1C9         4        5   \n",
      "902        1 Emerald Creek ROAD, White City, SK S4L 0B1         4        5   \n",
      "936            27 Federal DRIVE, White City, SK S4L 0B6         5        4   \n",
      "991              35 Meadow ROAD, White City, SK S4L 5B1         3        3   \n",
      "1064                   18 Lloyd BAY, Regina, SK S4R 5T6         2        4   \n",
      "1088           14 Emerald RIDGE, White City, SK S4L 5B1         4        4   \n",
      "1101  280 Hanley CRESCENT, Edenwold Rm No. 158, SK S...         5        6   \n",
      "1152  330 Spruce Creek DRIVE, Edenwold Rm No. 158, S...         4        5   \n",
      "1175    360 Emerald Park ROAD, Emerald Park, SK S4L 0E7         3        5   \n",
      "1195      4818 Sandpiper CRESCENT E, Regina, SK S4V 1M8         4        4   \n",
      "1205  134 Aspen Village DRIVE, Emerald Park, SK S4L 0C4         4        4   \n",
      "1248              14 Park BAY, Emerald Park, SK S4L 1B2         4        4   \n",
      "1253           2100 Courtney STREET, Regina, SK X0X 0X0         3        3   \n",
      "1256           2100 Courtney STREET, Regina, SK X0X 0X0         3        3   \n",
      "1258           2100 Courtney STREET, Regina, SK X0X 0X0         3        3   \n",
      "1263           2100 Courtney STREET, Regina, SK X0X 0X0         3        3   \n",
      "1300         202 Fairway ROAD, Emerald Park, SK S4L 1C8         3        5   \n",
      "1497            460 McIntyre STREET, Regina, SK S4R 2M3        --       --   \n",
      "1498             4200 Ellice STREET, Regina, SK S4W 0L3        --       --   \n",
      "1510               6501 28th AVENUE, Regina, SK S4W 0L3        --       --   \n",
      "1539           251 Halifax STREET N, Regina, SK S4R 2W6         4        4   \n",
      "\n",
      "     Built Year  Garage Space  Lot Size (sqft)  \\\n",
      "102        2004           3.0   0.28 Acres lot   \n",
      "192        1978           2.0   0.30 Acres lot   \n",
      "266        1973           2.0   0.32 Acres lot   \n",
      "267        1914           1.0   0.28 Acres lot   \n",
      "312        1992           2.0   0.30 Acres lot   \n",
      "354        2013           4.0   0.30 Acres lot   \n",
      "420        2015           2.0     50 Acres lot   \n",
      "422        2001           2.0   0.27 Acres lot   \n",
      "435        1969           2.0     40 Acres lot   \n",
      "467        1966           3.0   0.34 Acres lot   \n",
      "482        1965           3.0   0.27 Acres lot   \n",
      "630        1936           0.0   4663 Acres lot   \n",
      "693        2025           2.0  93.30 Acres lot   \n",
      "700        2025           2.0  93.30 Acres lot   \n",
      "769        1977           4.0   0.60 Acres lot   \n",
      "833        1984           2.0   0.29 Acres lot   \n",
      "852        1966           2.0   0.34 Acres lot   \n",
      "878        1974           2.0   0.65 Acres lot   \n",
      "894        1971           1.0   2740 Acres lot   \n",
      "896        1963           2.0   0.28 Acres lot   \n",
      "901        1911           2.0   0.29 Acres lot   \n",
      "902        2009           4.0   0.47 Acres lot   \n",
      "936        1977           4.0   0.64 Acres lot   \n",
      "991        1981           2.0   0.74 Acres lot   \n",
      "1064       1973           1.0   0.26 Acres lot   \n",
      "1088       2005           3.0   0.51 Acres lot   \n",
      "1101       2010           3.0   4.88 Acres lot   \n",
      "1152       2014           4.0   0.61 Acres lot   \n",
      "1175       2024           3.0   0.35 Acres lot   \n",
      "1195       2011           2.0   0.30 Acres lot   \n",
      "1205       2011           3.0   0.38 Acres lot   \n",
      "1248       1993           2.0   0.30 Acres lot   \n",
      "1253       1995           2.0      5 Acres lot   \n",
      "1256       1995           2.0      5 Acres lot   \n",
      "1258       1995           2.0      5 Acres lot   \n",
      "1263       1995           2.0      5 Acres lot   \n",
      "1300       2023           3.0   0.30 Acres lot   \n",
      "1497        NaN           2.0   0.25 Acres lot   \n",
      "1498        NaN           2.0   0.77 Acres lot   \n",
      "1510        NaN           2.0   1.43 Acres lot   \n",
      "1539       1969           2.0   0.35 Acres lot   \n",
      "\n",
      "                                    Kitchens      Price Price per Sqft  \\\n",
      "102       Description: Number of Kitchens: 1  1397500.0     C$516/sqft   \n",
      "192       Description: Number of Kitchens: 1   795000.0     C$315/sqft   \n",
      "266       Description: Number of Kitchens: 1   409900.0     C$295/sqft   \n",
      "267       Description: Number of Kitchens: 2  1774900.0     C$432/sqft   \n",
      "312       Description: Number of Kitchens: 1   999900.0     C$518/sqft   \n",
      "354       Description: Number of Kitchens: 1   949900.0     C$385/sqft   \n",
      "420       Description: Number of Kitchens: 1   427900.0     C$242/sqft   \n",
      "422       Description: Number of Kitchens: 1   999900.0     C$282/sqft   \n",
      "435       Description: Number of Kitchens: 1   539900.0     C$317/sqft   \n",
      "467       Description: Number of Kitchens: 1   949900.0     C$293/sqft   \n",
      "482       Description: Number of Kitchens: 2   899900.0     C$756/sqft   \n",
      "630   Forced Air, Natural Gas, Furnace Owned   180000.0     C$298/sqft   \n",
      "693       Description: Number of Kitchens: 1   669900.0     C$625/sqft   \n",
      "700       Description: Number of Kitchens: 1   679900.0     C$613/sqft   \n",
      "769       Description: Number of Kitchens: 1   860000.0     C$295/sqft   \n",
      "833       Description: Number of Kitchens: 2   699900.0     C$307/sqft   \n",
      "852       Description: Number of Kitchens: 1   849900.0     C$256/sqft   \n",
      "878       Description: Number of Kitchens: 1   589900.0     C$456/sqft   \n",
      "894       Description: Number of Kitchens: 1   264500.0     C$277/sqft   \n",
      "896       Description: Number of Kitchens: 1   374900.0     C$337/sqft   \n",
      "901       Description: Number of Kitchens: 2   629900.0     C$155/sqft   \n",
      "902       Description: Number of Kitchens: 1   898000.0     C$417/sqft   \n",
      "936       Description: Number of Kitchens: 1   651000.0     C$138/sqft   \n",
      "991       Description: Number of Kitchens: 1   599900.0     C$349/sqft   \n",
      "1064      Description: Number of Kitchens: 1   389000.0     C$280/sqft   \n",
      "1088      Description: Number of Kitchens: 1  1068000.0     C$511/sqft   \n",
      "1101      Description: Number of Kitchens: 2  1299900.0     C$413/sqft   \n",
      "1152      Description: Number of Kitchens: 1  1900000.0     C$599/sqft   \n",
      "1175      Description: Number of Kitchens: 1  1100000.0     C$696/sqft   \n",
      "1195      Description: Number of Kitchens: 1  1049900.0     C$440/sqft   \n",
      "1205      Description: Number of Kitchens: 1  1025000.0     C$537/sqft   \n",
      "1248      Description: Number of Kitchens: 1   689900.0     C$333/sqft   \n",
      "1253      Description: Number of Kitchens: 1  1450000.0     C$447/sqft   \n",
      "1256      Description: Number of Kitchens: 1  1450000.0     C$447/sqft   \n",
      "1258      Description: Number of Kitchens: 1  1450000.0     C$447/sqft   \n",
      "1263      Description: Number of Kitchens: 1  1450000.0     C$447/sqft   \n",
      "1300      Description: Number of Kitchens: 1   849000.0     C$527/sqft   \n",
      "1497                       View virtual tour   633000.0      C$--/sqft   \n",
      "1498                                     NaN   121000.0      C$--/sqft   \n",
      "1510                                     NaN   430000.0      C$--/sqft   \n",
      "1539      Description: Number of Kitchens: 1   799900.0     C$308/sqft   \n",
      "\n",
      "                Property Type  Square Feet         State  \n",
      "102   Single Family Residence       2706.0  Saskatchewan  \n",
      "192                    Retail       2522.0  Saskatchewan  \n",
      "266   Single Family Residence       1390.0  Saskatchewan  \n",
      "267                    Retail       4109.0  Saskatchewan  \n",
      "312   Single Family Residence       1932.0  Saskatchewan  \n",
      "354                    Retail       2465.0  Saskatchewan  \n",
      "420                 Townhouse       1770.0  Saskatchewan  \n",
      "422                    Retail       3552.0  Saskatchewan  \n",
      "435                    Retail       1704.0  Saskatchewan  \n",
      "467                    Retail       3239.0  Saskatchewan  \n",
      "482   Single Family Residence       1190.0  Saskatchewan  \n",
      "630   Single Family Residence        604.0  Saskatchewan  \n",
      "693                 Townhouse       1071.0  Saskatchewan  \n",
      "700                 Townhouse       1110.0  Saskatchewan  \n",
      "769                    Retail       2912.0  Saskatchewan  \n",
      "833                    Retail       2279.0  Saskatchewan  \n",
      "852                    Retail       3325.0  Saskatchewan  \n",
      "878   Single Family Residence       1294.0  Saskatchewan  \n",
      "894   Single Family Residence        954.0  Saskatchewan  \n",
      "896   Single Family Residence       1111.0  Saskatchewan  \n",
      "901                    Retail       4057.0  Saskatchewan  \n",
      "902   Single Family Residence       2154.0  Saskatchewan  \n",
      "936   Single Family Residence       4724.0  Saskatchewan  \n",
      "991   Single Family Residence       1719.0  Saskatchewan  \n",
      "1064  Single Family Residence       1390.0  Saskatchewan  \n",
      "1088                   Retail       2088.0  Saskatchewan  \n",
      "1101                   Retail       3145.0  Saskatchewan  \n",
      "1152  Single Family Residence       3170.0  Saskatchewan  \n",
      "1175  Single Family Residence       1581.0  Saskatchewan  \n",
      "1195                   Retail       2386.0  Saskatchewan  \n",
      "1205  Single Family Residence       1910.0  Saskatchewan  \n",
      "1248  Single Family Residence       2074.0  Saskatchewan  \n",
      "1253  Single Family Residence       3244.0  Saskatchewan  \n",
      "1256  Single Family Residence       3244.0  Saskatchewan  \n",
      "1258  Single Family Residence       3244.0  Saskatchewan  \n",
      "1263  Single Family Residence       3244.0  Saskatchewan  \n",
      "1300  Single Family Residence       1612.0  Saskatchewan  \n",
      "1497          Unimproved Land          0.0  Saskatchewan  \n",
      "1498          Unimproved Land          1.0  Saskatchewan  \n",
      "1510          Unimproved Land          1.0  Saskatchewan  \n",
      "1539                   Retail       2596.0  Saskatchewan  \n"
     ]
    }
   ],
   "source": [
    "# Check if the \"Lot Size (sqft)\" column contains any values in acres\n",
    "acres_values = df[\"Lot Size (sqft)\"].str.contains(\"Acres\")\n",
    "\n",
    "# Print the rows that contain values in acres\n",
    "print(df.loc[acres_values])\n"
   ]
  },
  {
   "cell_type": "code",
   "execution_count": 706,
   "id": "83e21c0f-d564-4d3d-94e9-0a42bfd25d2e",
   "metadata": {},
   "outputs": [],
   "source": [
    "# # Calculate the median lot size\n",
    "# median_lot_size = df.loc[df[\"Lot Size (sqft)\"] != \"--\", \"Lot Size (sqft)\"].astype(float).median()\n",
    "\n",
    "# # Fill the \"--\" values with the median lot size\n",
    "# df[\"Lot Size (sqft)\"] = df[\"Lot Size (sqft)\"].replace(\"--\", median_lot_size)\n"
   ]
  },
  {
   "cell_type": "code",
   "execution_count": 707,
   "id": "98f0c835-00fe-4f0c-b318-51d0afc51d0b",
   "metadata": {},
   "outputs": [],
   "source": [
    "# # Replace placeholders like '--' with NaN\n",
    "# df['Lot Size (sqft)'] = df['Lot Size (sqft)'].replace('--', np.nan)\n",
    "\n",
    "# # Convert \"Acres\" to \"sqft\"\n",
    "# def convert_lot_size(value):\n",
    "#     if pd.isna(value):\n",
    "#         return value\n",
    "#     elif 'Acres' in value:\n",
    "#         # Extract the numeric part and convert from acres to sqft\n",
    "#         acres = float(value.split()[0])\n",
    "#         return acres * 43560\n",
    "#     elif 'sqft' in value:\n",
    "#         # Extract the numeric part for sqft\n",
    "#         return float(value.split()[0].replace(',', ''))\n",
    "#     return np.nan\n",
    "\n",
    "# # Apply the conversion function\n",
    "# df['lot size (sqft)'] = df['Lot Size (sqft)'].apply(convert_lot_size)\n",
    "\n",
    "# # Calculate the median lot size, excluding NaN values\n",
    "# median_lot_size = df['lot size (sqft)'].median()\n",
    "\n",
    "# # Fill NaN values with the median\n",
    "# df['lot size (sqft)'] = df['lot size (sqft)'].fillna(median_lot_size)"
   ]
  },
  {
   "cell_type": "code",
   "execution_count": 708,
   "id": "9c8ae8ec-b29e-4f8e-87ca-def8e85838e2",
   "metadata": {
    "scrolled": true
   },
   "outputs": [
    {
     "data": {
      "text/html": [
       "<div>\n",
       "<style scoped>\n",
       "    .dataframe tbody tr th:only-of-type {\n",
       "        vertical-align: middle;\n",
       "    }\n",
       "\n",
       "    .dataframe tbody tr th {\n",
       "        vertical-align: top;\n",
       "    }\n",
       "\n",
       "    .dataframe thead th {\n",
       "        text-align: right;\n",
       "    }\n",
       "</style>\n",
       "<table border=\"1\" class=\"dataframe\">\n",
       "  <thead>\n",
       "    <tr style=\"text-align: right;\">\n",
       "      <th></th>\n",
       "      <th>Address</th>\n",
       "      <th>Bathrooms</th>\n",
       "      <th>Bedrooms</th>\n",
       "      <th>Built Year</th>\n",
       "      <th>Garage Space</th>\n",
       "      <th>Lot Size (sqft)</th>\n",
       "      <th>Kitchens</th>\n",
       "      <th>Price</th>\n",
       "      <th>Price per Sqft</th>\n",
       "      <th>Property Type</th>\n",
       "      <th>Square Feet</th>\n",
       "      <th>State</th>\n",
       "    </tr>\n",
       "  </thead>\n",
       "  <tbody>\n",
       "    <tr>\n",
       "      <th>0</th>\n",
       "      <td>234 Heise CRESCENT, Saskatoon, SK S7M 4Y8</td>\n",
       "      <td>3</td>\n",
       "      <td>3</td>\n",
       "      <td>1979</td>\n",
       "      <td>1.0</td>\n",
       "      <td>5741</td>\n",
       "      <td>Description: Number of Kitchens: 1</td>\n",
       "      <td>309000.0</td>\n",
       "      <td>C$240/sqft</td>\n",
       "      <td>Single Family Residence</td>\n",
       "      <td>1290.0</td>\n",
       "      <td>Saskatchewan</td>\n",
       "    </tr>\n",
       "    <tr>\n",
       "      <th>1</th>\n",
       "      <td>326 Ottawa AVENUE N, Saskatoon, SK S7L 3P1</td>\n",
       "      <td>2</td>\n",
       "      <td>4</td>\n",
       "      <td>1960</td>\n",
       "      <td>2.0</td>\n",
       "      <td>6616</td>\n",
       "      <td>Description: Number of Kitchens: 1</td>\n",
       "      <td>319900.0</td>\n",
       "      <td>C$338/sqft</td>\n",
       "      <td>Single Family Residence</td>\n",
       "      <td>947.0</td>\n",
       "      <td>Saskatchewan</td>\n",
       "    </tr>\n",
       "    <tr>\n",
       "      <th>2</th>\n",
       "      <td>1019 Lansdowne AVENUE, Saskatoon, SK S7H 2C2</td>\n",
       "      <td>2</td>\n",
       "      <td>4</td>\n",
       "      <td>1946</td>\n",
       "      <td>1.0</td>\n",
       "      <td>4199</td>\n",
       "      <td>Description: Number of Kitchens: 2</td>\n",
       "      <td>450000.0</td>\n",
       "      <td>C$551/sqft</td>\n",
       "      <td>Single Family Residence</td>\n",
       "      <td>816.0</td>\n",
       "      <td>Saskatchewan</td>\n",
       "    </tr>\n",
       "    <tr>\n",
       "      <th>3</th>\n",
       "      <td>107 Brookdale CRESCENT, Saskatoon, SK S7V 1K5</td>\n",
       "      <td>3</td>\n",
       "      <td>3</td>\n",
       "      <td>2006</td>\n",
       "      <td>2.0</td>\n",
       "      <td>6128</td>\n",
       "      <td>Description: Number of Kitchens: 1</td>\n",
       "      <td>569000.0</td>\n",
       "      <td>C$317/sqft</td>\n",
       "      <td>Retail</td>\n",
       "      <td>1795.0</td>\n",
       "      <td>Saskatchewan</td>\n",
       "    </tr>\n",
       "    <tr>\n",
       "      <th>4</th>\n",
       "      <td>1208 6th AVENUE N, Saskatoon, SK S7K 2T5</td>\n",
       "      <td>4</td>\n",
       "      <td>4</td>\n",
       "      <td>2006</td>\n",
       "      <td>2.0</td>\n",
       "      <td>3245</td>\n",
       "      <td>Description: Number of Kitchens: 1</td>\n",
       "      <td>465000.0</td>\n",
       "      <td>C$344/sqft</td>\n",
       "      <td>Retail</td>\n",
       "      <td>1350.0</td>\n",
       "      <td>Saskatchewan</td>\n",
       "    </tr>\n",
       "  </tbody>\n",
       "</table>\n",
       "</div>"
      ],
      "text/plain": [
       "                                         Address Bathrooms Bedrooms  \\\n",
       "0      234 Heise CRESCENT, Saskatoon, SK S7M 4Y8         3        3   \n",
       "1     326 Ottawa AVENUE N, Saskatoon, SK S7L 3P1         2        4   \n",
       "2   1019 Lansdowne AVENUE, Saskatoon, SK S7H 2C2         2        4   \n",
       "3  107 Brookdale CRESCENT, Saskatoon, SK S7V 1K5         3        3   \n",
       "4       1208 6th AVENUE N, Saskatoon, SK S7K 2T5         4        4   \n",
       "\n",
       "  Built Year  Garage Space Lot Size (sqft)  \\\n",
       "0       1979           1.0            5741   \n",
       "1       1960           2.0            6616   \n",
       "2       1946           1.0            4199   \n",
       "3       2006           2.0            6128   \n",
       "4       2006           2.0            3245   \n",
       "\n",
       "                             Kitchens     Price Price per Sqft  \\\n",
       "0  Description: Number of Kitchens: 1  309000.0     C$240/sqft   \n",
       "1  Description: Number of Kitchens: 1  319900.0     C$338/sqft   \n",
       "2  Description: Number of Kitchens: 2  450000.0     C$551/sqft   \n",
       "3  Description: Number of Kitchens: 1  569000.0     C$317/sqft   \n",
       "4  Description: Number of Kitchens: 1  465000.0     C$344/sqft   \n",
       "\n",
       "             Property Type  Square Feet         State  \n",
       "0  Single Family Residence       1290.0  Saskatchewan  \n",
       "1  Single Family Residence        947.0  Saskatchewan  \n",
       "2  Single Family Residence        816.0  Saskatchewan  \n",
       "3                   Retail       1795.0  Saskatchewan  \n",
       "4                   Retail       1350.0  Saskatchewan  "
      ]
     },
     "execution_count": 708,
     "metadata": {},
     "output_type": "execute_result"
    }
   ],
   "source": [
    "df.head()"
   ]
  },
  {
   "cell_type": "code",
   "execution_count": 709,
   "id": "bb2d8049-d851-4347-bb67-68206f5aa18c",
   "metadata": {},
   "outputs": [
    {
     "data": {
      "text/plain": [
       "array(['5741', '6616', '4199', '6128', '3245', '--', '5597', '5497',\n",
       "       '5244', '6037', '5083', '6242', '3105', '7000', '6586', '5662',\n",
       "       '8245', '6490', '6542', '5445', '7148', '8738', '5671', '6634',\n",
       "       '4046', '5889', '5989', '7074', '4578', '4917', '4395', '6098',\n",
       "       '4077', '7296', '7840', '3293', '5549', '8394', '7200', '4299',\n",
       "       '8842', '7270', '8938', '7897', '6777', '2927', '3750', '6028',\n",
       "       '3598', '4547', '4399', '5950', '6547', '5588', '7248', '6080',\n",
       "       '5427', '5575', '0.28 Acres lot', '5566', '2657', '6216', '4460',\n",
       "       '3772', '6019', '6120', '3624', '9740', '4835', '4356', '3706',\n",
       "       '5370', '5906', '3188', '3998', '3968', '2081', '6769', '9064',\n",
       "       '8276', '8145', '3480', '7021', '9574', '8999', '5972', '6812',\n",
       "       '4856', '4517', '3659', '5205', '3497', '5449', '6669', '4613',\n",
       "       '6821', '6394', '0.30 Acres lot', '4748', '6899', '6995', '5388',\n",
       "       '5492', '10728', '5758', '5898', '6050', '4247', '8001', '5262',\n",
       "       '6856', '4647', '5823', '7313', '5854', '3602', '4264', '5776',\n",
       "       '6991', '6599', '8598', '6425', '7278', '8062', '5501', '3898',\n",
       "       '7792', '0.32 Acres lot', '5527', '8354', '7888', '3702', '7082',\n",
       "       '9252', '6250', '3049', '4068', '6603', '5174', '8193', '6137',\n",
       "       '5532', '6969', '5593', '4499', '6303', '7457', '6987', '2979',\n",
       "       '4582', '9086', '3924', '5571', '7801', '7461', '4595', '6886',\n",
       "       '4665', '1158', '2848', '2992', '6734', '5061', '6381', '5248',\n",
       "       '6294', '5018', '6573', '3402', '5488', '6433', '10576', '5519',\n",
       "       '6246', '5323', '3632', '5466', '7496', '3920', '5998', '6629',\n",
       "       '3240', '3249', '8089', '50 Acres lot', '4870', '0.27 Acres lot',\n",
       "       '5610', '4338', '3767', '6198', '4573', '9687', '40 Acres lot',\n",
       "       '4369', '6507', '5227', '4125', '3014', '6825', '4630', '5928',\n",
       "       '4434', '0.34 Acres lot', '5148', '3101', '4495', '2739', '3907',\n",
       "       '3902', '4486', '6481', '7945', '7627', '4334', '4390', '5201',\n",
       "       '3210', '6355', '2940', '1341', '7540', '4660', '5292', '3798',\n",
       "       '4451', '6072', '5410', '5039', '2996', '3123', '6372', '6220',\n",
       "       '4525', '121.97', '6612', '6760', '1115', '7235', '5723', '6329',\n",
       "       '6494', '6089', '3467', '6046', '6499', '4678', '4663 Acres lot',\n",
       "       '6534', '4787', '7244', '5100', '3637', '5959', '3737',\n",
       "       '93.30 Acres lot', '4983', '4281', '7274', '9326', '3010', '2491',\n",
       "       '8389', '3489', '5667', '2495', '3493', '5601', '4795', '3375',\n",
       "       '3876', '4617', '4094', '5479', '4687', '5484', '6891', '3118',\n",
       "       '7374', '6699', '5819', '8803', '4591', '5005', '0.60 Acres lot',\n",
       "       '6233', '2931', '7061', '10798', '4682', '6625', '3645', '6738',\n",
       "       '5797', '5144', '5627', '5188', '5414', '4952', '5357', '5606',\n",
       "       '5697', '6155', '6207', '6202', '4887', '5937', '9234', '7487',\n",
       "       '4159', '5706', '9544', '0.29 Acres lot', '5736', '6298', '8781',\n",
       "       '7108', '5963', '5702', '8150', '4708', '3327', '6342', '5623',\n",
       "       '3445', '1189', '6259', '6237', '4774', '6708', '4756', '5802',\n",
       "       '6085', '0.65 Acres lot', '5654', '4996', '7492', '7640', '4512',\n",
       "       '2740 Acres lot', '5993', '6076', '5771', '6473', '0.47 Acres lot',\n",
       "       '3127', '4822', '6743', '6403', '3131', '4268', '1594', '4303',\n",
       "       '5052', '6141', '6102', '5000', '5270', '5366', '5231', '6878',\n",
       "       '0.64 Acres lot', '5283', '6799', '4721', '7331', '5275', '5235',\n",
       "       '9957', '7797', '5680', '4691', '4569', '7135', '8232', '4909',\n",
       "       '6033', '3746', '9757', '6011', '5161', '5558', '0.74 Acres lot',\n",
       "       '8616', '1873', '5941', '6224', '5850', '4181', '4944', '5954',\n",
       "       '6965', '4168', '3811', '5553', '6529', '3149', '4791', '2626',\n",
       "       '6255', '5510', '2835', '4164', '4491', '6307', '9313', '3114',\n",
       "       '6181', '6934', '9147', '3759', '3994', '3981', '4403', '5405',\n",
       "       '2678', '7483', '6560', '2617', '0.26 Acres lot', '3698', '3724',\n",
       "       '6730', '6351', '2082', '4186', '8646', '3911', '7178', '6703',\n",
       "       '3354', '8272', '5392', '4120', '0.51 Acres lot', '3031', '3097',\n",
       "       '4059', '4038', '7165', '4.88 Acres lot', '4839', '3001', '7226',\n",
       "       '3641', '5815', '2748', '6107', '5514', '5893', '6756', '4382',\n",
       "       '6146', '0.61 Acres lot', '4695', '3367', '6124', '5841', '6272',\n",
       "       '3990', '5932', '0.35 Acres lot', '3201', '5684', '4991', '3502',\n",
       "       '6281', '4129', '4238', '3885', '4133', '0.38 Acres lot', '4373',\n",
       "       '3223', '4016', '7448', '4826', '9744', '2252', '3206', '4926',\n",
       "       '5 Acres lot', '9522', '801.50', '940.90', '8132', '7143', '7230',\n",
       "       '3841', '5911', '6721', '5784', '7758', '4521', '4482', '3380',\n",
       "       '4360', '6712', '3136', '5079', '3140', '4717', '5218', '4734',\n",
       "       '2225', '2295', '3837', '5209', '3859', '3110', '3371', '4295',\n",
       "       '2090', '2831', '9770', '2134', '6751', '2827', '3484', '10127',\n",
       "       '0.25 Acres lot', '0.77 Acres lot', '4673', '5431',\n",
       "       '1.43 Acres lot', '3515', '5649', '5318', '7213', '4878', '6002',\n",
       "       '3336', '7692', '2138', '7723'], dtype=object)"
      ]
     },
     "execution_count": 709,
     "metadata": {},
     "output_type": "execute_result"
    }
   ],
   "source": [
    "# Print the NaN values in the \"Lot Size (sqft)\" column\n",
    "df[\"Lot Size (sqft)\"].unique()\n"
   ]
  },
  {
   "cell_type": "code",
   "execution_count": 710,
   "id": "502244b5-0efe-4c7b-b2bc-90a5a41a9676",
   "metadata": {},
   "outputs": [
    {
     "name": "stdout",
     "output_type": "stream",
     "text": [
      "Number of occurrences of '--' in the Lot Size (sqft) column: 610\n"
     ]
    }
   ],
   "source": [
    "# Count the number of occurrences of the value '--' in the \"Lot Size (sqft)\" column\n",
    "count = df[\"Lot Size (sqft)\"].value_counts()[\"--\"]\n",
    "print(\"Number of occurrences of '--' in the Lot Size (sqft) column:\", count)\n"
   ]
  },
  {
   "cell_type": "markdown",
   "id": "066d1a50-34c6-4b0c-82f0-d9d939803049",
   "metadata": {},
   "source": [
    "### droping lot size column because it contains lot of null values"
   ]
  },
  {
   "cell_type": "code",
   "execution_count": 711,
   "id": "a1c4476b-55b1-4cf1-8260-a97dfa956094",
   "metadata": {},
   "outputs": [],
   "source": [
    "# Drop the \"Lot Size (sqft)\" column\n",
    "df = df.drop(\"Lot Size (sqft)\", axis=1)\n"
   ]
  },
  {
   "cell_type": "code",
   "execution_count": 712,
   "id": "67f10ec8-d8a0-4854-aade-92830b808afb",
   "metadata": {},
   "outputs": [
    {
     "data": {
      "text/html": [
       "<div>\n",
       "<style scoped>\n",
       "    .dataframe tbody tr th:only-of-type {\n",
       "        vertical-align: middle;\n",
       "    }\n",
       "\n",
       "    .dataframe tbody tr th {\n",
       "        vertical-align: top;\n",
       "    }\n",
       "\n",
       "    .dataframe thead th {\n",
       "        text-align: right;\n",
       "    }\n",
       "</style>\n",
       "<table border=\"1\" class=\"dataframe\">\n",
       "  <thead>\n",
       "    <tr style=\"text-align: right;\">\n",
       "      <th></th>\n",
       "      <th>Address</th>\n",
       "      <th>Bathrooms</th>\n",
       "      <th>Bedrooms</th>\n",
       "      <th>Built Year</th>\n",
       "      <th>Garage Space</th>\n",
       "      <th>Kitchens</th>\n",
       "      <th>Price</th>\n",
       "      <th>Price per Sqft</th>\n",
       "      <th>Property Type</th>\n",
       "      <th>Square Feet</th>\n",
       "      <th>State</th>\n",
       "    </tr>\n",
       "  </thead>\n",
       "  <tbody>\n",
       "    <tr>\n",
       "      <th>0</th>\n",
       "      <td>234 Heise CRESCENT, Saskatoon, SK S7M 4Y8</td>\n",
       "      <td>3</td>\n",
       "      <td>3</td>\n",
       "      <td>1979</td>\n",
       "      <td>1.0</td>\n",
       "      <td>Description: Number of Kitchens: 1</td>\n",
       "      <td>309000.0</td>\n",
       "      <td>C$240/sqft</td>\n",
       "      <td>Single Family Residence</td>\n",
       "      <td>1290.0</td>\n",
       "      <td>Saskatchewan</td>\n",
       "    </tr>\n",
       "    <tr>\n",
       "      <th>1</th>\n",
       "      <td>326 Ottawa AVENUE N, Saskatoon, SK S7L 3P1</td>\n",
       "      <td>2</td>\n",
       "      <td>4</td>\n",
       "      <td>1960</td>\n",
       "      <td>2.0</td>\n",
       "      <td>Description: Number of Kitchens: 1</td>\n",
       "      <td>319900.0</td>\n",
       "      <td>C$338/sqft</td>\n",
       "      <td>Single Family Residence</td>\n",
       "      <td>947.0</td>\n",
       "      <td>Saskatchewan</td>\n",
       "    </tr>\n",
       "    <tr>\n",
       "      <th>2</th>\n",
       "      <td>1019 Lansdowne AVENUE, Saskatoon, SK S7H 2C2</td>\n",
       "      <td>2</td>\n",
       "      <td>4</td>\n",
       "      <td>1946</td>\n",
       "      <td>1.0</td>\n",
       "      <td>Description: Number of Kitchens: 2</td>\n",
       "      <td>450000.0</td>\n",
       "      <td>C$551/sqft</td>\n",
       "      <td>Single Family Residence</td>\n",
       "      <td>816.0</td>\n",
       "      <td>Saskatchewan</td>\n",
       "    </tr>\n",
       "    <tr>\n",
       "      <th>3</th>\n",
       "      <td>107 Brookdale CRESCENT, Saskatoon, SK S7V 1K5</td>\n",
       "      <td>3</td>\n",
       "      <td>3</td>\n",
       "      <td>2006</td>\n",
       "      <td>2.0</td>\n",
       "      <td>Description: Number of Kitchens: 1</td>\n",
       "      <td>569000.0</td>\n",
       "      <td>C$317/sqft</td>\n",
       "      <td>Retail</td>\n",
       "      <td>1795.0</td>\n",
       "      <td>Saskatchewan</td>\n",
       "    </tr>\n",
       "    <tr>\n",
       "      <th>4</th>\n",
       "      <td>1208 6th AVENUE N, Saskatoon, SK S7K 2T5</td>\n",
       "      <td>4</td>\n",
       "      <td>4</td>\n",
       "      <td>2006</td>\n",
       "      <td>2.0</td>\n",
       "      <td>Description: Number of Kitchens: 1</td>\n",
       "      <td>465000.0</td>\n",
       "      <td>C$344/sqft</td>\n",
       "      <td>Retail</td>\n",
       "      <td>1350.0</td>\n",
       "      <td>Saskatchewan</td>\n",
       "    </tr>\n",
       "  </tbody>\n",
       "</table>\n",
       "</div>"
      ],
      "text/plain": [
       "                                         Address Bathrooms Bedrooms  \\\n",
       "0      234 Heise CRESCENT, Saskatoon, SK S7M 4Y8         3        3   \n",
       "1     326 Ottawa AVENUE N, Saskatoon, SK S7L 3P1         2        4   \n",
       "2   1019 Lansdowne AVENUE, Saskatoon, SK S7H 2C2         2        4   \n",
       "3  107 Brookdale CRESCENT, Saskatoon, SK S7V 1K5         3        3   \n",
       "4       1208 6th AVENUE N, Saskatoon, SK S7K 2T5         4        4   \n",
       "\n",
       "  Built Year  Garage Space                            Kitchens     Price  \\\n",
       "0       1979           1.0  Description: Number of Kitchens: 1  309000.0   \n",
       "1       1960           2.0  Description: Number of Kitchens: 1  319900.0   \n",
       "2       1946           1.0  Description: Number of Kitchens: 2  450000.0   \n",
       "3       2006           2.0  Description: Number of Kitchens: 1  569000.0   \n",
       "4       2006           2.0  Description: Number of Kitchens: 1  465000.0   \n",
       "\n",
       "  Price per Sqft            Property Type  Square Feet         State  \n",
       "0     C$240/sqft  Single Family Residence       1290.0  Saskatchewan  \n",
       "1     C$338/sqft  Single Family Residence        947.0  Saskatchewan  \n",
       "2     C$551/sqft  Single Family Residence        816.0  Saskatchewan  \n",
       "3     C$317/sqft                   Retail       1795.0  Saskatchewan  \n",
       "4     C$344/sqft                   Retail       1350.0  Saskatchewan  "
      ]
     },
     "execution_count": 712,
     "metadata": {},
     "output_type": "execute_result"
    }
   ],
   "source": [
    "df.head()"
   ]
  },
  {
   "cell_type": "markdown",
   "id": "22838830-ccba-4528-9da5-fbebe67cfc17",
   "metadata": {},
   "source": [
    "#### Check for null values in the \"Bedrooms\" and \"Bathrooms\" columns"
   ]
  },
  {
   "cell_type": "code",
   "execution_count": 713,
   "id": "8ebc0fe0-0dfb-4d5c-988c-8a8be9ad459e",
   "metadata": {},
   "outputs": [
    {
     "name": "stdout",
     "output_type": "stream",
     "text": [
      "Null values:\n",
      " Bedrooms     0\n",
      "Bathrooms    0\n",
      "dtype: int64\n",
      "Empty values:\n",
      " Bedrooms     0\n",
      "Bathrooms    0\n",
      "dtype: int64\n"
     ]
    },
    {
     "name": "stderr",
     "output_type": "stream",
     "text": [
      "C:\\Users\\ASUS\\AppData\\Local\\Temp\\ipykernel_16824\\864493757.py:5: FutureWarning: DataFrame.applymap has been deprecated. Use DataFrame.map instead.\n",
      "  empty_values = df[[\"Bedrooms\", \"Bathrooms\"]].applymap(lambda x: x == \"\").sum()\n"
     ]
    }
   ],
   "source": [
    "# Check for null values in the \"Bedrooms\" and \"Bathrooms\" columns\n",
    "null_values = df[[\"Bedrooms\", \"Bathrooms\"]].isnull().sum()\n",
    "\n",
    "# Check for empty values in the \"Bedrooms\" and \"Bathrooms\" columns\n",
    "empty_values = df[[\"Bedrooms\", \"Bathrooms\"]].applymap(lambda x: x == \"\").sum()\n",
    "\n",
    "# Print the number of null and empty values in each column\n",
    "print(\"Null values:\\n\", null_values)\n",
    "print(\"Empty values:\\n\", empty_values)\n"
   ]
  },
  {
   "cell_type": "code",
   "execution_count": 714,
   "id": "e3fa9f4e-1e7b-4858-bed6-0f9b36a7eef8",
   "metadata": {},
   "outputs": [],
   "source": [
    "# Replace the missing values with NaN\n",
    "df[\"Bedrooms\"] = df[\"Bedrooms\"].replace(\"--\", np.nan)\n",
    "df[\"Bathrooms\"] = df[\"Bathrooms\"].replace(\"--\", np.nan)\n",
    "\n",
    "# Convert the columns to numeric data types\n",
    "df[\"Bedrooms\"] = pd.to_numeric(df[\"Bedrooms\"])\n",
    "df[\"Bathrooms\"] = pd.to_numeric(df[\"Bathrooms\"])\n"
   ]
  },
  {
   "cell_type": "code",
   "execution_count": 715,
   "id": "20ede05d-5407-4651-835f-3327afec2693",
   "metadata": {},
   "outputs": [],
   "source": [
    "# Convert the \"Bathrooms\" and \"Bedrooms\" columns to numeric data types\n",
    "df[\"Bathrooms\"] = pd.to_numeric(df[\"Bathrooms\"])\n",
    "df[\"Bedrooms\"] = pd.to_numeric(df[\"Bedrooms\"])\n"
   ]
  },
  {
   "cell_type": "code",
   "execution_count": 716,
   "id": "55e93c7f-70d8-4d83-8c4d-0a6621a8584b",
   "metadata": {
    "scrolled": true
   },
   "outputs": [
    {
     "name": "stdout",
     "output_type": "stream",
     "text": [
      "Number of outliers in Bedrooms: 7\n",
      "Number of outliers in Bathrooms: 34\n"
     ]
    }
   ],
   "source": [
    "# Calculate the IQR for the \"Bedrooms\" column\n",
    "Q1_bedrooms = df[\"Bedrooms\"].quantile(0.25)\n",
    "Q3_bedrooms = df[\"Bedrooms\"].quantile(0.75)\n",
    "IQR_bedrooms = Q3_bedrooms - Q1_bedrooms\n",
    "\n",
    "# Define the lower and upper bounds for outliers\n",
    "lower_bound_bedrooms = Q1_bedrooms - 1.5 * IQR_bedrooms\n",
    "upper_bound_bedrooms = Q3_bedrooms + 1.5 * IQR_bedrooms\n",
    "\n",
    "# Calculate the IQR for the \"Bathrooms\" column\n",
    "Q1_bathrooms = df[\"Bathrooms\"].quantile(0.25)\n",
    "Q3_bathrooms = df[\"Bathrooms\"].quantile(0.75)\n",
    "IQR_bathrooms = Q3_bathrooms - Q1_bathrooms\n",
    "\n",
    "# Define the lower and upper bounds for outliers\n",
    "lower_bound_bathrooms = Q1_bathrooms - 1.5 * IQR_bathrooms\n",
    "upper_bound_bathrooms = Q3_bathrooms + 1.5 * IQR_bathrooms\n",
    "\n",
    "# Check for outliers in the \"Bedrooms\" column\n",
    "outliers_bedrooms = df[(df[\"Bedrooms\"] < lower_bound_bedrooms) | (df[\"Bedrooms\"] > upper_bound_bedrooms)]\n",
    "\n",
    "# Check for outliers in the \"Bathrooms\" column\n",
    "outliers_bathrooms = df[(df[\"Bathrooms\"] < lower_bound_bathrooms) | (df[\"Bathrooms\"] > upper_bound_bathrooms)]\n",
    "\n",
    "# Print the number of outliers in each column\n",
    "print(\"Number of outliers in Bedrooms:\", len(outliers_bedrooms))\n",
    "print(\"Number of outliers in Bathrooms:\", len(outliers_bathrooms))\n"
   ]
  },
  {
   "cell_type": "code",
   "execution_count": 717,
   "id": "b56a86da-1ed2-4902-bae4-2cefb0557459",
   "metadata": {},
   "outputs": [
    {
     "data": {
      "image/png": "[encoded data removed]",
      "text/plain": [
       "<Figure size 640x480 with 1 Axes>"
      ]
     },
     "metadata": {},
     "output_type": "display_data"
    },
    {
     "data": {
      "image/png": "[encoded data removed]",
      "text/plain": [
       "<Figure size 640x480 with 1 Axes>"
      ]
     },
     "metadata": {},
     "output_type": "display_data"
    }
   ],
   "source": [
    "# Import the necessary libraries\n",
    "import seaborn as sns\n",
    "import matplotlib.pyplot as plt\n",
    "\n",
    "# Create a boxplot for the \"Bedrooms\" column\n",
    "sns.boxplot(x=df[\"Bedrooms\"])\n",
    "\n",
    "# Set the title and labels\n",
    "plt.title(\"Boxplot of Bedrooms\")\n",
    "plt.xlabel(\"Number of Bedrooms\")\n",
    "\n",
    "# Show the plot\n",
    "plt.show()\n",
    "\n",
    "# Create a boxplot for the \"Bathrooms\" column\n",
    "sns.boxplot(x=df[\"Bathrooms\"])\n",
    "\n",
    "# Set the title and labels\n",
    "plt.title(\"Boxplot of Bathrooms\")\n",
    "plt.xlabel(\"Number of Bathrooms\")\n",
    "\n",
    "# Show the plot\n",
    "plt.show()\n"
   ]
  },
  {
   "cell_type": "code",
   "execution_count": 718,
   "id": "08ac78dd-341d-46d0-8cf3-dd812c0a1ef7",
   "metadata": {},
   "outputs": [],
   "source": [
    "# Calculate the IQR for the \"Bedrooms\" column\n",
    "Q1_bedrooms = df[\"Bedrooms\"].quantile(0.25)\n",
    "Q3_bedrooms = df[\"Bedrooms\"].quantile(0.75)\n",
    "IQR_bedrooms = Q3_bedrooms - Q1_bedrooms\n",
    "\n",
    "# Define the lower and upper bounds for outliers\n",
    "lower_bound_bedrooms = Q1_bedrooms - 1.5 * IQR_bedrooms\n",
    "upper_bound_bedrooms = Q3_bedrooms + 1.5 * IQR_bedrooms\n",
    "\n",
    "# Replace the outlier values with the upper bound\n",
    "df.loc[df[\"Bedrooms\"] > upper_bound_bedrooms, \"Bedrooms\"] = upper_bound_bedrooms\n",
    "\n",
    "# Calculate the IQR for the \"Bathrooms\" column\n",
    "# Calculate the IQR for the \"Bathrooms\" column\n",
    "Q1_bathrooms = df[\"Bathrooms\"].quantile(0.25)\n",
    "Q3_bathrooms = df[\"Bathrooms\"].quantile(0.75)\n",
    "IQR_bathrooms = Q3_bathrooms - Q1_bathrooms\n",
    "\n",
    "# Define the lower and upper bounds for outliers\n",
    "lower_bound_bathrooms = Q1_bathrooms - 1.5 * IQR_bathrooms\n",
    "upper_bound_bathrooms = Q3_bathrooms + 1.5 * IQR_bathrooms\n",
    "\n",
    "# Replace the outlier values with the upper bound\n",
    "df.loc[df[\"Bathrooms\"] > upper_bound_bathrooms, \"Bathrooms\"] = upper_bound_bathrooms\n",
    "\n",
    "\n",
    "# Define the lower and upper bounds for outliers\n",
    "lower_bound_bathrooms = Q1_bathrooms - 1.5 * IQR_bathrooms\n",
    "upper_bound_bathrooms = Q3_bathrooms + 1.5 * IQR_bathrooms\n",
    "\n",
    "# Replace the outlier values with the upper bound\n",
    "df.loc[df[\"Bathrooms\"] > upper_bound_bathrooms, \"Bathrooms\"] = upper_bound_bathrooms\n"
   ]
  },
  {
   "cell_type": "code",
   "execution_count": 719,
   "id": "f4c4771a-c289-4dd0-abbf-d703a9dd4a10",
   "metadata": {},
   "outputs": [
    {
     "data": {
      "image/png": "[encoded data removed]",
      "text/plain": [
       "<Figure size 640x480 with 1 Axes>"
      ]
     },
     "metadata": {},
     "output_type": "display_data"
    },
    {
     "data": {
      "image/png": "[encoded data removed]",
      "text/plain": [
       "<Figure size 640x480 with 1 Axes>"
      ]
     },
     "metadata": {},
     "output_type": "display_data"
    }
   ],
   "source": [
    "sns.boxplot(x=df[\"Bedrooms\"])\n",
    "\n",
    "# Set the title and labels\n",
    "plt.title(\"Boxplot of Bedrooms\")\n",
    "plt.xlabel(\"Number of Bedrooms\")\n",
    "\n",
    "# Show the plot\n",
    "plt.show()\n",
    "\n",
    "# Create a boxplot for the \"Bathrooms\" column\n",
    "sns.boxplot(x=df[\"Bathrooms\"])\n",
    "\n",
    "# Set the title and labels\n",
    "plt.title(\"Boxplot of Bathrooms\")\n",
    "plt.xlabel(\"Number of Bathrooms\")\n",
    "\n",
    "# Show the plot\n",
    "plt.show()"
   ]
  },
  {
   "cell_type": "code",
   "execution_count": 720,
   "id": "5d31085b-7b0e-45c2-bc5e-9bb461bb0be6",
   "metadata": {},
   "outputs": [
    {
     "name": "stdout",
     "output_type": "stream",
     "text": [
      "Number of outliers in Bedrooms: 0\n",
      "Number of outliers in Bathrooms: 4\n"
     ]
    }
   ],
   "source": [
    "# Calculate the IQR for the \"Bedrooms\" column\n",
    "Q1_bedrooms = df[\"Bedrooms\"].quantile(0.25)\n",
    "Q3_bedrooms = df[\"Bedrooms\"].quantile(0.75)\n",
    "IQR_bedrooms = Q3_bedrooms - Q1_bedrooms\n",
    "\n",
    "# Define the lower and upper bounds for outliers\n",
    "lower_bound_bedrooms = Q1_bedrooms - 1.5 * IQR_bedrooms\n",
    "upper_bound_bedrooms = Q3_bedrooms + 1.5 * IQR_bedrooms\n",
    "\n",
    "# Calculate the IQR for the \"Bathrooms\" column\n",
    "Q1_bathrooms = df[\"Bathrooms\"].quantile(0.25)\n",
    "Q3_bathrooms = df[\"Bathrooms\"].quantile(0.75)\n",
    "IQR_bathrooms = Q3_bathrooms - Q1_bathrooms\n",
    "\n",
    "# Define the lower and upper bounds for outliers\n",
    "lower_bound_bathrooms = Q1_bathrooms - 1.5 * IQR_bathrooms\n",
    "upper_bound_bathrooms = Q3_bathrooms + 1.5 * IQR_bathrooms\n",
    "\n",
    "# Check for outliers in the \"Bedrooms\" column\n",
    "outliers_bedrooms = df[(df[\"Bedrooms\"] < lower_bound_bedrooms) | (df[\"Bedrooms\"] > upper_bound_bedrooms)]\n",
    "\n",
    "# Check for outliers in the \"Bathrooms\" column\n",
    "outliers_bathrooms = df[(df[\"Bathrooms\"] < lower_bound_bathrooms) | (df[\"Bathrooms\"] > upper_bound_bathrooms)]\n",
    "\n",
    "# Print the number of outliers in each column\n",
    "print(\"Number of outliers in Bedrooms:\", len(outliers_bedrooms))\n",
    "print(\"Number of outliers in Bathrooms:\", len(outliers_bathrooms))\n"
   ]
  },
  {
   "cell_type": "code",
   "execution_count": 721,
   "id": "aeed62f6-7a3e-4fd8-aef6-55ae76a2fc91",
   "metadata": {},
   "outputs": [
    {
     "data": {
      "image/png": "[encoded data removed]",
      "text/plain": [
       "<Figure size 640x480 with 1 Axes>"
      ]
     },
     "metadata": {},
     "output_type": "display_data"
    },
    {
     "data": {
      "image/png": "[encoded data removed]",
      "text/plain": [
       "<Figure size 640x480 with 1 Axes>"
      ]
     },
     "metadata": {},
     "output_type": "display_data"
    }
   ],
   "source": [
    "# Set the title and labels\n",
    "plt.title(\"Scatter plot of Bathrooms (before removing outliers)\")\n",
    "plt.xlabel(\"Index\")\n",
    "plt.ylabel(\"Number of Bathrooms\")\n",
    "\n",
    "# Show the plot\n",
    "plt.show()\n",
    "\n",
    "# Remove the outliers in the \"Bathrooms\" column and replace them with the median value\n",
    "median_bathrooms = df[\"Bathrooms\"].median()\n",
    "df.loc[df[\"Bathrooms\"] > upper_bound_bathrooms, \"Bathrooms\"] = median_bathrooms\n",
    "\n",
    "# Create a scatter plot of the \"Bathrooms\" column after removing outliers\n",
    "sns.scatterplot(x=df.index, y=df[\"Bathrooms\"])\n",
    "\n",
    "# Set the title and labels\n",
    "plt.title(\"Scatter plot of Bathrooms (after removing outliers)\")\n",
    "plt.xlabel(\"Index\")\n",
    "plt.ylabel(\"Number of Bathrooms\")\n",
    "\n",
    "# Show the plot\n",
    "plt.show()"
   ]
  },
  {
   "cell_type": "markdown",
   "id": "84b3a911-5709-44d5-a1d4-aeda05af45f6",
   "metadata": {},
   "source": [
    "### there are 4 \"0\" value outliers in bathrooms convert that to 1"
   ]
  },
  {
   "cell_type": "code",
   "execution_count": 722,
   "id": "3590a00d-7ceb-4a21-a996-797897f84094",
   "metadata": {},
   "outputs": [],
   "source": [
    "# Replace zero values in the \"Bathrooms\" column with 1\n",
    "df[\"Bathrooms\"] = df[\"Bathrooms\"].replace(0, 1)\n"
   ]
  },
  {
   "cell_type": "code",
   "execution_count": 723,
   "id": "bd905182-cd94-4846-aecf-b9f2c0a88038",
   "metadata": {},
   "outputs": [
    {
     "name": "stdout",
     "output_type": "stream",
     "text": [
      "Number of outliers in Bedrooms: 0\n",
      "Number of outliers in Bathrooms: 0\n"
     ]
    }
   ],
   "source": [
    "# Calculate the IQR for the \"Bedrooms\" column\n",
    "Q1_bedrooms = df[\"Bedrooms\"].quantile(0.25)\n",
    "Q3_bedrooms = df[\"Bedrooms\"].quantile(0.75)\n",
    "IQR_bedrooms = Q3_bedrooms - Q1_bedrooms\n",
    "\n",
    "# Define the lower and upper bounds for outliers\n",
    "lower_bound_bedrooms = Q1_bedrooms - 1.5 * IQR_bedrooms\n",
    "upper_bound_bedrooms = Q3_bedrooms + 1.5 * IQR_bedrooms\n",
    "\n",
    "# Calculate the IQR for the \"Bathrooms\" column\n",
    "Q1_bathrooms = df[\"Bathrooms\"].quantile(0.25)\n",
    "Q3_bathrooms = df[\"Bathrooms\"].quantile(0.75)\n",
    "IQR_bathrooms = Q3_bathrooms - Q1_bathrooms\n",
    "\n",
    "# Define the lower and upper bounds for outliers\n",
    "lower_bound_bathrooms = Q1_bathrooms - 1.5 * IQR_bathrooms\n",
    "upper_bound_bathrooms = Q3_bathrooms + 1.5 * IQR_bathrooms\n",
    "\n",
    "# Check for outliers in the \"Bedrooms\" column\n",
    "outliers_bedrooms = df[(df[\"Bedrooms\"] < lower_bound_bedrooms) | (df[\"Bedrooms\"] > upper_bound_bedrooms)]\n",
    "\n",
    "# Check for outliers in the \"Bathrooms\" column\n",
    "outliers_bathrooms = df[(df[\"Bathrooms\"] < lower_bound_bathrooms) | (df[\"Bathrooms\"] > upper_bound_bathrooms)]\n",
    "\n",
    "# Print the number of outliers in each column\n",
    "print(\"Number of outliers in Bedrooms:\", len(outliers_bedrooms))\n",
    "print(\"Number of outliers in Bathrooms:\", len(outliers_bathrooms))\n"
   ]
  },
  {
   "cell_type": "code",
   "execution_count": 724,
   "id": "6443218c-5c23-4e8b-b4c9-cbe3787e91e6",
   "metadata": {},
   "outputs": [
    {
     "data": {
      "image/png": "[encoded data removed]",
      "text/plain": [
       "<Figure size 640x480 with 1 Axes>"
      ]
     },
     "metadata": {},
     "output_type": "display_data"
    },
    {
     "data": {
      "image/png": "[encoded data removed]",
      "text/plain": [
       "<Figure size 640x480 with 1 Axes>"
      ]
     },
     "metadata": {},
     "output_type": "display_data"
    }
   ],
   "source": [
    "sns.boxplot(x=df[\"Bedrooms\"])\n",
    "\n",
    "# Set the title and labels\n",
    "plt.title(\"Boxplot of Bedrooms\")\n",
    "plt.xlabel(\"Number of Bedrooms\")\n",
    "\n",
    "# Show the plot\n",
    "plt.show()\n",
    "\n",
    "# Create a boxplot for the \"Bathrooms\" column\n",
    "sns.boxplot(x=df[\"Bathrooms\"])\n",
    "\n",
    "# Set the title and labels\n",
    "plt.title(\"Boxplot of Bathrooms\")\n",
    "plt.xlabel(\"Number of Bathrooms\")\n",
    "\n",
    "# Show the plot\n",
    "plt.show()"
   ]
  },
  {
   "cell_type": "markdown",
   "id": "cedfec55-9d87-4ef9-84b5-968dcd65dfcf",
   "metadata": {},
   "source": [
    "### cleaning kitchen column"
   ]
  },
  {
   "cell_type": "code",
   "execution_count": 725,
   "id": "ff11033b-e7b7-44da-8a2a-4b1e3572922a",
   "metadata": {},
   "outputs": [
    {
     "data": {
      "text/plain": [
       "array(['Description: Number of Kitchens: 1',\n",
       "       'Description: Number of Kitchens: 2',\n",
       "       'Description: Number of Kitchens: 4',\n",
       "       'Description: Number of Kitchens: 3',\n",
       "       'Description: Number of Kitchens: 6',\n",
       "       'Included: Refrigerator, Stove, Washer, Dryer',\n",
       "       'Included: Refrigerator, Stove',\n",
       "       'Description: Number of Kitchens: 5',\n",
       "       'Forced Air, Natural Gas, Furnace Owned', nan,\n",
       "       'Other, Furnace Owned', 'Natural Gas', 'View virtual tour',\n",
       "       'Included: Refrigerator, Stove, Washer, Dryer, Dishwasher Built In',\n",
       "       'Natural Gas, Furnace Owned', 'Air Conditioning',\n",
       "       'Included: Other', 'Has Heating (Unspecified Type)'], dtype=object)"
      ]
     },
     "execution_count": 725,
     "metadata": {},
     "output_type": "execute_result"
    }
   ],
   "source": [
    "df[\"Kitchens\"].unique()"
   ]
  },
  {
   "cell_type": "code",
   "execution_count": 726,
   "id": "175bb00e-1b93-4bc8-8e78-369f602b9edc",
   "metadata": {},
   "outputs": [],
   "source": [
    "# Extract the numeric values from the \"Kitchens\" column\n",
    "df[\"Kitchens\"] = df[\"Kitchens\"].apply(lambda x: re.search(r'\\d+', str(x)).group() if pd.notnull(x) and re.search(r'\\d+', str(x)) else x)\n",
    "\n",
    "# Convert the extracted values to a numeric data type\n",
    "df[\"Kitchens\"] = pd.to_numeric(df[\"Kitchens\"], errors='coerce')\n",
    "\n"
   ]
  },
  {
   "cell_type": "code",
   "execution_count": 727,
   "id": "0d26312a-9f00-4397-af4c-75bdf82326e8",
   "metadata": {},
   "outputs": [
    {
     "name": "stdout",
     "output_type": "stream",
     "text": [
      "Number of unique values in the Kitchens column: 6\n"
     ]
    }
   ],
   "source": [
    "# Get the number of unique values in the \"Kitchens\" column\n",
    "num_unique_kitchens = df[\"Kitchens\"].nunique()\n",
    "\n",
    "# Print the number of unique values in the \"Kitchens\" column\n",
    "print(\"Number of unique values in the Kitchens column:\", num_unique_kitchens)\n"
   ]
  },
  {
   "cell_type": "code",
   "execution_count": 728,
   "id": "2e948d85-0c8b-44e3-bcd2-1670771e1742",
   "metadata": {},
   "outputs": [
    {
     "name": "stdout",
     "output_type": "stream",
     "text": [
      "Number of NaN values in the Kitchens column: 83\n"
     ]
    }
   ],
   "source": [
    "# Get the number of NaN values in the \"Kitchens\" column\n",
    "num_nan_kitchens = df[\"Kitchens\"].isnull().sum()\n",
    "\n",
    "# Print the number of NaN values in the \"Kitchens\" column\n",
    "print(\"Number of NaN values in the Kitchens column:\", num_nan_kitchens)\n"
   ]
  },
  {
   "cell_type": "code",
   "execution_count": 729,
   "id": "b9f83c17-ba21-4f2d-865f-02c522c26855",
   "metadata": {},
   "outputs": [],
   "source": [
    "# Replace NaN values in the \"Kitchens\" column with 1\n",
    "df[\"Kitchens\"] = df[\"Kitchens\"].fillna(1)\n"
   ]
  },
  {
   "cell_type": "code",
   "execution_count": 730,
   "id": "0ed0e324-b5d7-4402-acc6-f63c88374496",
   "metadata": {},
   "outputs": [
    {
     "name": "stdout",
     "output_type": "stream",
     "text": [
      "0\n"
     ]
    }
   ],
   "source": [
    "print(df[\"Kitchens\"].isnull().sum())"
   ]
  },
  {
   "cell_type": "markdown",
   "id": "b2e5b7cc-c43e-409c-9740-7625af91df95",
   "metadata": {},
   "source": [
    "### checking outliers in kitchen\n"
   ]
  },
  {
   "cell_type": "code",
   "execution_count": 731,
   "id": "be45208d-2b1f-4f1e-b759-5d2581b3a074",
   "metadata": {},
   "outputs": [
    {
     "name": "stdout",
     "output_type": "stream",
     "text": [
      "Number of outliers in the Kitchens column: 216\n"
     ]
    }
   ],
   "source": [
    "# Calculate the IQR for the \"Kitchens\" column\n",
    "Q1 = df[\"Kitchens\"].quantile(0.25)\n",
    "Q3 = df[\"Kitchens\"].quantile(0.75)\n",
    "IQR = Q3 - Q1\n",
    "\n",
    "# Define the lower and upper bounds for outliers\n",
    "lower_bound = Q1 - 1.5 * IQR\n",
    "upper_bound = Q3 + 1.5 * IQR\n",
    "\n",
    "# Check for outliers in the \"Kitchens\" column\n",
    "outliers = df[(df[\"Kitchens\"] < lower_bound) | (df[\"Kitchens\"] > upper_bound)]\n",
    "\n",
    "# Print the number of outliers in the \"Kitchens\" column\n",
    "print(\"Number of outliers in the Kitchens column:\", len(outliers))\n"
   ]
  },
  {
   "cell_type": "code",
   "execution_count": 732,
   "id": "010cb8fc-35d4-4441-a531-e0a022e66552",
   "metadata": {},
   "outputs": [
    {
     "data": {
      "image/png": "[encoded data removed]",
      "text/plain": [
       "<Figure size 640x480 with 1 Axes>"
      ]
     },
     "metadata": {},
     "output_type": "display_data"
    }
   ],
   "source": [
    "\n",
    "# Create a boxplot for the \"Kitchens\" column\n",
    "sns.boxplot(x=df[\"Kitchens\"])\n",
    "\n",
    "# Set the title and labels\n",
    "plt.title(\"Boxplot of Kitchens\")\n",
    "plt.xlabel(\"Number of Kitchens\")\n",
    "\n",
    "# Show the plot\n",
    "plt.show()\n"
   ]
  },
  {
   "cell_type": "code",
   "execution_count": 733,
   "id": "edf6a85c-5287-4b66-8081-d330f6aa0d19",
   "metadata": {},
   "outputs": [],
   "source": [
    "# Replace the values 4, 5, and 6 in the \"Kitchens\" column with 3\n",
    "df[\"Kitchens\"] = df[\"Kitchens\"].replace([4, 5, 6], 3)\n",
    "\n",
    "#df[\"Kitchens\"].value_counts()"
   ]
  },
  {
   "cell_type": "code",
   "execution_count": 734,
   "id": "e8331614-ec9f-4152-abd4-69763492510c",
   "metadata": {},
   "outputs": [
    {
     "data": {
      "image/png": "[encoded data removed]",
      "text/plain": [
       "<Figure size 640x480 with 1 Axes>"
      ]
     },
     "metadata": {},
     "output_type": "display_data"
    }
   ],
   "source": [
    "sns.boxplot(x=df[\"Kitchens\"])\n",
    "\n",
    "# Set the title and labels\n",
    "plt.title(\"Boxplot of Kitchens\")\n",
    "plt.xlabel(\"Number of Kitchens\")\n",
    "\n",
    "# Show the plot\n",
    "plt.show()\n"
   ]
  },
  {
   "cell_type": "code",
   "execution_count": 735,
   "id": "9a8cad78-08f4-47fc-8544-8ff4dcc6853e",
   "metadata": {},
   "outputs": [
    {
     "data": {
      "text/plain": [
       "Kitchens\n",
       "1.0    1355\n",
       "2.0     188\n",
       "3.0      28\n",
       "Name: count, dtype: int64"
      ]
     },
     "execution_count": 735,
     "metadata": {},
     "output_type": "execute_result"
    }
   ],
   "source": [
    "df[\"Kitchens\"].value_counts()"
   ]
  },
  {
   "cell_type": "code",
   "execution_count": 736,
   "id": "9b833d5b-5803-440c-adbb-97fbe18f5bd0",
   "metadata": {},
   "outputs": [
    {
     "name": "stdout",
     "output_type": "stream",
     "text": [
      "<class 'pandas.core.series.Series'>\n",
      "RangeIndex: 1571 entries, 0 to 1570\n",
      "Series name: Kitchens\n",
      "Non-Null Count  Dtype  \n",
      "--------------  -----  \n",
      "1571 non-null   float64\n",
      "dtypes: float64(1)\n",
      "memory usage: 12.4 KB\n"
     ]
    }
   ],
   "source": [
    "df[\"Kitchens\"].info()"
   ]
  },
  {
   "cell_type": "code",
   "execution_count": 737,
   "id": "8719fdec-c3a0-4db3-bf4e-a50a6a2fb53f",
   "metadata": {},
   "outputs": [],
   "source": [
    "# Convert the \"Kitchens\" column to a numeric data type\n",
    "df[\"Kitchens\"] = pd.to_numeric(df[\"Kitchens\"], errors='coerce')\n"
   ]
  },
  {
   "cell_type": "code",
   "execution_count": 738,
   "id": "572329fe-aa00-439f-902f-c9f90720833e",
   "metadata": {},
   "outputs": [
    {
     "name": "stdout",
     "output_type": "stream",
     "text": [
      "Categorical variables: 5\n",
      "Integer variables: 0\n",
      "Float variables: 6\n"
     ]
    }
   ],
   "source": [
    "obj = (df.dtypes == 'object')\n",
    "object_cols = list(obj[obj].index)\n",
    "print(\"Categorical variables:\",len(object_cols))\n",
    "\n",
    "int_ = (df.dtypes == 'int')\n",
    "num_cols = list(int_[int_].index)\n",
    "print(\"Integer variables:\",len(num_cols))\n",
    "\n",
    "fl = (df.dtypes == 'float')\n",
    "fl_cols = list(fl[fl].index)\n",
    "print(\"Float variables:\",len(fl_cols))"
   ]
  },
  {
   "cell_type": "code",
   "execution_count": 739,
   "id": "5abd4636-4aa8-48b6-8652-159c652f7aa5",
   "metadata": {},
   "outputs": [
    {
     "data": {
      "text/html": [
       "<div>\n",
       "<style scoped>\n",
       "    .dataframe tbody tr th:only-of-type {\n",
       "        vertical-align: middle;\n",
       "    }\n",
       "\n",
       "    .dataframe tbody tr th {\n",
       "        vertical-align: top;\n",
       "    }\n",
       "\n",
       "    .dataframe thead th {\n",
       "        text-align: right;\n",
       "    }\n",
       "</style>\n",
       "<table border=\"1\" class=\"dataframe\">\n",
       "  <thead>\n",
       "    <tr style=\"text-align: right;\">\n",
       "      <th></th>\n",
       "      <th>Address</th>\n",
       "      <th>Bathrooms</th>\n",
       "      <th>Bedrooms</th>\n",
       "      <th>Built Year</th>\n",
       "      <th>Garage Space</th>\n",
       "      <th>Kitchens</th>\n",
       "      <th>Price</th>\n",
       "      <th>Price per Sqft</th>\n",
       "      <th>Property Type</th>\n",
       "      <th>Square Feet</th>\n",
       "      <th>State</th>\n",
       "    </tr>\n",
       "  </thead>\n",
       "  <tbody>\n",
       "    <tr>\n",
       "      <th>0</th>\n",
       "      <td>234 Heise CRESCENT, Saskatoon, SK S7M 4Y8</td>\n",
       "      <td>3.0</td>\n",
       "      <td>3.0</td>\n",
       "      <td>1979</td>\n",
       "      <td>1.0</td>\n",
       "      <td>1.0</td>\n",
       "      <td>309000.0</td>\n",
       "      <td>C$240/sqft</td>\n",
       "      <td>Single Family Residence</td>\n",
       "      <td>1290.0</td>\n",
       "      <td>Saskatchewan</td>\n",
       "    </tr>\n",
       "    <tr>\n",
       "      <th>1</th>\n",
       "      <td>326 Ottawa AVENUE N, Saskatoon, SK S7L 3P1</td>\n",
       "      <td>2.0</td>\n",
       "      <td>4.0</td>\n",
       "      <td>1960</td>\n",
       "      <td>2.0</td>\n",
       "      <td>1.0</td>\n",
       "      <td>319900.0</td>\n",
       "      <td>C$338/sqft</td>\n",
       "      <td>Single Family Residence</td>\n",
       "      <td>947.0</td>\n",
       "      <td>Saskatchewan</td>\n",
       "    </tr>\n",
       "    <tr>\n",
       "      <th>2</th>\n",
       "      <td>1019 Lansdowne AVENUE, Saskatoon, SK S7H 2C2</td>\n",
       "      <td>2.0</td>\n",
       "      <td>4.0</td>\n",
       "      <td>1946</td>\n",
       "      <td>1.0</td>\n",
       "      <td>2.0</td>\n",
       "      <td>450000.0</td>\n",
       "      <td>C$551/sqft</td>\n",
       "      <td>Single Family Residence</td>\n",
       "      <td>816.0</td>\n",
       "      <td>Saskatchewan</td>\n",
       "    </tr>\n",
       "    <tr>\n",
       "      <th>3</th>\n",
       "      <td>107 Brookdale CRESCENT, Saskatoon, SK S7V 1K5</td>\n",
       "      <td>3.0</td>\n",
       "      <td>3.0</td>\n",
       "      <td>2006</td>\n",
       "      <td>2.0</td>\n",
       "      <td>1.0</td>\n",
       "      <td>569000.0</td>\n",
       "      <td>C$317/sqft</td>\n",
       "      <td>Retail</td>\n",
       "      <td>1795.0</td>\n",
       "      <td>Saskatchewan</td>\n",
       "    </tr>\n",
       "    <tr>\n",
       "      <th>4</th>\n",
       "      <td>1208 6th AVENUE N, Saskatoon, SK S7K 2T5</td>\n",
       "      <td>4.0</td>\n",
       "      <td>4.0</td>\n",
       "      <td>2006</td>\n",
       "      <td>2.0</td>\n",
       "      <td>1.0</td>\n",
       "      <td>465000.0</td>\n",
       "      <td>C$344/sqft</td>\n",
       "      <td>Retail</td>\n",
       "      <td>1350.0</td>\n",
       "      <td>Saskatchewan</td>\n",
       "    </tr>\n",
       "  </tbody>\n",
       "</table>\n",
       "</div>"
      ],
      "text/plain": [
       "                                         Address  Bathrooms  Bedrooms  \\\n",
       "0      234 Heise CRESCENT, Saskatoon, SK S7M 4Y8        3.0       3.0   \n",
       "1     326 Ottawa AVENUE N, Saskatoon, SK S7L 3P1        2.0       4.0   \n",
       "2   1019 Lansdowne AVENUE, Saskatoon, SK S7H 2C2        2.0       4.0   \n",
       "3  107 Brookdale CRESCENT, Saskatoon, SK S7V 1K5        3.0       3.0   \n",
       "4       1208 6th AVENUE N, Saskatoon, SK S7K 2T5        4.0       4.0   \n",
       "\n",
       "  Built Year  Garage Space  Kitchens     Price Price per Sqft  \\\n",
       "0       1979           1.0       1.0  309000.0     C$240/sqft   \n",
       "1       1960           2.0       1.0  319900.0     C$338/sqft   \n",
       "2       1946           1.0       2.0  450000.0     C$551/sqft   \n",
       "3       2006           2.0       1.0  569000.0     C$317/sqft   \n",
       "4       2006           2.0       1.0  465000.0     C$344/sqft   \n",
       "\n",
       "             Property Type  Square Feet         State  \n",
       "0  Single Family Residence       1290.0  Saskatchewan  \n",
       "1  Single Family Residence        947.0  Saskatchewan  \n",
       "2  Single Family Residence        816.0  Saskatchewan  \n",
       "3                   Retail       1795.0  Saskatchewan  \n",
       "4                   Retail       1350.0  Saskatchewan  "
      ]
     },
     "execution_count": 739,
     "metadata": {},
     "output_type": "execute_result"
    }
   ],
   "source": [
    "df.head()"
   ]
  },
  {
   "cell_type": "code",
   "execution_count": 740,
   "id": "a43565eb-6106-4164-9d6a-17d4c319e0e4",
   "metadata": {},
   "outputs": [
    {
     "data": {
      "text/plain": [
       "Address            object\n",
       "Bathrooms         float64\n",
       "Bedrooms          float64\n",
       "Built Year         object\n",
       "Garage Space      float64\n",
       "Kitchens          float64\n",
       "Price             float64\n",
       "Price per Sqft     object\n",
       "Property Type      object\n",
       "Square Feet       float64\n",
       "State              object\n",
       "dtype: object"
      ]
     },
     "execution_count": 740,
     "metadata": {},
     "output_type": "execute_result"
    }
   ],
   "source": [
    "df.dtypes"
   ]
  },
  {
   "cell_type": "markdown",
   "id": "7facd6e8-2067-4ae5-924f-c78c4cced92c",
   "metadata": {},
   "source": [
    "### cleaning price per square feet"
   ]
  },
  {
   "cell_type": "code",
   "execution_count": 741,
   "id": "13df866d-1d8a-4148-8cc1-aec74ab2a332",
   "metadata": {},
   "outputs": [],
   "source": [
    "\n",
    "# Extract the numeric values from the \"Price per Sqft\" column\n",
    "df[\"Price per Sqft\"] = df[\"Price per Sqft\"].apply(lambda x: re.search(r'\\d+', x).group() if pd.notnull(x) and re.search(r'\\d+', x) else x)\n",
    "\n",
    "# Convert the extracted values to a numeric data type\n",
    "df[\"Price per Sqft\"] = pd.to_numeric(df[\"Price per Sqft\"], errors='coerce')\n",
    "\n"
   ]
  },
  {
   "cell_type": "code",
   "execution_count": 742,
   "id": "27a678fc-030b-49e6-917c-38bad532d846",
   "metadata": {},
   "outputs": [
    {
     "data": {
      "text/plain": [
       "array([240., 338., 551., 317., 344., 372., 351., 270., 300., 273., 313.,\n",
       "       255., 266., 188., 312., 174., 327., 320., 314., 246., 424., 488.,\n",
       "       288., 380., 214., 763., 512., 212., 287., 328., 294., 318., 382.,\n",
       "       437., 241., 452., 200., 272., 349., 324., 335., 418., 207., 319.,\n",
       "       537., 332., 370., 420., 252., 398., 249., 542., 384., 225., 342.,\n",
       "       196., 438., 764., 409., 394., 383., 161., 358., 329., 308., 307.,\n",
       "       396., 359., 627., 345., 346., 193., 470., 257., 203., 390., 283.,\n",
       "       386., 381., 385., 128., 405.,  91., 421., 285., 732., 516., 337.,\n",
       "       423.,  50., 306., 323., 415., 395., 491., 198., 353., 321., 295.,\n",
       "       373., 430., 242., 333., 215.,  35., 388., 297., 378., 391., 336.,\n",
       "       187., 250., 254., 311., 256., 231., 400., 362., 330., 243., 248.,\n",
       "       361., 479., 671., 376., 310.,  48., 572., 237., 439.,  95., 253.,\n",
       "       355., 354., 247., 450., 220., 341., 173., 233., 259., 156., 504.,\n",
       "       204., 280., 471., 315., 429., 397., 436., 655., 369., 264., 180.,\n",
       "       661., 728., 293., 920., 464., 377., 348., 302., 263., 367., 325.,\n",
       "       387., 153., 269., 239., 316., 427., 366., 408., 296., 298., 453.,\n",
       "       528., 432., 357., 227., 268., 404., 208., 216., 458., 267., 339.,\n",
       "       474., 625., 735., 138., 621., 500., 403., 205., 228., 478., 518.,\n",
       "       352., 175., 517., 191., 262., 309., 238., 644., 244., 226., 417.,\n",
       "       281., 197., 160., 195., 331., 347., 364., 412., 828., 463., 374.,\n",
       "       440., 334., 279., 443., 299., 392., 611., 519.,  87., 170., 260.,\n",
       "       414., 277., 303., 371., 343., 157., 564., 485., 223., 407., 235.,\n",
       "       482., 282., 190., 416., 457.,  nan, 456., 514., 497., 326., 411.,\n",
       "       704., 146., 224., 487., 184., 201., 219., 251., 410., 178., 169.,\n",
       "       756., 434., 461., 289., 413., 401., 284., 565., 657., 363., 218.,\n",
       "       213., 292., 177., 276., 559., 322., 406., 509., 222., 125., 165.,\n",
       "       141., 304., 489., 115., 368., 236., 444., 360., 468., 147., 232.,\n",
       "       350., 722., 258., 492., 124., 529., 275., 515., 168., 210., 662.,\n",
       "       150., 229., 365., 677., 441., 582., 510., 194., 136., 476., 451.,\n",
       "       340., 118., 547., 375., 433., 393., 154., 143., 613., 144., 442.,\n",
       "       206., 199., 694., 546., 176., 291., 265., 301., 586., 179., 245.,\n",
       "       202., 185., 278., 148., 667., 274., 234., 145., 189., 422., 399.,\n",
       "        57., 290.,  97., 155., 108.,  88., 162., 286., 575., 117., 261.,\n",
       "       305., 498., 103., 121., 539., 221., 495., 469., 127., 475., 172.,\n",
       "       402., 356.,  37., 448., 209.,   2., 389., 511., 181., 166., 186.,\n",
       "       104., 503., 530., 106., 599., 109., 696., 211., 110., 217., 447.,\n",
       "       130., 164., 152., 192., 460.,  86., 120.,  83., 142., 619., 521.,\n",
       "        46., 527., 140., 167., 116., 151., 271., 467., 501., 102., 114.,\n",
       "       533., 101.,  99.,  67.,  98., 135., 230., 158., 126., 133., 182.,\n",
       "       105., 134., 171., 119.,  96.,  94.])"
      ]
     },
     "execution_count": 742,
     "metadata": {},
     "output_type": "execute_result"
    }
   ],
   "source": [
    "df[\"Price per Sqft\"].unique()"
   ]
  },
  {
   "cell_type": "code",
   "execution_count": 743,
   "id": "2e75f95a-626b-4f45-b1fa-8f93a71adf5c",
   "metadata": {},
   "outputs": [
    {
     "name": "stdout",
     "output_type": "stream",
     "text": [
      "Number of null values in the Price per Sqft column: 75\n",
      "Number of empty values in the Price per Sqft column: False\n"
     ]
    }
   ],
   "source": [
    "\n",
    "# Check for null values in the \"Price per Sqft\" column\n",
    "null_values = df[\"Price per Sqft\"].isnull().sum()\n",
    "\n",
    "# Check for empty values in the \"Price per Sqft\" column\n",
    "empty_values = df[\"Price per Sqft\"].empty\n",
    "\n",
    "# Print the number of null and empty values in the \"Price per Sqft\" column\n",
    "print(\"Number of null values in the Price per Sqft column:\", null_values)\n",
    "print(\"Number of empty values in the Price per Sqft column:\", empty_values)\n",
    "\n"
   ]
  },
  {
   "cell_type": "code",
   "execution_count": 744,
   "id": "d5471195-c3e2-4cdb-a91a-11edc85ba044",
   "metadata": {},
   "outputs": [
    {
     "name": "stdout",
     "output_type": "stream",
     "text": [
      "Number of outliers in the Price per Sqft column: 43\n"
     ]
    }
   ],
   "source": [
    "# Calculate the IQR for the \"Price per Sqft\" column\n",
    "Q1 = df[\"Price per Sqft\"].quantile(0.25)\n",
    "Q3 = df[\"Price per Sqft\"].quantile(0.75)\n",
    "IQR = Q3 - Q1\n",
    "\n",
    "# Define the lower and upper bounds for outliers\n",
    "lower_bound = Q1 - 1.5 * IQR\n",
    "upper_bound = Q3 + 1.5 * IQR\n",
    "\n",
    "# Check for outliers in the \"Price per Sqft\" column\n",
    "outliers = df[(df[\"Price per Sqft\"] < lower_bound) | (df[\"Price per Sqft\"] > upper_bound)]\n",
    "\n",
    "# Print the number of outliers in the \"Price per Sqft\" column\n",
    "print(\"Number of outliers in the Price per Sqft column:\", len(outliers))\n"
   ]
  },
  {
   "cell_type": "markdown",
   "id": "055cd615-6365-4846-9f28-00dbd9ad6768",
   "metadata": {},
   "source": [
    "## visualise outliers in price per square feet"
   ]
  },
  {
   "cell_type": "code",
   "execution_count": 745,
   "id": "4927509c-e4b3-4162-9dc0-ffeb03f34f4e",
   "metadata": {},
   "outputs": [
    {
     "data": {
      "image/png": "[encoded data removed]",
      "text/plain": [
       "<Figure size 640x480 with 1 Axes>"
      ]
     },
     "metadata": {},
     "output_type": "display_data"
    }
   ],
   "source": [
    "# Create a boxplot for the \"Price per Sqft\" column\n",
    "sns.boxplot(x=df[\"Price per Sqft\"])\n",
    "\n",
    "# Set the title and labels\n",
    "plt.title(\"Boxplot of Price per Sqft\")\n",
    "plt.xlabel(\"Price per Sqft\")\n",
    "\n",
    "# Show the plot\n",
    "plt.show()\n"
   ]
  },
  {
   "cell_type": "code",
   "execution_count": 746,
   "id": "3185f7ba-9ad8-48df-8a2b-d05c09b530fe",
   "metadata": {},
   "outputs": [],
   "source": [
    "# Calculate the IQR for the \"Price per Sqft\" column\n",
    "Q1 = df[\"Price per Sqft\"].quantile(0.25)\n",
    "Q3 = df[\"Price per Sqft\"].quantile(0.75)\n",
    "IQR = Q3 - Q1\n",
    "\n",
    "# Define the lower and upper bounds for outliers\n",
    "lower_bound = Q1 - 1.5 * IQR\n",
    "upper_bound = Q3 + 1.5 * IQR\n",
    "\n",
    "# Replace the outlier values with the lower and upper bounds\n",
    "df.loc[df[\"Price per Sqft\"] < lower_bound, \"Price per Sqft\"] = lower_bound\n",
    "df.loc[df[\"Price per Sqft\"] > upper_bound, \"Price per Sqft\"] = upper_bound\n"
   ]
  },
  {
   "cell_type": "code",
   "execution_count": 747,
   "id": "09f1f18c-e9d2-4d7e-a6a0-7bcf4739ba51",
   "metadata": {},
   "outputs": [
    {
     "data": {
      "image/png": "[encoded data removed]",
      "text/plain": [
       "<Figure size 640x480 with 1 Axes>"
      ]
     },
     "metadata": {},
     "output_type": "display_data"
    }
   ],
   "source": [
    "# Create a boxplot for the \"Price per Sqft\" column\n",
    "sns.boxplot(x=df[\"Price per Sqft\"])\n",
    "\n",
    "# Set the title and labels\n",
    "plt.title(\"Boxplot of Price per Sqft\")\n",
    "plt.xlabel(\"Price per Sqft\")\n",
    "\n",
    "# Show the plot\n",
    "plt.show()\n"
   ]
  },
  {
   "cell_type": "code",
   "execution_count": 748,
   "id": "f45db4b4-d247-4803-84d7-81b86b9b175a",
   "metadata": {},
   "outputs": [
    {
     "name": "stdout",
     "output_type": "stream",
     "text": [
      "Number of outliers in the Price per Sqft column: 0\n"
     ]
    }
   ],
   "source": [
    "\n",
    "# Calculate the IQR for the \"Price per Sqft\" column\n",
    "Q1 = df[\"Price per Sqft\"].quantile(0.25)\n",
    "Q3 = df[\"Price per Sqft\"].quantile(0.75)\n",
    "IQR = Q3 - Q1\n",
    "\n",
    "# Define the lower and upper bounds for outliers\n",
    "lower_bound = Q1 - 1.5 * IQR\n",
    "upper_bound = Q3 + 1.5 * IQR\n",
    "\n",
    "# Check for outliers in the \"Price per Sqft\" column\n",
    "outliers = df[(df[\"Price per Sqft\"] < lower_bound) | (df[\"Price per Sqft\"] > upper_bound)]\n",
    "\n",
    "# Print the number of outliers in the \"Price per Sqft\" column\n",
    "print(\"Number of outliers in the Price per Sqft column:\", len(outliers))\n"
   ]
  },
  {
   "cell_type": "code",
   "execution_count": 749,
   "id": "8795dac1-ed7c-4942-b0b6-8268eb3b8436",
   "metadata": {},
   "outputs": [
    {
     "data": {
      "text/html": [
       "<div>\n",
       "<style scoped>\n",
       "    .dataframe tbody tr th:only-of-type {\n",
       "        vertical-align: middle;\n",
       "    }\n",
       "\n",
       "    .dataframe tbody tr th {\n",
       "        vertical-align: top;\n",
       "    }\n",
       "\n",
       "    .dataframe thead th {\n",
       "        text-align: right;\n",
       "    }\n",
       "</style>\n",
       "<table border=\"1\" class=\"dataframe\">\n",
       "  <thead>\n",
       "    <tr style=\"text-align: right;\">\n",
       "      <th></th>\n",
       "      <th>Address</th>\n",
       "      <th>Bathrooms</th>\n",
       "      <th>Bedrooms</th>\n",
       "      <th>Built Year</th>\n",
       "      <th>Garage Space</th>\n",
       "      <th>Kitchens</th>\n",
       "      <th>Price</th>\n",
       "      <th>Price per Sqft</th>\n",
       "      <th>Property Type</th>\n",
       "      <th>Square Feet</th>\n",
       "      <th>State</th>\n",
       "    </tr>\n",
       "  </thead>\n",
       "  <tbody>\n",
       "    <tr>\n",
       "      <th>0</th>\n",
       "      <td>234 Heise CRESCENT, Saskatoon, SK S7M 4Y8</td>\n",
       "      <td>3.0</td>\n",
       "      <td>3.0</td>\n",
       "      <td>1979</td>\n",
       "      <td>1.0</td>\n",
       "      <td>1.0</td>\n",
       "      <td>309000.0</td>\n",
       "      <td>240.000</td>\n",
       "      <td>Single Family Residence</td>\n",
       "      <td>1290.0</td>\n",
       "      <td>Saskatchewan</td>\n",
       "    </tr>\n",
       "    <tr>\n",
       "      <th>1</th>\n",
       "      <td>326 Ottawa AVENUE N, Saskatoon, SK S7L 3P1</td>\n",
       "      <td>2.0</td>\n",
       "      <td>4.0</td>\n",
       "      <td>1960</td>\n",
       "      <td>2.0</td>\n",
       "      <td>1.0</td>\n",
       "      <td>319900.0</td>\n",
       "      <td>338.000</td>\n",
       "      <td>Single Family Residence</td>\n",
       "      <td>947.0</td>\n",
       "      <td>Saskatchewan</td>\n",
       "    </tr>\n",
       "    <tr>\n",
       "      <th>2</th>\n",
       "      <td>1019 Lansdowne AVENUE, Saskatoon, SK S7H 2C2</td>\n",
       "      <td>2.0</td>\n",
       "      <td>4.0</td>\n",
       "      <td>1946</td>\n",
       "      <td>1.0</td>\n",
       "      <td>2.0</td>\n",
       "      <td>450000.0</td>\n",
       "      <td>547.125</td>\n",
       "      <td>Single Family Residence</td>\n",
       "      <td>816.0</td>\n",
       "      <td>Saskatchewan</td>\n",
       "    </tr>\n",
       "    <tr>\n",
       "      <th>3</th>\n",
       "      <td>107 Brookdale CRESCENT, Saskatoon, SK S7V 1K5</td>\n",
       "      <td>3.0</td>\n",
       "      <td>3.0</td>\n",
       "      <td>2006</td>\n",
       "      <td>2.0</td>\n",
       "      <td>1.0</td>\n",
       "      <td>569000.0</td>\n",
       "      <td>317.000</td>\n",
       "      <td>Retail</td>\n",
       "      <td>1795.0</td>\n",
       "      <td>Saskatchewan</td>\n",
       "    </tr>\n",
       "    <tr>\n",
       "      <th>4</th>\n",
       "      <td>1208 6th AVENUE N, Saskatoon, SK S7K 2T5</td>\n",
       "      <td>4.0</td>\n",
       "      <td>4.0</td>\n",
       "      <td>2006</td>\n",
       "      <td>2.0</td>\n",
       "      <td>1.0</td>\n",
       "      <td>465000.0</td>\n",
       "      <td>344.000</td>\n",
       "      <td>Retail</td>\n",
       "      <td>1350.0</td>\n",
       "      <td>Saskatchewan</td>\n",
       "    </tr>\n",
       "  </tbody>\n",
       "</table>\n",
       "</div>"
      ],
      "text/plain": [
       "                                         Address  Bathrooms  Bedrooms  \\\n",
       "0      234 Heise CRESCENT, Saskatoon, SK S7M 4Y8        3.0       3.0   \n",
       "1     326 Ottawa AVENUE N, Saskatoon, SK S7L 3P1        2.0       4.0   \n",
       "2   1019 Lansdowne AVENUE, Saskatoon, SK S7H 2C2        2.0       4.0   \n",
       "3  107 Brookdale CRESCENT, Saskatoon, SK S7V 1K5        3.0       3.0   \n",
       "4       1208 6th AVENUE N, Saskatoon, SK S7K 2T5        4.0       4.0   \n",
       "\n",
       "  Built Year  Garage Space  Kitchens     Price  Price per Sqft  \\\n",
       "0       1979           1.0       1.0  309000.0         240.000   \n",
       "1       1960           2.0       1.0  319900.0         338.000   \n",
       "2       1946           1.0       2.0  450000.0         547.125   \n",
       "3       2006           2.0       1.0  569000.0         317.000   \n",
       "4       2006           2.0       1.0  465000.0         344.000   \n",
       "\n",
       "             Property Type  Square Feet         State  \n",
       "0  Single Family Residence       1290.0  Saskatchewan  \n",
       "1  Single Family Residence        947.0  Saskatchewan  \n",
       "2  Single Family Residence        816.0  Saskatchewan  \n",
       "3                   Retail       1795.0  Saskatchewan  \n",
       "4                   Retail       1350.0  Saskatchewan  "
      ]
     },
     "execution_count": 749,
     "metadata": {},
     "output_type": "execute_result"
    }
   ],
   "source": [
    "df.head()"
   ]
  },
  {
   "cell_type": "code",
   "execution_count": 750,
   "id": "4eb30f47-9928-4720-bd19-bf7903b42978",
   "metadata": {},
   "outputs": [
    {
     "data": {
      "text/plain": [
       "array(['Single Family Residence', 'Retail', 'Condominium', 'Duplex',\n",
       "       'Townhouse', 'Manufactured Home', 'Warehouse', 'Unimproved Land',\n",
       "       'Multi Family', 'Quadruplex'], dtype=object)"
      ]
     },
     "execution_count": 750,
     "metadata": {},
     "output_type": "execute_result"
    }
   ],
   "source": [
    "df[\"Property Type\"].unique()"
   ]
  },
  {
   "cell_type": "code",
   "execution_count": 751,
   "id": "372a136f-209e-4501-9f6d-dc77f5083688",
   "metadata": {},
   "outputs": [
    {
     "name": "stdout",
     "output_type": "stream",
     "text": [
      "Property Type\n",
      "Single Family Residence    629\n",
      "Retail                     532\n",
      "Condominium                214\n",
      "Townhouse                   94\n",
      "Unimproved Land             61\n",
      "Manufactured Home           13\n",
      "Warehouse                   12\n",
      "Duplex                      11\n",
      "Multi Family                 4\n",
      "Quadruplex                   1\n",
      "Name: count, dtype: int64\n"
     ]
    }
   ],
   "source": [
    "property_type_counts = df[\"Property Type\"].value_counts()\n",
    "print(property_type_counts)\n"
   ]
  },
  {
   "cell_type": "code",
   "execution_count": 752,
   "id": "8a691c82-2ab2-44ff-a9f8-5d63d30bbe07",
   "metadata": {},
   "outputs": [
    {
     "data": {
      "image/png": "[encoded data removed]",
      "text/plain": [
       "<Figure size 640x480 with 1 Axes>"
      ]
     },
     "metadata": {},
     "output_type": "display_data"
    }
   ],
   "source": [
    "import matplotlib.pyplot as plt\n",
    "\n",
    "property_type_counts.plot(kind='bar')\n",
    "plt.title('Count of Each Property Type')\n",
    "plt.xlabel('Property Type')\n",
    "plt.ylabel('Count')\n",
    "plt.xticks(rotation=45)\n",
    "plt.show()\n"
   ]
  },
  {
   "cell_type": "code",
   "execution_count": 753,
   "id": "cf0b00fd-3fe4-4a76-963d-d48ca767b5d1",
   "metadata": {},
   "outputs": [
    {
     "name": "stdout",
     "output_type": "stream",
     "text": [
      "Number of empty values in the Property Type column: 0\n"
     ]
    }
   ],
   "source": [
    "# Check for empty values in the \"Description\" column\n",
    "empty_values = df[\"Property Type\"].str.strip().empty\n",
    "\n",
    "# Print the number of empty values in the \"Description\" column\n",
    "print(\"Number of empty values in the Property Type column:\", int(empty_values))\n"
   ]
  },
  {
   "cell_type": "code",
   "execution_count": 754,
   "id": "e756afe0-6b68-4e3f-9280-50c7ce1b0def",
   "metadata": {},
   "outputs": [
    {
     "name": "stdout",
     "output_type": "stream",
     "text": [
      "Number of null values in the Property Type column: 0\n"
     ]
    }
   ],
   "source": [
    "# Check for null values in the \"Property Type\" column\n",
    "null_values = df[\"Property Type\"].isnull()\n",
    "\n",
    "# Print the number of null values in the \"Property Type\" column\n",
    "print(\"Number of null values in the Property Type column:\", null_values.sum())\n"
   ]
  },
  {
   "cell_type": "code",
   "execution_count": 755,
   "id": "08bd33ba-efa9-4bc4-b9d0-474bc1e80d11",
   "metadata": {},
   "outputs": [
    {
     "name": "stdout",
     "output_type": "stream",
     "text": [
      "Property Type\n",
      "Single Family Residence    629\n",
      "Retail                     532\n",
      "Condominium                214\n",
      "Townhouse                   94\n",
      "Unimproved Land             61\n",
      "Manufactured Home           13\n",
      "Warehouse                   12\n",
      "Duplex                      11\n",
      "Multi Family                 4\n",
      "Quadruplex                   1\n",
      "Name: count, dtype: int64\n"
     ]
    }
   ],
   "source": [
    "property_type_counts = df[\"Property Type\"].value_counts()\n",
    "print(property_type_counts)\n"
   ]
  },
  {
   "cell_type": "code",
   "execution_count": 756,
   "id": "19772970-e51f-4afc-a5b3-fc24673af33d",
   "metadata": {},
   "outputs": [
    {
     "data": {
      "text/plain": [
       "1571"
      ]
     },
     "execution_count": 756,
     "metadata": {},
     "output_type": "execute_result"
    }
   ],
   "source": [
    "df[\"Property Type\"].value_counts().sum()"
   ]
  },
  {
   "cell_type": "code",
   "execution_count": 757,
   "id": "4349ae66-2d09-4da4-bfbf-45bbee0e7b1c",
   "metadata": {},
   "outputs": [],
   "source": [
    "# Convert 'Property Type' to categorical and one-hot encode\n",
    "df_encoded = pd.get_dummies(df, columns=[\"Property Type\"], drop_first=True)"
   ]
  },
  {
   "cell_type": "code",
   "execution_count": 758,
   "id": "c6830c24-cc5a-4f00-bd00-03d0cf5a3248",
   "metadata": {},
   "outputs": [
    {
     "data": {
      "text/html": [
       "<div>\n",
       "<style scoped>\n",
       "    .dataframe tbody tr th:only-of-type {\n",
       "        vertical-align: middle;\n",
       "    }\n",
       "\n",
       "    .dataframe tbody tr th {\n",
       "        vertical-align: top;\n",
       "    }\n",
       "\n",
       "    .dataframe thead th {\n",
       "        text-align: right;\n",
       "    }\n",
       "</style>\n",
       "<table border=\"1\" class=\"dataframe\">\n",
       "  <thead>\n",
       "    <tr style=\"text-align: right;\">\n",
       "      <th></th>\n",
       "      <th>Address</th>\n",
       "      <th>Bathrooms</th>\n",
       "      <th>Bedrooms</th>\n",
       "      <th>Built Year</th>\n",
       "      <th>Garage Space</th>\n",
       "      <th>Kitchens</th>\n",
       "      <th>Price</th>\n",
       "      <th>Price per Sqft</th>\n",
       "      <th>Property Type</th>\n",
       "      <th>Square Feet</th>\n",
       "      <th>State</th>\n",
       "    </tr>\n",
       "  </thead>\n",
       "  <tbody>\n",
       "    <tr>\n",
       "      <th>0</th>\n",
       "      <td>234 Heise CRESCENT, Saskatoon, SK S7M 4Y8</td>\n",
       "      <td>3.0</td>\n",
       "      <td>3.0</td>\n",
       "      <td>1979</td>\n",
       "      <td>1.0</td>\n",
       "      <td>1.0</td>\n",
       "      <td>309000.0</td>\n",
       "      <td>240.000</td>\n",
       "      <td>Single Family Residence</td>\n",
       "      <td>1290.0</td>\n",
       "      <td>Saskatchewan</td>\n",
       "    </tr>\n",
       "    <tr>\n",
       "      <th>1</th>\n",
       "      <td>326 Ottawa AVENUE N, Saskatoon, SK S7L 3P1</td>\n",
       "      <td>2.0</td>\n",
       "      <td>4.0</td>\n",
       "      <td>1960</td>\n",
       "      <td>2.0</td>\n",
       "      <td>1.0</td>\n",
       "      <td>319900.0</td>\n",
       "      <td>338.000</td>\n",
       "      <td>Single Family Residence</td>\n",
       "      <td>947.0</td>\n",
       "      <td>Saskatchewan</td>\n",
       "    </tr>\n",
       "    <tr>\n",
       "      <th>2</th>\n",
       "      <td>1019 Lansdowne AVENUE, Saskatoon, SK S7H 2C2</td>\n",
       "      <td>2.0</td>\n",
       "      <td>4.0</td>\n",
       "      <td>1946</td>\n",
       "      <td>1.0</td>\n",
       "      <td>2.0</td>\n",
       "      <td>450000.0</td>\n",
       "      <td>547.125</td>\n",
       "      <td>Single Family Residence</td>\n",
       "      <td>816.0</td>\n",
       "      <td>Saskatchewan</td>\n",
       "    </tr>\n",
       "    <tr>\n",
       "      <th>3</th>\n",
       "      <td>107 Brookdale CRESCENT, Saskatoon, SK S7V 1K5</td>\n",
       "      <td>3.0</td>\n",
       "      <td>3.0</td>\n",
       "      <td>2006</td>\n",
       "      <td>2.0</td>\n",
       "      <td>1.0</td>\n",
       "      <td>569000.0</td>\n",
       "      <td>317.000</td>\n",
       "      <td>Retail</td>\n",
       "      <td>1795.0</td>\n",
       "      <td>Saskatchewan</td>\n",
       "    </tr>\n",
       "    <tr>\n",
       "      <th>4</th>\n",
       "      <td>1208 6th AVENUE N, Saskatoon, SK S7K 2T5</td>\n",
       "      <td>4.0</td>\n",
       "      <td>4.0</td>\n",
       "      <td>2006</td>\n",
       "      <td>2.0</td>\n",
       "      <td>1.0</td>\n",
       "      <td>465000.0</td>\n",
       "      <td>344.000</td>\n",
       "      <td>Retail</td>\n",
       "      <td>1350.0</td>\n",
       "      <td>Saskatchewan</td>\n",
       "    </tr>\n",
       "  </tbody>\n",
       "</table>\n",
       "</div>"
      ],
      "text/plain": [
       "                                         Address  Bathrooms  Bedrooms  \\\n",
       "0      234 Heise CRESCENT, Saskatoon, SK S7M 4Y8        3.0       3.0   \n",
       "1     326 Ottawa AVENUE N, Saskatoon, SK S7L 3P1        2.0       4.0   \n",
       "2   1019 Lansdowne AVENUE, Saskatoon, SK S7H 2C2        2.0       4.0   \n",
       "3  107 Brookdale CRESCENT, Saskatoon, SK S7V 1K5        3.0       3.0   \n",
       "4       1208 6th AVENUE N, Saskatoon, SK S7K 2T5        4.0       4.0   \n",
       "\n",
       "  Built Year  Garage Space  Kitchens     Price  Price per Sqft  \\\n",
       "0       1979           1.0       1.0  309000.0         240.000   \n",
       "1       1960           2.0       1.0  319900.0         338.000   \n",
       "2       1946           1.0       2.0  450000.0         547.125   \n",
       "3       2006           2.0       1.0  569000.0         317.000   \n",
       "4       2006           2.0       1.0  465000.0         344.000   \n",
       "\n",
       "             Property Type  Square Feet         State  \n",
       "0  Single Family Residence       1290.0  Saskatchewan  \n",
       "1  Single Family Residence        947.0  Saskatchewan  \n",
       "2  Single Family Residence        816.0  Saskatchewan  \n",
       "3                   Retail       1795.0  Saskatchewan  \n",
       "4                   Retail       1350.0  Saskatchewan  "
      ]
     },
     "execution_count": 758,
     "metadata": {},
     "output_type": "execute_result"
    }
   ],
   "source": [
    "df.head()"
   ]
  },
  {
   "cell_type": "code",
   "execution_count": 759,
   "id": "a7101592-267a-4f27-86db-c1a179785ac5",
   "metadata": {},
   "outputs": [
    {
     "name": "stdout",
     "output_type": "stream",
     "text": [
      "Property Type\n",
      "Single Family Residence    629\n",
      "Retail                     532\n",
      "Condominium                214\n",
      "Townhouse                   94\n",
      "Unimproved Land             61\n",
      "Manufactured Home           13\n",
      "Warehouse                   12\n",
      "Duplex                      11\n",
      "Multi Family                 4\n",
      "Quadruplex                   1\n",
      "Name: count, dtype: int64\n"
     ]
    }
   ],
   "source": [
    "property_type_counts = df[\"Property Type\"].value_counts()\n",
    "print(property_type_counts)\n"
   ]
  },
  {
   "cell_type": "code",
   "execution_count": 760,
   "id": "53affd6c-f81e-4cba-98d7-0bf4cab00560",
   "metadata": {},
   "outputs": [],
   "source": [
    "\n",
    "df = pd.get_dummies(df, columns=[\"Property Type\"], dtype=int)"
   ]
  },
  {
   "cell_type": "code",
   "execution_count": 761,
   "id": "6b73249d-385c-4c8e-9632-dd8f40b0e5de",
   "metadata": {
    "scrolled": true
   },
   "outputs": [
    {
     "data": {
      "text/html": [
       "<div>\n",
       "<style scoped>\n",
       "    .dataframe tbody tr th:only-of-type {\n",
       "        vertical-align: middle;\n",
       "    }\n",
       "\n",
       "    .dataframe tbody tr th {\n",
       "        vertical-align: top;\n",
       "    }\n",
       "\n",
       "    .dataframe thead th {\n",
       "        text-align: right;\n",
       "    }\n",
       "</style>\n",
       "<table border=\"1\" class=\"dataframe\">\n",
       "  <thead>\n",
       "    <tr style=\"text-align: right;\">\n",
       "      <th></th>\n",
       "      <th>Address</th>\n",
       "      <th>Bathrooms</th>\n",
       "      <th>Bedrooms</th>\n",
       "      <th>Built Year</th>\n",
       "      <th>Garage Space</th>\n",
       "      <th>Kitchens</th>\n",
       "      <th>Price</th>\n",
       "      <th>Price per Sqft</th>\n",
       "      <th>Square Feet</th>\n",
       "      <th>State</th>\n",
       "      <th>Property Type_Condominium</th>\n",
       "      <th>Property Type_Duplex</th>\n",
       "      <th>Property Type_Manufactured Home</th>\n",
       "      <th>Property Type_Multi Family</th>\n",
       "      <th>Property Type_Quadruplex</th>\n",
       "      <th>Property Type_Retail</th>\n",
       "      <th>Property Type_Single Family Residence</th>\n",
       "      <th>Property Type_Townhouse</th>\n",
       "      <th>Property Type_Unimproved Land</th>\n",
       "      <th>Property Type_Warehouse</th>\n",
       "    </tr>\n",
       "  </thead>\n",
       "  <tbody>\n",
       "    <tr>\n",
       "      <th>0</th>\n",
       "      <td>234 Heise CRESCENT, Saskatoon, SK S7M 4Y8</td>\n",
       "      <td>3.0</td>\n",
       "      <td>3.0</td>\n",
       "      <td>1979</td>\n",
       "      <td>1.0</td>\n",
       "      <td>1.0</td>\n",
       "      <td>309000.0</td>\n",
       "      <td>240.000</td>\n",
       "      <td>1290.0</td>\n",
       "      <td>Saskatchewan</td>\n",
       "      <td>0</td>\n",
       "      <td>0</td>\n",
       "      <td>0</td>\n",
       "      <td>0</td>\n",
       "      <td>0</td>\n",
       "      <td>0</td>\n",
       "      <td>1</td>\n",
       "      <td>0</td>\n",
       "      <td>0</td>\n",
       "      <td>0</td>\n",
       "    </tr>\n",
       "    <tr>\n",
       "      <th>1</th>\n",
       "      <td>326 Ottawa AVENUE N, Saskatoon, SK S7L 3P1</td>\n",
       "      <td>2.0</td>\n",
       "      <td>4.0</td>\n",
       "      <td>1960</td>\n",
       "      <td>2.0</td>\n",
       "      <td>1.0</td>\n",
       "      <td>319900.0</td>\n",
       "      <td>338.000</td>\n",
       "      <td>947.0</td>\n",
       "      <td>Saskatchewan</td>\n",
       "      <td>0</td>\n",
       "      <td>0</td>\n",
       "      <td>0</td>\n",
       "      <td>0</td>\n",
       "      <td>0</td>\n",
       "      <td>0</td>\n",
       "      <td>1</td>\n",
       "      <td>0</td>\n",
       "      <td>0</td>\n",
       "      <td>0</td>\n",
       "    </tr>\n",
       "    <tr>\n",
       "      <th>2</th>\n",
       "      <td>1019 Lansdowne AVENUE, Saskatoon, SK S7H 2C2</td>\n",
       "      <td>2.0</td>\n",
       "      <td>4.0</td>\n",
       "      <td>1946</td>\n",
       "      <td>1.0</td>\n",
       "      <td>2.0</td>\n",
       "      <td>450000.0</td>\n",
       "      <td>547.125</td>\n",
       "      <td>816.0</td>\n",
       "      <td>Saskatchewan</td>\n",
       "      <td>0</td>\n",
       "      <td>0</td>\n",
       "      <td>0</td>\n",
       "      <td>0</td>\n",
       "      <td>0</td>\n",
       "      <td>0</td>\n",
       "      <td>1</td>\n",
       "      <td>0</td>\n",
       "      <td>0</td>\n",
       "      <td>0</td>\n",
       "    </tr>\n",
       "    <tr>\n",
       "      <th>3</th>\n",
       "      <td>107 Brookdale CRESCENT, Saskatoon, SK S7V 1K5</td>\n",
       "      <td>3.0</td>\n",
       "      <td>3.0</td>\n",
       "      <td>2006</td>\n",
       "      <td>2.0</td>\n",
       "      <td>1.0</td>\n",
       "      <td>569000.0</td>\n",
       "      <td>317.000</td>\n",
       "      <td>1795.0</td>\n",
       "      <td>Saskatchewan</td>\n",
       "      <td>0</td>\n",
       "      <td>0</td>\n",
       "      <td>0</td>\n",
       "      <td>0</td>\n",
       "      <td>0</td>\n",
       "      <td>1</td>\n",
       "      <td>0</td>\n",
       "      <td>0</td>\n",
       "      <td>0</td>\n",
       "      <td>0</td>\n",
       "    </tr>\n",
       "    <tr>\n",
       "      <th>4</th>\n",
       "      <td>1208 6th AVENUE N, Saskatoon, SK S7K 2T5</td>\n",
       "      <td>4.0</td>\n",
       "      <td>4.0</td>\n",
       "      <td>2006</td>\n",
       "      <td>2.0</td>\n",
       "      <td>1.0</td>\n",
       "      <td>465000.0</td>\n",
       "      <td>344.000</td>\n",
       "      <td>1350.0</td>\n",
       "      <td>Saskatchewan</td>\n",
       "      <td>0</td>\n",
       "      <td>0</td>\n",
       "      <td>0</td>\n",
       "      <td>0</td>\n",
       "      <td>0</td>\n",
       "      <td>1</td>\n",
       "      <td>0</td>\n",
       "      <td>0</td>\n",
       "      <td>0</td>\n",
       "      <td>0</td>\n",
       "    </tr>\n",
       "  </tbody>\n",
       "</table>\n",
       "</div>"
      ],
      "text/plain": [
       "                                         Address  Bathrooms  Bedrooms  \\\n",
       "0      234 Heise CRESCENT, Saskatoon, SK S7M 4Y8        3.0       3.0   \n",
       "1     326 Ottawa AVENUE N, Saskatoon, SK S7L 3P1        2.0       4.0   \n",
       "2   1019 Lansdowne AVENUE, Saskatoon, SK S7H 2C2        2.0       4.0   \n",
       "3  107 Brookdale CRESCENT, Saskatoon, SK S7V 1K5        3.0       3.0   \n",
       "4       1208 6th AVENUE N, Saskatoon, SK S7K 2T5        4.0       4.0   \n",
       "\n",
       "  Built Year  Garage Space  Kitchens     Price  Price per Sqft  Square Feet  \\\n",
       "0       1979           1.0       1.0  309000.0         240.000       1290.0   \n",
       "1       1960           2.0       1.0  319900.0         338.000        947.0   \n",
       "2       1946           1.0       2.0  450000.0         547.125        816.0   \n",
       "3       2006           2.0       1.0  569000.0         317.000       1795.0   \n",
       "4       2006           2.0       1.0  465000.0         344.000       1350.0   \n",
       "\n",
       "          State  Property Type_Condominium  Property Type_Duplex  \\\n",
       "0  Saskatchewan                          0                     0   \n",
       "1  Saskatchewan                          0                     0   \n",
       "2  Saskatchewan                          0                     0   \n",
       "3  Saskatchewan                          0                     0   \n",
       "4  Saskatchewan                          0                     0   \n",
       "\n",
       "   Property Type_Manufactured Home  Property Type_Multi Family  \\\n",
       "0                                0                           0   \n",
       "1                                0                           0   \n",
       "2                                0                           0   \n",
       "3                                0                           0   \n",
       "4                                0                           0   \n",
       "\n",
       "   Property Type_Quadruplex  Property Type_Retail  \\\n",
       "0                         0                     0   \n",
       "1                         0                     0   \n",
       "2                         0                     0   \n",
       "3                         0                     1   \n",
       "4                         0                     1   \n",
       "\n",
       "   Property Type_Single Family Residence  Property Type_Townhouse  \\\n",
       "0                                      1                        0   \n",
       "1                                      1                        0   \n",
       "2                                      1                        0   \n",
       "3                                      0                        0   \n",
       "4                                      0                        0   \n",
       "\n",
       "   Property Type_Unimproved Land  Property Type_Warehouse  \n",
       "0                              0                        0  \n",
       "1                              0                        0  \n",
       "2                              0                        0  \n",
       "3                              0                        0  \n",
       "4                              0                        0  "
      ]
     },
     "execution_count": 761,
     "metadata": {},
     "output_type": "execute_result"
    }
   ],
   "source": [
    "df.head()"
   ]
  },
  {
   "cell_type": "code",
   "execution_count": 762,
   "id": "5d543b67-473c-4e1d-ac9c-34a08fa259f9",
   "metadata": {},
   "outputs": [
    {
     "data": {
      "text/plain": [
       "State\n",
       "Saskatchewan    1571\n",
       "Name: count, dtype: int64"
      ]
     },
     "execution_count": 762,
     "metadata": {},
     "output_type": "execute_result"
    }
   ],
   "source": [
    "df[\"State\"].value_counts()"
   ]
  },
  {
   "cell_type": "code",
   "execution_count": 763,
   "id": "5f79eea5-e53c-4d9f-bee0-a2e6dd12cf5b",
   "metadata": {},
   "outputs": [
    {
     "data": {
      "text/plain": [
       "Address                                   0\n",
       "Bathrooms                                75\n",
       "Bedrooms                                 75\n",
       "Built Year                               63\n",
       "Garage Space                              0\n",
       "Kitchens                                  0\n",
       "Price                                     0\n",
       "Price per Sqft                           75\n",
       "Square Feet                              14\n",
       "State                                     0\n",
       "Property Type_Condominium                 0\n",
       "Property Type_Duplex                      0\n",
       "Property Type_Manufactured Home           0\n",
       "Property Type_Multi Family                0\n",
       "Property Type_Quadruplex                  0\n",
       "Property Type_Retail                      0\n",
       "Property Type_Single Family Residence     0\n",
       "Property Type_Townhouse                   0\n",
       "Property Type_Unimproved Land             0\n",
       "Property Type_Warehouse                   0\n",
       "dtype: int64"
      ]
     },
     "execution_count": 763,
     "metadata": {},
     "output_type": "execute_result"
    }
   ],
   "source": [
    "df.isnull().sum()"
   ]
  },
  {
   "cell_type": "markdown",
   "id": "506e6ed9-1d52-4ebd-95e7-27cd9909a4e3",
   "metadata": {},
   "source": [
    "### droping state column as it is not needed for rediction"
   ]
  },
  {
   "cell_type": "code",
   "execution_count": 764,
   "id": "1e3538f3-fe28-4657-88aa-f2ce1e34e10f",
   "metadata": {},
   "outputs": [],
   "source": [
    "# Drop the \"State\" column from the DataFrame\n",
    "df = df.drop(\"State\", axis=1)\n"
   ]
  },
  {
   "cell_type": "code",
   "execution_count": 765,
   "id": "d1f4e7dd-af38-467e-b340-552431b560f1",
   "metadata": {},
   "outputs": [
    {
     "data": {
      "text/html": [
       "<div>\n",
       "<style scoped>\n",
       "    .dataframe tbody tr th:only-of-type {\n",
       "        vertical-align: middle;\n",
       "    }\n",
       "\n",
       "    .dataframe tbody tr th {\n",
       "        vertical-align: top;\n",
       "    }\n",
       "\n",
       "    .dataframe thead th {\n",
       "        text-align: right;\n",
       "    }\n",
       "</style>\n",
       "<table border=\"1\" class=\"dataframe\">\n",
       "  <thead>\n",
       "    <tr style=\"text-align: right;\">\n",
       "      <th></th>\n",
       "      <th>Address</th>\n",
       "      <th>Bathrooms</th>\n",
       "      <th>Bedrooms</th>\n",
       "      <th>Built Year</th>\n",
       "      <th>Garage Space</th>\n",
       "      <th>Kitchens</th>\n",
       "      <th>Price</th>\n",
       "      <th>Price per Sqft</th>\n",
       "      <th>Square Feet</th>\n",
       "      <th>Property Type_Condominium</th>\n",
       "      <th>Property Type_Duplex</th>\n",
       "      <th>Property Type_Manufactured Home</th>\n",
       "      <th>Property Type_Multi Family</th>\n",
       "      <th>Property Type_Quadruplex</th>\n",
       "      <th>Property Type_Retail</th>\n",
       "      <th>Property Type_Single Family Residence</th>\n",
       "      <th>Property Type_Townhouse</th>\n",
       "      <th>Property Type_Unimproved Land</th>\n",
       "      <th>Property Type_Warehouse</th>\n",
       "    </tr>\n",
       "  </thead>\n",
       "  <tbody>\n",
       "    <tr>\n",
       "      <th>0</th>\n",
       "      <td>234 Heise CRESCENT, Saskatoon, SK S7M 4Y8</td>\n",
       "      <td>3.0</td>\n",
       "      <td>3.0</td>\n",
       "      <td>1979</td>\n",
       "      <td>1.0</td>\n",
       "      <td>1.0</td>\n",
       "      <td>309000.0</td>\n",
       "      <td>240.000</td>\n",
       "      <td>1290.0</td>\n",
       "      <td>0</td>\n",
       "      <td>0</td>\n",
       "      <td>0</td>\n",
       "      <td>0</td>\n",
       "      <td>0</td>\n",
       "      <td>0</td>\n",
       "      <td>1</td>\n",
       "      <td>0</td>\n",
       "      <td>0</td>\n",
       "      <td>0</td>\n",
       "    </tr>\n",
       "    <tr>\n",
       "      <th>1</th>\n",
       "      <td>326 Ottawa AVENUE N, Saskatoon, SK S7L 3P1</td>\n",
       "      <td>2.0</td>\n",
       "      <td>4.0</td>\n",
       "      <td>1960</td>\n",
       "      <td>2.0</td>\n",
       "      <td>1.0</td>\n",
       "      <td>319900.0</td>\n",
       "      <td>338.000</td>\n",
       "      <td>947.0</td>\n",
       "      <td>0</td>\n",
       "      <td>0</td>\n",
       "      <td>0</td>\n",
       "      <td>0</td>\n",
       "      <td>0</td>\n",
       "      <td>0</td>\n",
       "      <td>1</td>\n",
       "      <td>0</td>\n",
       "      <td>0</td>\n",
       "      <td>0</td>\n",
       "    </tr>\n",
       "    <tr>\n",
       "      <th>2</th>\n",
       "      <td>1019 Lansdowne AVENUE, Saskatoon, SK S7H 2C2</td>\n",
       "      <td>2.0</td>\n",
       "      <td>4.0</td>\n",
       "      <td>1946</td>\n",
       "      <td>1.0</td>\n",
       "      <td>2.0</td>\n",
       "      <td>450000.0</td>\n",
       "      <td>547.125</td>\n",
       "      <td>816.0</td>\n",
       "      <td>0</td>\n",
       "      <td>0</td>\n",
       "      <td>0</td>\n",
       "      <td>0</td>\n",
       "      <td>0</td>\n",
       "      <td>0</td>\n",
       "      <td>1</td>\n",
       "      <td>0</td>\n",
       "      <td>0</td>\n",
       "      <td>0</td>\n",
       "    </tr>\n",
       "    <tr>\n",
       "      <th>3</th>\n",
       "      <td>107 Brookdale CRESCENT, Saskatoon, SK S7V 1K5</td>\n",
       "      <td>3.0</td>\n",
       "      <td>3.0</td>\n",
       "      <td>2006</td>\n",
       "      <td>2.0</td>\n",
       "      <td>1.0</td>\n",
       "      <td>569000.0</td>\n",
       "      <td>317.000</td>\n",
       "      <td>1795.0</td>\n",
       "      <td>0</td>\n",
       "      <td>0</td>\n",
       "      <td>0</td>\n",
       "      <td>0</td>\n",
       "      <td>0</td>\n",
       "      <td>1</td>\n",
       "      <td>0</td>\n",
       "      <td>0</td>\n",
       "      <td>0</td>\n",
       "      <td>0</td>\n",
       "    </tr>\n",
       "    <tr>\n",
       "      <th>4</th>\n",
       "      <td>1208 6th AVENUE N, Saskatoon, SK S7K 2T5</td>\n",
       "      <td>4.0</td>\n",
       "      <td>4.0</td>\n",
       "      <td>2006</td>\n",
       "      <td>2.0</td>\n",
       "      <td>1.0</td>\n",
       "      <td>465000.0</td>\n",
       "      <td>344.000</td>\n",
       "      <td>1350.0</td>\n",
       "      <td>0</td>\n",
       "      <td>0</td>\n",
       "      <td>0</td>\n",
       "      <td>0</td>\n",
       "      <td>0</td>\n",
       "      <td>1</td>\n",
       "      <td>0</td>\n",
       "      <td>0</td>\n",
       "      <td>0</td>\n",
       "      <td>0</td>\n",
       "    </tr>\n",
       "  </tbody>\n",
       "</table>\n",
       "</div>"
      ],
      "text/plain": [
       "                                         Address  Bathrooms  Bedrooms  \\\n",
       "0      234 Heise CRESCENT, Saskatoon, SK S7M 4Y8        3.0       3.0   \n",
       "1     326 Ottawa AVENUE N, Saskatoon, SK S7L 3P1        2.0       4.0   \n",
       "2   1019 Lansdowne AVENUE, Saskatoon, SK S7H 2C2        2.0       4.0   \n",
       "3  107 Brookdale CRESCENT, Saskatoon, SK S7V 1K5        3.0       3.0   \n",
       "4       1208 6th AVENUE N, Saskatoon, SK S7K 2T5        4.0       4.0   \n",
       "\n",
       "  Built Year  Garage Space  Kitchens     Price  Price per Sqft  Square Feet  \\\n",
       "0       1979           1.0       1.0  309000.0         240.000       1290.0   \n",
       "1       1960           2.0       1.0  319900.0         338.000        947.0   \n",
       "2       1946           1.0       2.0  450000.0         547.125        816.0   \n",
       "3       2006           2.0       1.0  569000.0         317.000       1795.0   \n",
       "4       2006           2.0       1.0  465000.0         344.000       1350.0   \n",
       "\n",
       "   Property Type_Condominium  Property Type_Duplex  \\\n",
       "0                          0                     0   \n",
       "1                          0                     0   \n",
       "2                          0                     0   \n",
       "3                          0                     0   \n",
       "4                          0                     0   \n",
       "\n",
       "   Property Type_Manufactured Home  Property Type_Multi Family  \\\n",
       "0                                0                           0   \n",
       "1                                0                           0   \n",
       "2                                0                           0   \n",
       "3                                0                           0   \n",
       "4                                0                           0   \n",
       "\n",
       "   Property Type_Quadruplex  Property Type_Retail  \\\n",
       "0                         0                     0   \n",
       "1                         0                     0   \n",
       "2                         0                     0   \n",
       "3                         0                     1   \n",
       "4                         0                     1   \n",
       "\n",
       "   Property Type_Single Family Residence  Property Type_Townhouse  \\\n",
       "0                                      1                        0   \n",
       "1                                      1                        0   \n",
       "2                                      1                        0   \n",
       "3                                      0                        0   \n",
       "4                                      0                        0   \n",
       "\n",
       "   Property Type_Unimproved Land  Property Type_Warehouse  \n",
       "0                              0                        0  \n",
       "1                              0                        0  \n",
       "2                              0                        0  \n",
       "3                              0                        0  \n",
       "4                              0                        0  "
      ]
     },
     "execution_count": 765,
     "metadata": {},
     "output_type": "execute_result"
    }
   ],
   "source": [
    "df.head()"
   ]
  },
  {
   "cell_type": "markdown",
   "id": "36ecc933-a226-43b5-a1a4-b86abda32b36",
   "metadata": {},
   "source": [
    "### droping Property Type_Quadruplex column as it have only one value and to defend multicollinearity"
   ]
  },
  {
   "cell_type": "code",
   "execution_count": 766,
   "id": "3b500904-1c12-447e-aad2-80b23b944d12",
   "metadata": {},
   "outputs": [],
   "source": [
    "# Dropping the column\n",
    "df.drop(columns=['Property Type_Quadruplex'], inplace=True)"
   ]
  },
  {
   "cell_type": "code",
   "execution_count": 775,
   "id": "913b5ca8-a87b-417f-9476-b676414efc44",
   "metadata": {},
   "outputs": [
    {
     "data": {
      "text/html": [
       "<div>\n",
       "<style scoped>\n",
       "    .dataframe tbody tr th:only-of-type {\n",
       "        vertical-align: middle;\n",
       "    }\n",
       "\n",
       "    .dataframe tbody tr th {\n",
       "        vertical-align: top;\n",
       "    }\n",
       "\n",
       "    .dataframe thead th {\n",
       "        text-align: right;\n",
       "    }\n",
       "</style>\n",
       "<table border=\"1\" class=\"dataframe\">\n",
       "  <thead>\n",
       "    <tr style=\"text-align: right;\">\n",
       "      <th></th>\n",
       "      <th>Address</th>\n",
       "      <th>Bathrooms</th>\n",
       "      <th>Bedrooms</th>\n",
       "      <th>Built Year</th>\n",
       "      <th>Garage Space</th>\n",
       "      <th>Kitchens</th>\n",
       "      <th>Price</th>\n",
       "      <th>Price per Sqft</th>\n",
       "      <th>Square Feet</th>\n",
       "      <th>Property Type_Condominium</th>\n",
       "      <th>Property Type_Duplex</th>\n",
       "      <th>Property Type_Manufactured Home</th>\n",
       "      <th>Property Type_Multi Family</th>\n",
       "      <th>Property Type_Retail</th>\n",
       "      <th>Property Type_Single Family Residence</th>\n",
       "      <th>Property Type_Townhouse</th>\n",
       "      <th>Property Type_Unimproved Land</th>\n",
       "      <th>Property Type_Warehouse</th>\n",
       "    </tr>\n",
       "  </thead>\n",
       "  <tbody>\n",
       "    <tr>\n",
       "      <th>0</th>\n",
       "      <td>234 Heise CRESCENT, Saskatoon, SK S7M 4Y8</td>\n",
       "      <td>3.0</td>\n",
       "      <td>3.0</td>\n",
       "      <td>1979</td>\n",
       "      <td>1.0</td>\n",
       "      <td>1.0</td>\n",
       "      <td>309000.0</td>\n",
       "      <td>240.000</td>\n",
       "      <td>1290.0</td>\n",
       "      <td>0</td>\n",
       "      <td>0</td>\n",
       "      <td>0</td>\n",
       "      <td>0</td>\n",
       "      <td>0</td>\n",
       "      <td>1</td>\n",
       "      <td>0</td>\n",
       "      <td>0</td>\n",
       "      <td>0</td>\n",
       "    </tr>\n",
       "    <tr>\n",
       "      <th>1</th>\n",
       "      <td>326 Ottawa AVENUE N, Saskatoon, SK S7L 3P1</td>\n",
       "      <td>2.0</td>\n",
       "      <td>4.0</td>\n",
       "      <td>1960</td>\n",
       "      <td>2.0</td>\n",
       "      <td>1.0</td>\n",
       "      <td>319900.0</td>\n",
       "      <td>338.000</td>\n",
       "      <td>947.0</td>\n",
       "      <td>0</td>\n",
       "      <td>0</td>\n",
       "      <td>0</td>\n",
       "      <td>0</td>\n",
       "      <td>0</td>\n",
       "      <td>1</td>\n",
       "      <td>0</td>\n",
       "      <td>0</td>\n",
       "      <td>0</td>\n",
       "    </tr>\n",
       "    <tr>\n",
       "      <th>2</th>\n",
       "      <td>1019 Lansdowne AVENUE, Saskatoon, SK S7H 2C2</td>\n",
       "      <td>2.0</td>\n",
       "      <td>4.0</td>\n",
       "      <td>1946</td>\n",
       "      <td>1.0</td>\n",
       "      <td>2.0</td>\n",
       "      <td>450000.0</td>\n",
       "      <td>547.125</td>\n",
       "      <td>816.0</td>\n",
       "      <td>0</td>\n",
       "      <td>0</td>\n",
       "      <td>0</td>\n",
       "      <td>0</td>\n",
       "      <td>0</td>\n",
       "      <td>1</td>\n",
       "      <td>0</td>\n",
       "      <td>0</td>\n",
       "      <td>0</td>\n",
       "    </tr>\n",
       "    <tr>\n",
       "      <th>3</th>\n",
       "      <td>107 Brookdale CRESCENT, Saskatoon, SK S7V 1K5</td>\n",
       "      <td>3.0</td>\n",
       "      <td>3.0</td>\n",
       "      <td>2006</td>\n",
       "      <td>2.0</td>\n",
       "      <td>1.0</td>\n",
       "      <td>569000.0</td>\n",
       "      <td>317.000</td>\n",
       "      <td>1795.0</td>\n",
       "      <td>0</td>\n",
       "      <td>0</td>\n",
       "      <td>0</td>\n",
       "      <td>0</td>\n",
       "      <td>1</td>\n",
       "      <td>0</td>\n",
       "      <td>0</td>\n",
       "      <td>0</td>\n",
       "      <td>0</td>\n",
       "    </tr>\n",
       "    <tr>\n",
       "      <th>4</th>\n",
       "      <td>1208 6th AVENUE N, Saskatoon, SK S7K 2T5</td>\n",
       "      <td>4.0</td>\n",
       "      <td>4.0</td>\n",
       "      <td>2006</td>\n",
       "      <td>2.0</td>\n",
       "      <td>1.0</td>\n",
       "      <td>465000.0</td>\n",
       "      <td>344.000</td>\n",
       "      <td>1350.0</td>\n",
       "      <td>0</td>\n",
       "      <td>0</td>\n",
       "      <td>0</td>\n",
       "      <td>0</td>\n",
       "      <td>1</td>\n",
       "      <td>0</td>\n",
       "      <td>0</td>\n",
       "      <td>0</td>\n",
       "      <td>0</td>\n",
       "    </tr>\n",
       "  </tbody>\n",
       "</table>\n",
       "</div>"
      ],
      "text/plain": [
       "                                         Address  Bathrooms  Bedrooms  \\\n",
       "0      234 Heise CRESCENT, Saskatoon, SK S7M 4Y8        3.0       3.0   \n",
       "1     326 Ottawa AVENUE N, Saskatoon, SK S7L 3P1        2.0       4.0   \n",
       "2   1019 Lansdowne AVENUE, Saskatoon, SK S7H 2C2        2.0       4.0   \n",
       "3  107 Brookdale CRESCENT, Saskatoon, SK S7V 1K5        3.0       3.0   \n",
       "4       1208 6th AVENUE N, Saskatoon, SK S7K 2T5        4.0       4.0   \n",
       "\n",
       "  Built Year  Garage Space  Kitchens     Price  Price per Sqft  Square Feet  \\\n",
       "0       1979           1.0       1.0  309000.0         240.000       1290.0   \n",
       "1       1960           2.0       1.0  319900.0         338.000        947.0   \n",
       "2       1946           1.0       2.0  450000.0         547.125        816.0   \n",
       "3       2006           2.0       1.0  569000.0         317.000       1795.0   \n",
       "4       2006           2.0       1.0  465000.0         344.000       1350.0   \n",
       "\n",
       "   Property Type_Condominium  Property Type_Duplex  \\\n",
       "0                          0                     0   \n",
       "1                          0                     0   \n",
       "2                          0                     0   \n",
       "3                          0                     0   \n",
       "4                          0                     0   \n",
       "\n",
       "   Property Type_Manufactured Home  Property Type_Multi Family  \\\n",
       "0                                0                           0   \n",
       "1                                0                           0   \n",
       "2                                0                           0   \n",
       "3                                0                           0   \n",
       "4                                0                           0   \n",
       "\n",
       "   Property Type_Retail  Property Type_Single Family Residence  \\\n",
       "0                     0                                      1   \n",
       "1                     0                                      1   \n",
       "2                     0                                      1   \n",
       "3                     1                                      0   \n",
       "4                     1                                      0   \n",
       "\n",
       "   Property Type_Townhouse  Property Type_Unimproved Land  \\\n",
       "0                        0                              0   \n",
       "1                        0                              0   \n",
       "2                        0                              0   \n",
       "3                        0                              0   \n",
       "4                        0                              0   \n",
       "\n",
       "   Property Type_Warehouse  \n",
       "0                        0  \n",
       "1                        0  \n",
       "2                        0  \n",
       "3                        0  \n",
       "4                        0  "
      ]
     },
     "execution_count": 775,
     "metadata": {},
     "output_type": "execute_result"
    }
   ],
   "source": [
    "df.head()"
   ]
  },
  {
   "cell_type": "code",
   "execution_count": 769,
   "id": "c6110743-0146-4812-8f9c-ccfcfc1fb90c",
   "metadata": {},
   "outputs": [
    {
     "data": {
      "text/plain": [
       "1463"
      ]
     },
     "execution_count": 769,
     "metadata": {},
     "output_type": "execute_result"
    }
   ],
   "source": [
    "len(df[\"Address\"].value_counts())\n"
   ]
  },
  {
   "cell_type": "code",
   "execution_count": 770,
   "id": "782c4e4b-21eb-4d98-9753-7f100414eb98",
   "metadata": {},
   "outputs": [
    {
     "data": {
      "text/plain": [
       "count    1496.000000\n",
       "mean        3.287433\n",
       "std         1.278692\n",
       "min         0.000000\n",
       "25%         2.000000\n",
       "50%         3.000000\n",
       "75%         4.000000\n",
       "max         7.000000\n",
       "Name: Bedrooms, dtype: float64"
      ]
     },
     "execution_count": 770,
     "metadata": {},
     "output_type": "execute_result"
    }
   ],
   "source": [
    "df.Bedrooms.describe()"
   ]
  },
  {
   "cell_type": "code",
   "execution_count": 771,
   "id": "07009a56-ebd6-4140-9aef-c6b0467fbad3",
   "metadata": {},
   "outputs": [
    {
     "data": {
      "text/plain": [
       "count    1571.000000\n",
       "mean        1.155315\n",
       "std         0.408589\n",
       "min         1.000000\n",
       "25%         1.000000\n",
       "50%         1.000000\n",
       "75%         1.000000\n",
       "max         3.000000\n",
       "Name: Kitchens, dtype: float64"
      ]
     },
     "execution_count": 771,
     "metadata": {},
     "output_type": "execute_result"
    }
   ],
   "source": [
    "df.Kitchens.describe()"
   ]
  },
  {
   "cell_type": "code",
   "execution_count": 772,
   "id": "bf985c75-1b6a-434f-96d7-b79ac6b04f18",
   "metadata": {},
   "outputs": [
    {
     "data": {
      "text/plain": [
       "count    1496.000000\n",
       "mean        2.377674\n",
       "std         1.033911\n",
       "min         1.000000\n",
       "25%         2.000000\n",
       "50%         2.000000\n",
       "75%         3.000000\n",
       "max         4.500000\n",
       "Name: Bathrooms, dtype: float64"
      ]
     },
     "execution_count": 772,
     "metadata": {},
     "output_type": "execute_result"
    }
   ],
   "source": [
    "df.Bathrooms.describe()"
   ]
  },
  {
   "cell_type": "code",
   "execution_count": 773,
   "id": "8bd6cac1-b566-4196-b52f-fc218a707f78",
   "metadata": {},
   "outputs": [
    {
     "data": {
      "text/plain": [
       "count    1.571000e+03\n",
       "mean     4.233352e+05\n",
       "std      3.150294e+05\n",
       "min      9.900000e+03\n",
       "25%      2.299000e+05\n",
       "50%      3.435000e+05\n",
       "75%      5.299000e+05\n",
       "max      2.777777e+06\n",
       "Name: Price, dtype: float64"
      ]
     },
     "execution_count": 773,
     "metadata": {},
     "output_type": "execute_result"
    }
   ],
   "source": [
    "df.Price.describe()"
   ]
  },
  {
   "cell_type": "code",
   "execution_count": 774,
   "id": "5edc33bf-3aa1-4e2f-a2b0-8a77bb185f8b",
   "metadata": {},
   "outputs": [
    {
     "data": {
      "text/plain": [
       "count     1508\n",
       "unique     115\n",
       "top       2024\n",
       "freq        86\n",
       "Name: Built Year, dtype: object"
      ]
     },
     "execution_count": 774,
     "metadata": {},
     "output_type": "execute_result"
    }
   ],
   "source": [
    "df[\"Built Year\"].describe()"
   ]
  },
  {
   "cell_type": "markdown",
   "id": "dfdcf6bf-5eba-420e-b65d-bb7d7e105b6e",
   "metadata": {},
   "source": [
    "### cleaning addresss column"
   ]
  },
  {
   "cell_type": "code",
   "execution_count": 779,
   "id": "551bd250-d05f-4829-9cf5-3b0690d27147",
   "metadata": {},
   "outputs": [
    {
     "data": {
      "text/plain": [
       "1566       431 St John STREET, Regina, SK S4R 1R4\n",
       "1567           815 Rae STREET, Regina, SK S4T 2B3\n",
       "1568        431 Arthur STREET, Regina, SK S4R 4X5\n",
       "1569    3123 Green Stone ROAD, Regina, SK S4V 3X4\n",
       "1570       2023 Ottawa STREET, Regina, SK S4P 1P9\n",
       "Name: Address, dtype: object"
      ]
     },
     "execution_count": 779,
     "metadata": {},
     "output_type": "execute_result"
    }
   ],
   "source": [
    "df[\"Address\"].tail()"
   ]
  },
  {
   "cell_type": "code",
   "execution_count": 782,
   "id": "8f95a7d6-eb42-43ea-a5ef-b52bb30d8523",
   "metadata": {},
   "outputs": [
    {
     "data": {
      "text/plain": [
       "array(['234 Heise CRESCENT, Saskatoon, SK S7M 4Y8',\n",
       "       '326 Ottawa AVENUE N, Saskatoon, SK S7L 3P1',\n",
       "       '1019 Lansdowne AVENUE, Saskatoon, SK S7H 2C2', ...,\n",
       "       '815 Rae STREET, Regina, SK S4T 2B3',\n",
       "       '3123 Green Stone ROAD, Regina, SK S4V 3X4',\n",
       "       '2023 Ottawa STREET, Regina, SK S4P 1P9'], dtype=object)"
      ]
     },
     "execution_count": 782,
     "metadata": {},
     "output_type": "execute_result"
    }
   ],
   "source": [
    "df[\"Address\"].unique()"
   ]
  },
  {
   "cell_type": "code",
   "execution_count": 783,
   "id": "70c7c0bb-0783-4008-8bd4-8f1b393f2a0c",
   "metadata": {},
   "outputs": [],
   "source": [
    "df['City'] = df['Address'].str.extract(r',\\s*([A-Za-z\\s]+),\\s+[A-Z]{2}\\s+[A-Za-z0-9\\s]+')[0]"
   ]
  },
  {
   "cell_type": "code",
   "execution_count": 784,
   "id": "262d4510-626f-4c87-a327-9cda76be6f15",
   "metadata": {},
   "outputs": [
    {
     "name": "stdout",
     "output_type": "stream",
     "text": [
      "                                            Address       City\n",
      "0         234 Heise CRESCENT, Saskatoon, SK S7M 4Y8  Saskatoon\n",
      "1        326 Ottawa AVENUE N, Saskatoon, SK S7L 3P1  Saskatoon\n",
      "2      1019 Lansdowne AVENUE, Saskatoon, SK S7H 2C2  Saskatoon\n",
      "3     107 Brookdale CRESCENT, Saskatoon, SK S7V 1K5  Saskatoon\n",
      "4          1208 6th AVENUE N, Saskatoon, SK S7K 2T5  Saskatoon\n",
      "...                                             ...        ...\n",
      "1566         431 St John STREET, Regina, SK S4R 1R4     Regina\n",
      "1567             815 Rae STREET, Regina, SK S4T 2B3     Regina\n",
      "1568          431 Arthur STREET, Regina, SK S4R 4X5     Regina\n",
      "1569      3123 Green Stone ROAD, Regina, SK S4V 3X4     Regina\n",
      "1570         2023 Ottawa STREET, Regina, SK S4P 1P9     Regina\n",
      "\n",
      "[1571 rows x 2 columns]\n"
     ]
    }
   ],
   "source": [
    "# Display the DataFrame with the extracted city\n",
    "print(df[['Address', 'City']])"
   ]
  },
  {
   "cell_type": "code",
   "execution_count": 785,
   "id": "6112ae80-4fb6-45cf-b5d1-e1aedcb255e7",
   "metadata": {},
   "outputs": [
    {
     "data": {
      "text/html": [
       "<div>\n",
       "<style scoped>\n",
       "    .dataframe tbody tr th:only-of-type {\n",
       "        vertical-align: middle;\n",
       "    }\n",
       "\n",
       "    .dataframe tbody tr th {\n",
       "        vertical-align: top;\n",
       "    }\n",
       "\n",
       "    .dataframe thead th {\n",
       "        text-align: right;\n",
       "    }\n",
       "</style>\n",
       "<table border=\"1\" class=\"dataframe\">\n",
       "  <thead>\n",
       "    <tr style=\"text-align: right;\">\n",
       "      <th></th>\n",
       "      <th>Address</th>\n",
       "      <th>Bathrooms</th>\n",
       "      <th>Bedrooms</th>\n",
       "      <th>Built Year</th>\n",
       "      <th>Garage Space</th>\n",
       "      <th>Kitchens</th>\n",
       "      <th>Price</th>\n",
       "      <th>Price per Sqft</th>\n",
       "      <th>Square Feet</th>\n",
       "      <th>Property Type_Condominium</th>\n",
       "      <th>Property Type_Duplex</th>\n",
       "      <th>Property Type_Manufactured Home</th>\n",
       "      <th>Property Type_Multi Family</th>\n",
       "      <th>Property Type_Retail</th>\n",
       "      <th>Property Type_Single Family Residence</th>\n",
       "      <th>Property Type_Townhouse</th>\n",
       "      <th>Property Type_Unimproved Land</th>\n",
       "      <th>Property Type_Warehouse</th>\n",
       "      <th>City</th>\n",
       "    </tr>\n",
       "  </thead>\n",
       "  <tbody>\n",
       "    <tr>\n",
       "      <th>0</th>\n",
       "      <td>234 Heise CRESCENT, Saskatoon, SK S7M 4Y8</td>\n",
       "      <td>3.0</td>\n",
       "      <td>3.0</td>\n",
       "      <td>1979</td>\n",
       "      <td>1.0</td>\n",
       "      <td>1.0</td>\n",
       "      <td>309000.0</td>\n",
       "      <td>240.000</td>\n",
       "      <td>1290.0</td>\n",
       "      <td>0</td>\n",
       "      <td>0</td>\n",
       "      <td>0</td>\n",
       "      <td>0</td>\n",
       "      <td>0</td>\n",
       "      <td>1</td>\n",
       "      <td>0</td>\n",
       "      <td>0</td>\n",
       "      <td>0</td>\n",
       "      <td>Saskatoon</td>\n",
       "    </tr>\n",
       "    <tr>\n",
       "      <th>1</th>\n",
       "      <td>326 Ottawa AVENUE N, Saskatoon, SK S7L 3P1</td>\n",
       "      <td>2.0</td>\n",
       "      <td>4.0</td>\n",
       "      <td>1960</td>\n",
       "      <td>2.0</td>\n",
       "      <td>1.0</td>\n",
       "      <td>319900.0</td>\n",
       "      <td>338.000</td>\n",
       "      <td>947.0</td>\n",
       "      <td>0</td>\n",
       "      <td>0</td>\n",
       "      <td>0</td>\n",
       "      <td>0</td>\n",
       "      <td>0</td>\n",
       "      <td>1</td>\n",
       "      <td>0</td>\n",
       "      <td>0</td>\n",
       "      <td>0</td>\n",
       "      <td>Saskatoon</td>\n",
       "    </tr>\n",
       "    <tr>\n",
       "      <th>2</th>\n",
       "      <td>1019 Lansdowne AVENUE, Saskatoon, SK S7H 2C2</td>\n",
       "      <td>2.0</td>\n",
       "      <td>4.0</td>\n",
       "      <td>1946</td>\n",
       "      <td>1.0</td>\n",
       "      <td>2.0</td>\n",
       "      <td>450000.0</td>\n",
       "      <td>547.125</td>\n",
       "      <td>816.0</td>\n",
       "      <td>0</td>\n",
       "      <td>0</td>\n",
       "      <td>0</td>\n",
       "      <td>0</td>\n",
       "      <td>0</td>\n",
       "      <td>1</td>\n",
       "      <td>0</td>\n",
       "      <td>0</td>\n",
       "      <td>0</td>\n",
       "      <td>Saskatoon</td>\n",
       "    </tr>\n",
       "    <tr>\n",
       "      <th>3</th>\n",
       "      <td>107 Brookdale CRESCENT, Saskatoon, SK S7V 1K5</td>\n",
       "      <td>3.0</td>\n",
       "      <td>3.0</td>\n",
       "      <td>2006</td>\n",
       "      <td>2.0</td>\n",
       "      <td>1.0</td>\n",
       "      <td>569000.0</td>\n",
       "      <td>317.000</td>\n",
       "      <td>1795.0</td>\n",
       "      <td>0</td>\n",
       "      <td>0</td>\n",
       "      <td>0</td>\n",
       "      <td>0</td>\n",
       "      <td>1</td>\n",
       "      <td>0</td>\n",
       "      <td>0</td>\n",
       "      <td>0</td>\n",
       "      <td>0</td>\n",
       "      <td>Saskatoon</td>\n",
       "    </tr>\n",
       "    <tr>\n",
       "      <th>4</th>\n",
       "      <td>1208 6th AVENUE N, Saskatoon, SK S7K 2T5</td>\n",
       "      <td>4.0</td>\n",
       "      <td>4.0</td>\n",
       "      <td>2006</td>\n",
       "      <td>2.0</td>\n",
       "      <td>1.0</td>\n",
       "      <td>465000.0</td>\n",
       "      <td>344.000</td>\n",
       "      <td>1350.0</td>\n",
       "      <td>0</td>\n",
       "      <td>0</td>\n",
       "      <td>0</td>\n",
       "      <td>0</td>\n",
       "      <td>1</td>\n",
       "      <td>0</td>\n",
       "      <td>0</td>\n",
       "      <td>0</td>\n",
       "      <td>0</td>\n",
       "      <td>Saskatoon</td>\n",
       "    </tr>\n",
       "  </tbody>\n",
       "</table>\n",
       "</div>"
      ],
      "text/plain": [
       "                                         Address  Bathrooms  Bedrooms  \\\n",
       "0      234 Heise CRESCENT, Saskatoon, SK S7M 4Y8        3.0       3.0   \n",
       "1     326 Ottawa AVENUE N, Saskatoon, SK S7L 3P1        2.0       4.0   \n",
       "2   1019 Lansdowne AVENUE, Saskatoon, SK S7H 2C2        2.0       4.0   \n",
       "3  107 Brookdale CRESCENT, Saskatoon, SK S7V 1K5        3.0       3.0   \n",
       "4       1208 6th AVENUE N, Saskatoon, SK S7K 2T5        4.0       4.0   \n",
       "\n",
       "  Built Year  Garage Space  Kitchens     Price  Price per Sqft  Square Feet  \\\n",
       "0       1979           1.0       1.0  309000.0         240.000       1290.0   \n",
       "1       1960           2.0       1.0  319900.0         338.000        947.0   \n",
       "2       1946           1.0       2.0  450000.0         547.125        816.0   \n",
       "3       2006           2.0       1.0  569000.0         317.000       1795.0   \n",
       "4       2006           2.0       1.0  465000.0         344.000       1350.0   \n",
       "\n",
       "   Property Type_Condominium  Property Type_Duplex  \\\n",
       "0                          0                     0   \n",
       "1                          0                     0   \n",
       "2                          0                     0   \n",
       "3                          0                     0   \n",
       "4                          0                     0   \n",
       "\n",
       "   Property Type_Manufactured Home  Property Type_Multi Family  \\\n",
       "0                                0                           0   \n",
       "1                                0                           0   \n",
       "2                                0                           0   \n",
       "3                                0                           0   \n",
       "4                                0                           0   \n",
       "\n",
       "   Property Type_Retail  Property Type_Single Family Residence  \\\n",
       "0                     0                                      1   \n",
       "1                     0                                      1   \n",
       "2                     0                                      1   \n",
       "3                     1                                      0   \n",
       "4                     1                                      0   \n",
       "\n",
       "   Property Type_Townhouse  Property Type_Unimproved Land  \\\n",
       "0                        0                              0   \n",
       "1                        0                              0   \n",
       "2                        0                              0   \n",
       "3                        0                              0   \n",
       "4                        0                              0   \n",
       "\n",
       "   Property Type_Warehouse       City  \n",
       "0                        0  Saskatoon  \n",
       "1                        0  Saskatoon  \n",
       "2                        0  Saskatoon  \n",
       "3                        0  Saskatoon  \n",
       "4                        0  Saskatoon  "
      ]
     },
     "execution_count": 785,
     "metadata": {},
     "output_type": "execute_result"
    }
   ],
   "source": [
    "df.head()"
   ]
  },
  {
   "cell_type": "markdown",
   "id": "efbc4730-7ff0-47b0-81e5-357db68f0e2a",
   "metadata": {},
   "source": [
    "### droping adress column bcs city extracted from address"
   ]
  },
  {
   "cell_type": "code",
   "execution_count": 786,
   "id": "05c90165-6e2c-4deb-8bf7-65696a4ed2b5",
   "metadata": {},
   "outputs": [],
   "source": [
    "df = df.drop(columns=['Address'])"
   ]
  },
  {
   "cell_type": "code",
   "execution_count": 787,
   "id": "8a0f4f9b-c69a-4c37-8594-a606470f15e0",
   "metadata": {},
   "outputs": [
    {
     "data": {
      "text/html": [
       "<div>\n",
       "<style scoped>\n",
       "    .dataframe tbody tr th:only-of-type {\n",
       "        vertical-align: middle;\n",
       "    }\n",
       "\n",
       "    .dataframe tbody tr th {\n",
       "        vertical-align: top;\n",
       "    }\n",
       "\n",
       "    .dataframe thead th {\n",
       "        text-align: right;\n",
       "    }\n",
       "</style>\n",
       "<table border=\"1\" class=\"dataframe\">\n",
       "  <thead>\n",
       "    <tr style=\"text-align: right;\">\n",
       "      <th></th>\n",
       "      <th>Bathrooms</th>\n",
       "      <th>Bedrooms</th>\n",
       "      <th>Built Year</th>\n",
       "      <th>Garage Space</th>\n",
       "      <th>Kitchens</th>\n",
       "      <th>Price</th>\n",
       "      <th>Price per Sqft</th>\n",
       "      <th>Square Feet</th>\n",
       "      <th>Property Type_Condominium</th>\n",
       "      <th>Property Type_Duplex</th>\n",
       "      <th>Property Type_Manufactured Home</th>\n",
       "      <th>Property Type_Multi Family</th>\n",
       "      <th>Property Type_Retail</th>\n",
       "      <th>Property Type_Single Family Residence</th>\n",
       "      <th>Property Type_Townhouse</th>\n",
       "      <th>Property Type_Unimproved Land</th>\n",
       "      <th>Property Type_Warehouse</th>\n",
       "      <th>City</th>\n",
       "    </tr>\n",
       "  </thead>\n",
       "  <tbody>\n",
       "    <tr>\n",
       "      <th>0</th>\n",
       "      <td>3.0</td>\n",
       "      <td>3.0</td>\n",
       "      <td>1979</td>\n",
       "      <td>1.0</td>\n",
       "      <td>1.0</td>\n",
       "      <td>309000.0</td>\n",
       "      <td>240.000</td>\n",
       "      <td>1290.0</td>\n",
       "      <td>0</td>\n",
       "      <td>0</td>\n",
       "      <td>0</td>\n",
       "      <td>0</td>\n",
       "      <td>0</td>\n",
       "      <td>1</td>\n",
       "      <td>0</td>\n",
       "      <td>0</td>\n",
       "      <td>0</td>\n",
       "      <td>Saskatoon</td>\n",
       "    </tr>\n",
       "    <tr>\n",
       "      <th>1</th>\n",
       "      <td>2.0</td>\n",
       "      <td>4.0</td>\n",
       "      <td>1960</td>\n",
       "      <td>2.0</td>\n",
       "      <td>1.0</td>\n",
       "      <td>319900.0</td>\n",
       "      <td>338.000</td>\n",
       "      <td>947.0</td>\n",
       "      <td>0</td>\n",
       "      <td>0</td>\n",
       "      <td>0</td>\n",
       "      <td>0</td>\n",
       "      <td>0</td>\n",
       "      <td>1</td>\n",
       "      <td>0</td>\n",
       "      <td>0</td>\n",
       "      <td>0</td>\n",
       "      <td>Saskatoon</td>\n",
       "    </tr>\n",
       "    <tr>\n",
       "      <th>2</th>\n",
       "      <td>2.0</td>\n",
       "      <td>4.0</td>\n",
       "      <td>1946</td>\n",
       "      <td>1.0</td>\n",
       "      <td>2.0</td>\n",
       "      <td>450000.0</td>\n",
       "      <td>547.125</td>\n",
       "      <td>816.0</td>\n",
       "      <td>0</td>\n",
       "      <td>0</td>\n",
       "      <td>0</td>\n",
       "      <td>0</td>\n",
       "      <td>0</td>\n",
       "      <td>1</td>\n",
       "      <td>0</td>\n",
       "      <td>0</td>\n",
       "      <td>0</td>\n",
       "      <td>Saskatoon</td>\n",
       "    </tr>\n",
       "    <tr>\n",
       "      <th>3</th>\n",
       "      <td>3.0</td>\n",
       "      <td>3.0</td>\n",
       "      <td>2006</td>\n",
       "      <td>2.0</td>\n",
       "      <td>1.0</td>\n",
       "      <td>569000.0</td>\n",
       "      <td>317.000</td>\n",
       "      <td>1795.0</td>\n",
       "      <td>0</td>\n",
       "      <td>0</td>\n",
       "      <td>0</td>\n",
       "      <td>0</td>\n",
       "      <td>1</td>\n",
       "      <td>0</td>\n",
       "      <td>0</td>\n",
       "      <td>0</td>\n",
       "      <td>0</td>\n",
       "      <td>Saskatoon</td>\n",
       "    </tr>\n",
       "    <tr>\n",
       "      <th>4</th>\n",
       "      <td>4.0</td>\n",
       "      <td>4.0</td>\n",
       "      <td>2006</td>\n",
       "      <td>2.0</td>\n",
       "      <td>1.0</td>\n",
       "      <td>465000.0</td>\n",
       "      <td>344.000</td>\n",
       "      <td>1350.0</td>\n",
       "      <td>0</td>\n",
       "      <td>0</td>\n",
       "      <td>0</td>\n",
       "      <td>0</td>\n",
       "      <td>1</td>\n",
       "      <td>0</td>\n",
       "      <td>0</td>\n",
       "      <td>0</td>\n",
       "      <td>0</td>\n",
       "      <td>Saskatoon</td>\n",
       "    </tr>\n",
       "  </tbody>\n",
       "</table>\n",
       "</div>"
      ],
      "text/plain": [
       "   Bathrooms  Bedrooms Built Year  Garage Space  Kitchens     Price  \\\n",
       "0        3.0       3.0       1979           1.0       1.0  309000.0   \n",
       "1        2.0       4.0       1960           2.0       1.0  319900.0   \n",
       "2        2.0       4.0       1946           1.0       2.0  450000.0   \n",
       "3        3.0       3.0       2006           2.0       1.0  569000.0   \n",
       "4        4.0       4.0       2006           2.0       1.0  465000.0   \n",
       "\n",
       "   Price per Sqft  Square Feet  Property Type_Condominium  \\\n",
       "0         240.000       1290.0                          0   \n",
       "1         338.000        947.0                          0   \n",
       "2         547.125        816.0                          0   \n",
       "3         317.000       1795.0                          0   \n",
       "4         344.000       1350.0                          0   \n",
       "\n",
       "   Property Type_Duplex  Property Type_Manufactured Home  \\\n",
       "0                     0                                0   \n",
       "1                     0                                0   \n",
       "2                     0                                0   \n",
       "3                     0                                0   \n",
       "4                     0                                0   \n",
       "\n",
       "   Property Type_Multi Family  Property Type_Retail  \\\n",
       "0                           0                     0   \n",
       "1                           0                     0   \n",
       "2                           0                     0   \n",
       "3                           0                     1   \n",
       "4                           0                     1   \n",
       "\n",
       "   Property Type_Single Family Residence  Property Type_Townhouse  \\\n",
       "0                                      1                        0   \n",
       "1                                      1                        0   \n",
       "2                                      1                        0   \n",
       "3                                      0                        0   \n",
       "4                                      0                        0   \n",
       "\n",
       "   Property Type_Unimproved Land  Property Type_Warehouse       City  \n",
       "0                              0                        0  Saskatoon  \n",
       "1                              0                        0  Saskatoon  \n",
       "2                              0                        0  Saskatoon  \n",
       "3                              0                        0  Saskatoon  \n",
       "4                              0                        0  Saskatoon  "
      ]
     },
     "execution_count": 787,
     "metadata": {},
     "output_type": "execute_result"
    }
   ],
   "source": [
    "df.head()"
   ]
  },
  {
   "cell_type": "markdown",
   "id": "f4f99dbf-1d6c-413d-99f5-adca33f0ad79",
   "metadata": {},
   "source": [
    "### visualizing not null and null values in city column"
   ]
  },
  {
   "cell_type": "code",
   "execution_count": 790,
   "id": "fdf28aa6-daa9-4370-aa0d-50354e51825b",
   "metadata": {},
   "outputs": [
    {
     "name": "stderr",
     "output_type": "stream",
     "text": [
      "C:\\Users\\ASUS\\AppData\\Local\\Temp\\ipykernel_16824\\2870372027.py:13: FutureWarning: \n",
      "\n",
      "Passing `palette` without assigning `hue` is deprecated and will be removed in v0.14.0. Assign the `x` variable to `hue` and set `legend=False` for the same effect.\n",
      "\n",
      "  sns.barplot(x='City', y='Count', data=visual_df, palette='viridis')\n"
     ]
    },
    {
     "data": {
      "image/png": "[encoded data removed]",
      "text/plain": [
       "<Figure size 800x500 with 1 Axes>"
      ]
     },
     "metadata": {},
     "output_type": "display_data"
    }
   ],
   "source": [
    "null_counts = df['City'].isnull().value_counts()\n",
    "\n",
    "# Prepare the data for visualization\n",
    "visual_data = {\n",
    "    'City': ['Not Null', 'Null'],\n",
    "    'Count': [len(df) - null_counts[True], null_counts[True]]\n",
    "}\n",
    "\n",
    "visual_df = pd.DataFrame(visual_data)\n",
    "\n",
    "# Plotting\n",
    "plt.figure(figsize=(8, 5))\n",
    "sns.barplot(x='City', y='Count', data=visual_df, palette='viridis')\n",
    "plt.title('Null Values in City Column')\n",
    "plt.xlabel('City Status')\n",
    "plt.ylabel('Count')\n",
    "plt.xticks(rotation=0)\n",
    "plt.show()"
   ]
  },
  {
   "cell_type": "code",
   "execution_count": 791,
   "id": "d1a1e1f2-77e4-48c0-9582-06d78c95d068",
   "metadata": {},
   "outputs": [
    {
     "data": {
      "text/plain": [
       "Bathrooms                                75\n",
       "Bedrooms                                 75\n",
       "Built Year                               63\n",
       "Garage Space                              0\n",
       "Kitchens                                  0\n",
       "Price                                     0\n",
       "Price per Sqft                           75\n",
       "Square Feet                              14\n",
       "Property Type_Condominium                 0\n",
       "Property Type_Duplex                      0\n",
       "Property Type_Manufactured Home           0\n",
       "Property Type_Multi Family                0\n",
       "Property Type_Retail                      0\n",
       "Property Type_Single Family Residence     0\n",
       "Property Type_Townhouse                   0\n",
       "Property Type_Unimproved Land             0\n",
       "Property Type_Warehouse                   0\n",
       "City                                      2\n",
       "dtype: int64"
      ]
     },
     "execution_count": 791,
     "metadata": {},
     "output_type": "execute_result"
    }
   ],
   "source": [
    "df.isnull().sum()"
   ]
  },
  {
   "cell_type": "code",
   "execution_count": 795,
   "id": "325bc1d9-967c-430e-a24c-ef04eca248a0",
   "metadata": {},
   "outputs": [
    {
     "data": {
      "text/plain": [
       "Bathrooms                                float64\n",
       "Bedrooms                                 float64\n",
       "Built Year                                object\n",
       "Garage Space                             float64\n",
       "Kitchens                                 float64\n",
       "Price                                    float64\n",
       "Price per Sqft                           float64\n",
       "Square Feet                              float64\n",
       "Property Type_Condominium                  int32\n",
       "Property Type_Duplex                       int32\n",
       "Property Type_Manufactured Home            int32\n",
       "Property Type_Multi Family                 int32\n",
       "Property Type_Retail                       int32\n",
       "Property Type_Single Family Residence      int32\n",
       "Property Type_Townhouse                    int32\n",
       "Property Type_Unimproved Land              int32\n",
       "Property Type_Warehouse                    int32\n",
       "City                                      object\n",
       "dtype: object"
      ]
     },
     "execution_count": 795,
     "metadata": {},
     "output_type": "execute_result"
    }
   ],
   "source": [
    "df.dtypes"
   ]
  },
  {
   "cell_type": "code",
   "execution_count": 796,
   "id": "ccc89717-e7b5-4082-afe0-5b074140d5f0",
   "metadata": {},
   "outputs": [],
   "source": [
    "# Convert Built Year to integer\n",
    "df['Built Year'] = pd.to_numeric(df['Built Year'], errors='coerce')\n"
   ]
  },
  {
   "cell_type": "code",
   "execution_count": 797,
   "id": "03c2af0e-dd0e-4d16-b80d-3e85606611fc",
   "metadata": {},
   "outputs": [
    {
     "data": {
      "text/plain": [
       "Bathrooms                                float64\n",
       "Bedrooms                                 float64\n",
       "Built Year                               float64\n",
       "Garage Space                             float64\n",
       "Kitchens                                 float64\n",
       "Price                                    float64\n",
       "Price per Sqft                           float64\n",
       "Square Feet                              float64\n",
       "Property Type_Condominium                  int32\n",
       "Property Type_Duplex                       int32\n",
       "Property Type_Manufactured Home            int32\n",
       "Property Type_Multi Family                 int32\n",
       "Property Type_Retail                       int32\n",
       "Property Type_Single Family Residence      int32\n",
       "Property Type_Townhouse                    int32\n",
       "Property Type_Unimproved Land              int32\n",
       "Property Type_Warehouse                    int32\n",
       "City                                      object\n",
       "dtype: object"
      ]
     },
     "execution_count": 797,
     "metadata": {},
     "output_type": "execute_result"
    }
   ],
   "source": [
    "df.dtypes"
   ]
  },
  {
   "cell_type": "code",
   "execution_count": 801,
   "id": "d8aa12e3-2284-4421-ba59-6671980eaf6f",
   "metadata": {},
   "outputs": [
    {
     "data": {
      "text/plain": [
       "City\n",
       "Regina          814\n",
       "Saskatoon       740\n",
       "White City        7\n",
       "Emerald Park      5\n",
       "Pilot Butte       2\n",
       "Grand Coulee      1\n",
       "Name: count, dtype: int64"
      ]
     },
     "execution_count": 801,
     "metadata": {},
     "output_type": "execute_result"
    }
   ],
   "source": [
    "df[\"City\"].value_counts()"
   ]
  },
  {
   "cell_type": "code",
   "execution_count": 802,
   "id": "cb1f4ced-af9c-4fab-8d91-2c7ae439bdc8",
   "metadata": {},
   "outputs": [],
   "source": [
    "# Dropping rows where City is neither Saskatoon nor Regina\n",
    "df = df[df['City'].isin(['Saskatoon', 'Regina'])]\n"
   ]
  },
  {
   "cell_type": "code",
   "execution_count": 803,
   "id": "dbb3022c-c5dc-46d8-9703-307a846073e6",
   "metadata": {},
   "outputs": [
    {
     "data": {
      "text/plain": [
       "City\n",
       "Regina       814\n",
       "Saskatoon    740\n",
       "Name: count, dtype: int64"
      ]
     },
     "execution_count": 803,
     "metadata": {},
     "output_type": "execute_result"
    }
   ],
   "source": [
    "df[\"City\"].value_counts()"
   ]
  },
  {
   "cell_type": "code",
   "execution_count": 805,
   "id": "e85e23a3-4165-4dd4-810a-ce6aa0569ef9",
   "metadata": {},
   "outputs": [
    {
     "data": {
      "text/plain": [
       "(1554, 18)"
      ]
     },
     "execution_count": 805,
     "metadata": {},
     "output_type": "execute_result"
    }
   ],
   "source": [
    "df.shape"
   ]
  }
 ],
 "metadata": {
  "kernelspec": {
   "display_name": "Python 3 (ipykernel)",
   "language": "python",
   "name": "python3"
  },
  "language_info": {
   "codemirror_mode": {
    "name": "ipython",
    "version": 3
   },
   "file_extension": ".py",
   "mimetype": "text/x-python",
   "name": "python",
   "nbconvert_exporter": "python",
   "pygments_lexer": "ipython3",
   "version": "3.9.13"
  }
 },
 "nbformat": 4,
 "nbformat_minor": 5
}
